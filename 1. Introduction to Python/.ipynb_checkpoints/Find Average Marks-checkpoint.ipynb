{
 "cells": [
  {
   "cell_type": "markdown",
   "metadata": {},
   "source": [
    "## Find Average Marks"
   ]
  },
  {
   "cell_type": "markdown",
   "metadata": {},
   "source": [
    "### Input Format:\n",
    "\n",
    "3 Test Marks(in diffrent lines)"
   ]
  },
  {
   "cell_type": "markdown",
   "metadata": {},
   "source": [
    "### Output Format:\n",
    "\n",
    "Average"
   ]
  },
  {
   "cell_type": "markdown",
   "metadata": {},
   "source": [
    "### Sample Input 1:\n",
    "3\n",
    "4\n",
    "6\n",
    "\n",
    "### Sample Output 1:\n",
    "4.333333333333333"
   ]
  },
  {
   "cell_type": "markdown",
   "metadata": {},
   "source": [
    "### Sample Input 2:\n",
    "5\n",
    "10\n",
    "5\n",
    "\n",
    "### Sample Output 2:\n",
    "6.666666666666667"
   ]
  },
  {
   "cell_type": "code",
   "execution_count": 9,
   "metadata": {},
   "outputs": [
    {
     "name": "stdout",
     "output_type": "stream",
     "text": [
      "5\n",
      "10\n",
      "5\n",
      "6.666666666666667\n"
     ]
    }
   ],
   "source": [
    "# Average of 3 marks\n",
    "marks1 = int(input())\n",
    "marks2 = int(input())\n",
    "marks3 = int(input())\n",
    "\n",
    "avg_marks = (marks1 + marks2 + marks3) / 3\n",
    "print(avg_marks)"
   ]
  }
 ],
 "metadata": {
  "kernelspec": {
   "display_name": "Python 3",
   "language": "python",
   "name": "python3"
  },
  "language_info": {
   "codemirror_mode": {
    "name": "ipython",
    "version": 3
   },
   "file_extension": ".py",
   "mimetype": "text/x-python",
   "name": "python",
   "nbconvert_exporter": "python",
   "pygments_lexer": "ipython3",
   "version": "3.7.7"
  }
 },
 "nbformat": 4,
 "nbformat_minor": 4
}

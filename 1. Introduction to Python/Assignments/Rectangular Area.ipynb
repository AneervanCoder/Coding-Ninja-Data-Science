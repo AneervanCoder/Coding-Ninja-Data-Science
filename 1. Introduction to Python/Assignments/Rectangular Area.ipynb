{
 "cells": [
  {
   "cell_type": "markdown",
   "metadata": {},
   "source": [
    "## Rectangular  Area\n",
    "\n",
    "You are given a rectangle in a plane. The corner coordinates of this rectangle is provided to you. You have to print the amount of area of the plane covered by this rectangles.\n",
    "The end coordinates are provided as four integral values: x1, y1, x2, y2. It is given that x1 < x2 and y1 < y2."
   ]
  },
  {
   "cell_type": "markdown",
   "metadata": {},
   "source": [
    "#### Input Format:\n",
    "\n",
    "The first line of input contains an integer x1 (1 <= x1 <= 10)\n",
    "The second line of input contains an integer y1 (1 <= y1 <= 10) \n",
    "The third line of input contains an integer x2 (1 <= x2 <= 10)\n",
    "The fourth line of input contains an integer y2 (1 <= y2 <= 10)"
   ]
  },
  {
   "cell_type": "markdown",
   "metadata": {},
   "source": [
    "#### Contraints:\n",
    "Time Limit = 1 sec"
   ]
  },
  {
   "cell_type": "markdown",
   "metadata": {},
   "source": [
    "#### Output Format:\n",
    "The first and only line of output contains the result"
   ]
  },
  {
   "cell_type": "markdown",
   "metadata": {},
   "source": [
    "#### Sample Input:\n",
    "1\n",
    "1\n",
    "3\n",
    "3\n",
    "\n",
    "#### Sample Output:\n",
    "4"
   ]
  },
  {
   "cell_type": "code",
   "execution_count": 2,
   "metadata": {},
   "outputs": [
    {
     "name": "stdout",
     "output_type": "stream",
     "text": [
      "1\n",
      "1\n",
      "3\n",
      "3\n",
      "4\n"
     ]
    }
   ],
   "source": [
    "# Rectangular Area\n",
    "x1 = int(input())\n",
    "y1 = int(input())\n",
    "\n",
    "x2 = int(input())\n",
    "y2 = int(input())\n",
    "\n",
    "area = (x2 - x1) * (y2 - y1);\n",
    "print(area)"
   ]
  }
 ],
 "metadata": {
  "kernelspec": {
   "display_name": "Python 3",
   "language": "python",
   "name": "python3"
  },
  "language_info": {
   "codemirror_mode": {
    "name": "ipython",
    "version": 3
   },
   "file_extension": ".py",
   "mimetype": "text/x-python",
   "name": "python",
   "nbconvert_exporter": "python",
   "pygments_lexer": "ipython3",
   "version": "3.7.7"
  }
 },
 "nbformat": 4,
 "nbformat_minor": 4
}

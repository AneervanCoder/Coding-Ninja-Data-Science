{
 "cells": [
  {
   "cell_type": "markdown",
   "id": "67eb0885",
   "metadata": {},
   "source": [
    "## Multiples of 3"
   ]
  },
  {
   "cell_type": "markdown",
   "id": "ab363821",
   "metadata": {},
   "source": [
    "#### Problem Statement:\n",
    "Given an integer array of size 10. Print the index of elements which ar multiple of 3.<br>\n",
    "<br>\n",
    "__Note:__ Generate the following array<br>\n",
    "array([1,3,5,7,9,11,13,15,17,19]) <br>\n",
    "<br>\n",
    "Print the index of elements\n",
    "\n",
    "#### Output Format:\n",
    "index1 index2 index3...."
   ]
  },
  {
   "cell_type": "code",
   "execution_count": 1,
   "id": "65334c15",
   "metadata": {},
   "outputs": [],
   "source": [
    "import numpy as np"
   ]
  },
  {
   "cell_type": "code",
   "execution_count": 6,
   "id": "04aed99a",
   "metadata": {},
   "outputs": [
    {
     "data": {
      "text/plain": [
       "array([ 1,  3,  5,  7,  9, 11, 13, 15, 17, 19])"
      ]
     },
     "execution_count": 6,
     "metadata": {},
     "output_type": "execute_result"
    }
   ],
   "source": [
    "a = np.arange(1,20,2)\n",
    "a"
   ]
  },
  {
   "cell_type": "code",
   "execution_count": 7,
   "id": "69a9da34",
   "metadata": {},
   "outputs": [
    {
     "name": "stdout",
     "output_type": "stream",
     "text": [
      "(array([1, 4, 7], dtype=int64),)\n"
     ]
    }
   ],
   "source": [
    "b = np.where(a % 3 == 0)\n",
    "print(b)"
   ]
  }
 ],
 "metadata": {
  "kernelspec": {
   "display_name": "Python 3",
   "language": "python",
   "name": "python3"
  },
  "language_info": {
   "codemirror_mode": {
    "name": "ipython",
    "version": 3
   },
   "file_extension": ".py",
   "mimetype": "text/x-python",
   "name": "python",
   "nbconvert_exporter": "python",
   "pygments_lexer": "ipython3",
   "version": "3.7.10"
  },
  "toc": {
   "base_numbering": 1,
   "nav_menu": {},
   "number_sections": false,
   "sideBar": true,
   "skip_h1_title": false,
   "title_cell": "Table of Contents",
   "title_sidebar": "Contents",
   "toc_cell": false,
   "toc_position": {},
   "toc_section_display": true,
   "toc_window_display": false
  }
 },
 "nbformat": 4,
 "nbformat_minor": 5
}

{
 "cells": [
  {
   "cell_type": "markdown",
   "id": "3aaf9fdc",
   "metadata": {},
   "source": [
    "## Replace Max"
   ]
  },
  {
   "cell_type": "markdown",
   "id": "65aa8cfc",
   "metadata": {},
   "source": [
    "#### Problem Statement:\n",
    "Given an integer array of size 10 and replace the first occurrence of maximum value by 0.<br>\n",
    "<br>\n",
    "__Note:__ Generate the following array<br>\n",
    "array([11,2,13,4,15,6,27,8,19]) <br>\n",
    "<br>\n",
    "Print the Numpy array\n",
    "\n",
    "#### Output Format:\n",
    "firstElement \n",
    "secondElement \n",
    "..."
   ]
  },
  {
   "cell_type": "code",
   "execution_count": 1,
   "id": "64647482",
   "metadata": {},
   "outputs": [],
   "source": [
    "import numpy as np"
   ]
  },
  {
   "cell_type": "code",
   "execution_count": 3,
   "id": "e1db66b9",
   "metadata": {},
   "outputs": [
    {
     "data": {
      "text/plain": [
       "array([11,  2, 13,  4, 15,  6, 27,  8, 19])"
      ]
     },
     "execution_count": 3,
     "metadata": {},
     "output_type": "execute_result"
    }
   ],
   "source": [
    "a = np.array([11,2,13,4,15,6,27,8,19])\n",
    "a"
   ]
  },
  {
   "cell_type": "code",
   "execution_count": 4,
   "id": "c870ecfc",
   "metadata": {},
   "outputs": [
    {
     "data": {
      "text/plain": [
       "array([11,  2, 13,  4, 15,  6,  0,  8, 19])"
      ]
     },
     "execution_count": 4,
     "metadata": {},
     "output_type": "execute_result"
    }
   ],
   "source": [
    "a[a.argmax()] = 0\n",
    "a"
   ]
  },
  {
   "cell_type": "code",
   "execution_count": null,
   "id": "5446d673",
   "metadata": {},
   "outputs": [],
   "source": []
  }
 ],
 "metadata": {
  "kernelspec": {
   "display_name": "Python 3",
   "language": "python",
   "name": "python3"
  },
  "language_info": {
   "codemirror_mode": {
    "name": "ipython",
    "version": 3
   },
   "file_extension": ".py",
   "mimetype": "text/x-python",
   "name": "python",
   "nbconvert_exporter": "python",
   "pygments_lexer": "ipython3",
   "version": "3.7.10"
  },
  "toc": {
   "base_numbering": 1,
   "nav_menu": {},
   "number_sections": false,
   "sideBar": true,
   "skip_h1_title": false,
   "title_cell": "Table of Contents",
   "title_sidebar": "Contents",
   "toc_cell": false,
   "toc_position": {},
   "toc_section_display": true,
   "toc_window_display": false
  }
 },
 "nbformat": 4,
 "nbformat_minor": 5
}

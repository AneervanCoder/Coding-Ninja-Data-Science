{
 "cells": [
  {
   "cell_type": "markdown",
   "id": "fc5ede04",
   "metadata": {},
   "source": [
    "#### To add extra column named \"Killed+Wounded\" in the terrorismData.csv file"
   ]
  },
  {
   "cell_type": "code",
   "execution_count": 1,
   "id": "5a947847",
   "metadata": {},
   "outputs": [],
   "source": [
    "import numpy as np\n",
    "import csv"
   ]
  },
  {
   "cell_type": "code",
   "execution_count": 13,
   "id": "1775ed54",
   "metadata": {},
   "outputs": [
    {
     "data": {
      "text/plain": [
       "<csv.DictReader at 0x1ea73458c08>"
      ]
     },
     "execution_count": 13,
     "metadata": {},
     "output_type": "execute_result"
    }
   ],
   "source": [
    "file_obj = open('terrorismData.csv')\n",
    "data = csv.DictReader(file_obj, skipinitialspace = True)\n",
    "data"
   ]
  },
  {
   "cell_type": "code",
   "execution_count": 9,
   "id": "9ad45c52",
   "metadata": {},
   "outputs": [
    {
     "name": "stderr",
     "output_type": "stream",
     "text": [
      "C:\\Users\\AneervanRay\\Anaconda_3\\lib\\site-packages\\ipykernel_launcher.py:10: FutureWarning: elementwise comparison failed; returning scalar instead, but in the future will perform elementwise comparison\n",
      "  # Remove the CWD from sys.path while we load stuff.\n"
     ]
    },
    {
     "data": {
      "text/plain": [
       "array([], dtype=float64)"
      ]
     },
     "execution_count": 9,
     "metadata": {},
     "output_type": "execute_result"
    }
   ],
   "source": [
    "killed = []\n",
    "wounded = []\n",
    "country = []\n",
    "for row in data:\n",
    "    killed.append(row['Killed'])\n",
    "    country.append(row['Country'])\n",
    "    wounded.append(row['Wounded'])\n",
    "\n",
    "np_killed = np.array(killed)\n",
    "np_killed[np_killed == ''] = '0.0'\n",
    "np_killed = np.array(np_killed, dtype = float)"
   ]
  },
  {
   "cell_type": "code",
   "execution_count": 11,
   "id": "3d308334",
   "metadata": {},
   "outputs": [
    {
     "name": "stderr",
     "output_type": "stream",
     "text": [
      "C:\\Users\\AneervanRay\\Anaconda_3\\lib\\site-packages\\ipykernel_launcher.py:2: FutureWarning: elementwise comparison failed; returning scalar instead, but in the future will perform elementwise comparison\n",
      "  \n"
     ]
    }
   ],
   "source": [
    "np_wounded = np.array(wounded)\n",
    "np_wounded[np_wounded == ''] = '0.0'\n",
    "np_wounded = np.array(np_wounded, dtype = float)"
   ]
  },
  {
   "cell_type": "code",
   "execution_count": 12,
   "id": "b802c85d",
   "metadata": {},
   "outputs": [
    {
     "data": {
      "text/plain": [
       "array([], dtype=float64)"
      ]
     },
     "execution_count": 12,
     "metadata": {},
     "output_type": "execute_result"
    }
   ],
   "source": [
    "killed_wounded = np_killed + np_wounded\n",
    "killed_wounded"
   ]
  },
  {
   "cell_type": "code",
   "execution_count": 15,
   "id": "eef56344",
   "metadata": {},
   "outputs": [
    {
     "name": "stderr",
     "output_type": "stream",
     "text": [
      "C:\\Users\\AneervanRay\\Anaconda_3\\lib\\site-packages\\ipykernel_launcher.py:2: FutureWarning: elementwise comparison failed; returning scalar instead, but in the future will perform elementwise comparison\n",
      "  \n"
     ]
    },
    {
     "data": {
      "text/plain": [
       "False"
      ]
     },
     "execution_count": 15,
     "metadata": {},
     "output_type": "execute_result"
    }
   ],
   "source": [
    "np_country = np.array(country)\n",
    "np_country == 'India'"
   ]
  },
  {
   "cell_type": "code",
   "execution_count": null,
   "id": "b8a19bf5",
   "metadata": {},
   "outputs": [],
   "source": []
  }
 ],
 "metadata": {
  "kernelspec": {
   "display_name": "Python 3",
   "language": "python",
   "name": "python3"
  },
  "language_info": {
   "codemirror_mode": {
    "name": "ipython",
    "version": 3
   },
   "file_extension": ".py",
   "mimetype": "text/x-python",
   "name": "python",
   "nbconvert_exporter": "python",
   "pygments_lexer": "ipython3",
   "version": "3.7.10"
  },
  "toc": {
   "base_numbering": 1,
   "nav_menu": {},
   "number_sections": false,
   "sideBar": true,
   "skip_h1_title": false,
   "title_cell": "Table of Contents",
   "title_sidebar": "Contents",
   "toc_cell": false,
   "toc_position": {},
   "toc_section_display": true,
   "toc_window_display": false
  }
 },
 "nbformat": 4,
 "nbformat_minor": 5
}

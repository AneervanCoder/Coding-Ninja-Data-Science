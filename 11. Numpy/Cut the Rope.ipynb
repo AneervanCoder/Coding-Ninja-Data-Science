{
 "cells": [
  {
   "cell_type": "markdown",
   "id": "459dd00f",
   "metadata": {},
   "source": [
    "## Cut the Rope"
   ]
  },
  {
   "cell_type": "markdown",
   "id": "4e2ad864",
   "metadata": {},
   "source": [
    "#### Problem Statement:\n",
    "You are given a rope of length 5m. Cut the rope into 9 parts such that each is of equal length.<br>\n",
    "Note: Array elements are the points where cut is to be made and round upto 2 decimal place.<br>\n",
    "Print the array element\n",
    "\n",
    "#### Output Format:\n",
    "element1<br>\n",
    "element2<br>\n",
    "element<br>\n",
    ".\n",
    "."
   ]
  },
  {
   "cell_type": "code",
   "execution_count": 1,
   "id": "d57c15e3",
   "metadata": {},
   "outputs": [],
   "source": [
    "import numpy as np"
   ]
  },
  {
   "cell_type": "code",
   "execution_count": 2,
   "id": "4637c03e",
   "metadata": {},
   "outputs": [
    {
     "data": {
      "text/plain": [
       "array([1. , 1.5, 2. , 2.5, 3. , 3.5, 4. , 4.5, 5. ])"
      ]
     },
     "execution_count": 2,
     "metadata": {},
     "output_type": "execute_result"
    }
   ],
   "source": [
    "cut = np.linspace(1, 5, 9)\n",
    "cut"
   ]
  },
  {
   "cell_type": "code",
   "execution_count": null,
   "id": "74c767dc",
   "metadata": {},
   "outputs": [],
   "source": []
  }
 ],
 "metadata": {
  "kernelspec": {
   "display_name": "Python 3",
   "language": "python",
   "name": "python3"
  },
  "language_info": {
   "codemirror_mode": {
    "name": "ipython",
    "version": 3
   },
   "file_extension": ".py",
   "mimetype": "text/x-python",
   "name": "python",
   "nbconvert_exporter": "python",
   "pygments_lexer": "ipython3",
   "version": "3.7.10"
  },
  "toc": {
   "base_numbering": 1,
   "nav_menu": {},
   "number_sections": false,
   "sideBar": true,
   "skip_h1_title": false,
   "title_cell": "Table of Contents",
   "title_sidebar": "Contents",
   "toc_cell": false,
   "toc_position": {},
   "toc_section_display": true,
   "toc_window_display": false
  }
 },
 "nbformat": 4,
 "nbformat_minor": 5
}

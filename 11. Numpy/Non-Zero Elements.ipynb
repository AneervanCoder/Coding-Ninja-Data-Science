{
 "cells": [
  {
   "cell_type": "markdown",
   "id": "58bb440e",
   "metadata": {},
   "source": [
    "## Non-Zero elements"
   ]
  },
  {
   "cell_type": "markdown",
   "id": "226cd32a",
   "metadata": {},
   "source": [
    "#### Problem Statement\n",
    "Find indices of non-zero elements from the array<br>\n",
    "[1,2,0,0,4,0]? <br>\n",
    "<br>\n",
    "Print the index of non-zero elements\n",
    "\n",
    "#### Output Fromat:\n",
    "index1 index2 index3"
   ]
  },
  {
   "cell_type": "code",
   "execution_count": 1,
   "id": "7bcc1845",
   "metadata": {},
   "outputs": [],
   "source": [
    "import numpy as np"
   ]
  },
  {
   "cell_type": "code",
   "execution_count": 4,
   "id": "8518e905",
   "metadata": {},
   "outputs": [
    {
     "name": "stdout",
     "output_type": "stream",
     "text": [
      "(array([0, 1, 4], dtype=int64),)\n"
     ]
    }
   ],
   "source": [
    "a = np.array([1,2,0,0,4,0])\n",
    "b = np.where(a != 0)\n",
    "print(b)"
   ]
  }
 ],
 "metadata": {
  "kernelspec": {
   "display_name": "Python 3",
   "language": "python",
   "name": "python3"
  },
  "language_info": {
   "codemirror_mode": {
    "name": "ipython",
    "version": 3
   },
   "file_extension": ".py",
   "mimetype": "text/x-python",
   "name": "python",
   "nbconvert_exporter": "python",
   "pygments_lexer": "ipython3",
   "version": "3.7.10"
  },
  "toc": {
   "base_numbering": 1,
   "nav_menu": {},
   "number_sections": false,
   "sideBar": true,
   "skip_h1_title": false,
   "title_cell": "Table of Contents",
   "title_sidebar": "Contents",
   "toc_cell": false,
   "toc_position": {},
   "toc_section_display": true,
   "toc_window_display": false
  }
 },
 "nbformat": 4,
 "nbformat_minor": 5
}

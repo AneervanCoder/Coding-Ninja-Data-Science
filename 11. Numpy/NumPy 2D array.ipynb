{
 "cells": [
  {
   "cell_type": "markdown",
   "id": "d4171d89",
   "metadata": {},
   "source": [
    "## NumPy 2D array"
   ]
  },
  {
   "cell_type": "markdown",
   "id": "f99130eb",
   "metadata": {},
   "source": [
    "#### Problem Statement:\n",
    "Given a 2D list, create a numpy 2D array using it.\n",
    "Note: Given 2D list is [[1,2,3],[4,5,6],[7,8,9]]\n",
    "Print the Numpy array\n",
    "\n",
    "#### Output Format:\n",
    "numpyArray"
   ]
  },
  {
   "cell_type": "code",
   "execution_count": 1,
   "id": "edf5fc5a",
   "metadata": {},
   "outputs": [],
   "source": [
    "import numpy as np"
   ]
  },
  {
   "cell_type": "code",
   "execution_count": 2,
   "id": "ed13c3a9",
   "metadata": {},
   "outputs": [
    {
     "data": {
      "text/plain": [
       "array([[1, 2, 3],\n",
       "       [4, 5, 6],\n",
       "       [7, 8, 9]])"
      ]
     },
     "execution_count": 2,
     "metadata": {},
     "output_type": "execute_result"
    }
   ],
   "source": [
    "list = [[1,2,3],[4,5,6],[7,8,9]]\n",
    "arr = np.array(list)\n",
    "arr"
   ]
  },
  {
   "cell_type": "code",
   "execution_count": null,
   "id": "083712d5",
   "metadata": {},
   "outputs": [],
   "source": []
  }
 ],
 "metadata": {
  "kernelspec": {
   "display_name": "Python 3",
   "language": "python",
   "name": "python3"
  },
  "language_info": {
   "codemirror_mode": {
    "name": "ipython",
    "version": 3
   },
   "file_extension": ".py",
   "mimetype": "text/x-python",
   "name": "python",
   "nbconvert_exporter": "python",
   "pygments_lexer": "ipython3",
   "version": "3.7.10"
  },
  "toc": {
   "base_numbering": 1,
   "nav_menu": {},
   "number_sections": false,
   "sideBar": true,
   "skip_h1_title": false,
   "title_cell": "Table of Contents",
   "title_sidebar": "Contents",
   "toc_cell": false,
   "toc_position": {},
   "toc_section_display": true,
   "toc_window_display": false
  }
 },
 "nbformat": 4,
 "nbformat_minor": 5
}

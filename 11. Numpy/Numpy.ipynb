{
 "cells": [
  {
   "cell_type": "markdown",
   "id": "e702a02f",
   "metadata": {},
   "source": [
    "# Numpy"
   ]
  },
  {
   "cell_type": "markdown",
   "id": "c24721e6",
   "metadata": {},
   "source": [
    "## Create Numpy Array"
   ]
  },
  {
   "cell_type": "code",
   "execution_count": 2,
   "id": "209206f9",
   "metadata": {},
   "outputs": [],
   "source": [
    "import numpy as np"
   ]
  },
  {
   "cell_type": "markdown",
   "id": "2d85d327",
   "metadata": {},
   "source": [
    "1. __np.array(object, dtype=None, *, copy=True, order='K', subok=False, ndmin=0,\n",
    "      like=None)__"
   ]
  },
  {
   "cell_type": "code",
   "execution_count": 3,
   "id": "1b64b72e",
   "metadata": {},
   "outputs": [
    {
     "name": "stdout",
     "output_type": "stream",
     "text": [
      "[1 2 3]\n",
      "<class 'numpy.ndarray'>\n"
     ]
    }
   ],
   "source": [
    "a = [1,2,3]\n",
    "b = np.array(a)\n",
    "print(b)\n",
    "print(type(b))"
   ]
  },
  {
   "cell_type": "code",
   "execution_count": 5,
   "id": "0c37c1f2",
   "metadata": {},
   "outputs": [
    {
     "name": "stdout",
     "output_type": "stream",
     "text": [
      "['1' '2' '3' '5' 'a' '4.5']\n"
     ]
    }
   ],
   "source": [
    "a = [1,2,3,'5','a',4.5]\n",
    "b = np.array(a) # numpy array can only contains homogenous elements\n",
    "print(b)"
   ]
  },
  {
   "cell_type": "code",
   "execution_count": 10,
   "id": "6b14c3a3",
   "metadata": {},
   "outputs": [
    {
     "name": "stdout",
     "output_type": "stream",
     "text": [
      "['1' '2' '3' '5' '4.5']\n"
     ]
    }
   ],
   "source": [
    "a = [1,2,3,'5',4.5]\n",
    "b = np.array(a, dtype = str) \n",
    "print(b)"
   ]
  },
  {
   "cell_type": "code",
   "execution_count": 11,
   "id": "e8883285",
   "metadata": {},
   "outputs": [
    {
     "name": "stdout",
     "output_type": "stream",
     "text": [
      "['1' '2' '3' '5' '4.5' '1' '2' '3' '5' '4.5' '1' '2' '3' '5' '4.5']\n"
     ]
    }
   ],
   "source": [
    "a = [1,2,3,'5',4.5]\n",
    "b = np.array(a * 3) \n",
    "print(b)"
   ]
  },
  {
   "cell_type": "markdown",
   "id": "76a82103",
   "metadata": {},
   "source": [
    "2. __np.ones(shape, dtype=None, order='C', *, like=None)__:Return a new array of given shape and type, filled with ones.\n",
    "<br>\n",
    "3. __np.zeros(shape, dtype=float, order='C', *, like=None)__:Return a new array of given shape and type, filled with zeros.\n",
    "<br>\n",
    "4. __np.full(shape, fill_value, dtype=None, order='C', *, like=None)__:Return a new array of given shape and type, filled with `fill_value`.\n",
    "<br>\n",
    "5. __np.empty(shape, dtype=float, order='C', *, like=None)__:Return a new array of given shape and type, without initializing entries."
   ]
  },
  {
   "cell_type": "code",
   "execution_count": 15,
   "id": "59dd9911",
   "metadata": {},
   "outputs": [
    {
     "data": {
      "text/plain": [
       "array([1, 1, 1])"
      ]
     },
     "execution_count": 15,
     "metadata": {},
     "output_type": "execute_result"
    }
   ],
   "source": [
    "b = np.ones(3, dtype = int)\n",
    "b"
   ]
  },
  {
   "cell_type": "code",
   "execution_count": 18,
   "id": "dceb76ef",
   "metadata": {},
   "outputs": [
    {
     "data": {
      "text/plain": [
       "array([[1, 1, 1],\n",
       "       [1, 1, 1]])"
      ]
     },
     "execution_count": 18,
     "metadata": {},
     "output_type": "execute_result"
    }
   ],
   "source": [
    "b = np.ones((2,3), dtype=int)\n",
    "b"
   ]
  },
  {
   "cell_type": "code",
   "execution_count": 17,
   "id": "17d1b65b",
   "metadata": {},
   "outputs": [
    {
     "data": {
      "text/plain": [
       "array([0, 0, 0])"
      ]
     },
     "execution_count": 17,
     "metadata": {},
     "output_type": "execute_result"
    }
   ],
   "source": [
    "b = np.zeros(3, dtype = int)\n",
    "b"
   ]
  },
  {
   "cell_type": "code",
   "execution_count": 19,
   "id": "92c7a38e",
   "metadata": {},
   "outputs": [
    {
     "data": {
      "text/plain": [
       "array([[0, 0, 0, 0],\n",
       "       [0, 0, 0, 0],\n",
       "       [0, 0, 0, 0]])"
      ]
     },
     "execution_count": 19,
     "metadata": {},
     "output_type": "execute_result"
    }
   ],
   "source": [
    "b = np.zeros((3,4), dtype=int)\n",
    "b"
   ]
  },
  {
   "cell_type": "code",
   "execution_count": 22,
   "id": "5c6c3373",
   "metadata": {},
   "outputs": [
    {
     "data": {
      "text/plain": [
       "array([5., 5., 5.])"
      ]
     },
     "execution_count": 22,
     "metadata": {},
     "output_type": "execute_result"
    }
   ],
   "source": [
    "b = np.full(3, 5, dtype=float)\n",
    "b"
   ]
  },
  {
   "cell_type": "code",
   "execution_count": 23,
   "id": "c085bc74",
   "metadata": {},
   "outputs": [
    {
     "data": {
      "text/plain": [
       "array([[5., 5., 5.],\n",
       "       [5., 5., 5.],\n",
       "       [5., 5., 5.]])"
      ]
     },
     "execution_count": 23,
     "metadata": {},
     "output_type": "execute_result"
    }
   ],
   "source": [
    "b = np.full((3,3), 5, dtype=float)\n",
    "b"
   ]
  },
  {
   "cell_type": "code",
   "execution_count": 25,
   "id": "8a716f9e",
   "metadata": {},
   "outputs": [
    {
     "data": {
      "text/plain": [
       "array([[0.00000000e+000, 0.00000000e+000, 0.00000000e+000,\n",
       "        0.00000000e+000],\n",
       "       [0.00000000e+000, 6.42285340e-321, 2.22520559e-306,\n",
       "        0.00000000e+000]])"
      ]
     },
     "execution_count": 25,
     "metadata": {},
     "output_type": "execute_result"
    }
   ],
   "source": [
    "b = np.empty((2,4))\n",
    "b"
   ]
  },
  {
   "cell_type": "markdown",
   "id": "eec39105",
   "metadata": {},
   "source": [
    "6. __np.arange([start,] stop[, step,], dtype=None, *, like=None)__:Return evenly spaced values within a given interval.\n",
    "7. __np.linspace(start,\n",
    "    stop,\n",
    "    num=50,\n",
    "    endpoint=True,\n",
    "    retstep=False,\n",
    "    dtype=None,\n",
    "    axis=0)__: Return evenly spaced numbers over a specified interval."
   ]
  },
  {
   "cell_type": "code",
   "execution_count": 26,
   "id": "9c1dcf4d",
   "metadata": {},
   "outputs": [
    {
     "data": {
      "text/plain": [
       "array([0, 1, 2, 3, 4, 5, 6, 7, 8, 9])"
      ]
     },
     "execution_count": 26,
     "metadata": {},
     "output_type": "execute_result"
    }
   ],
   "source": [
    "b = np.arange(10)\n",
    "b"
   ]
  },
  {
   "cell_type": "code",
   "execution_count": 28,
   "id": "32300063",
   "metadata": {},
   "outputs": [
    {
     "data": {
      "text/plain": [
       "array([2, 3, 4, 5, 6, 7, 8, 9])"
      ]
     },
     "execution_count": 28,
     "metadata": {},
     "output_type": "execute_result"
    }
   ],
   "source": [
    "b = np.arange(2,10)\n",
    "b"
   ]
  },
  {
   "cell_type": "code",
   "execution_count": 29,
   "id": "08ef0dc3",
   "metadata": {},
   "outputs": [
    {
     "data": {
      "text/plain": [
       "array([ 2,  4,  6,  8, 10, 12, 14, 16, 18])"
      ]
     },
     "execution_count": 29,
     "metadata": {},
     "output_type": "execute_result"
    }
   ],
   "source": [
    "b = np.arange(2,20,2)\n",
    "b"
   ]
  },
  {
   "cell_type": "code",
   "execution_count": 30,
   "id": "ecb244bf",
   "metadata": {},
   "outputs": [
    {
     "data": {
      "text/plain": [
       "array([ 2.        ,  2.16326531,  2.32653061,  2.48979592,  2.65306122,\n",
       "        2.81632653,  2.97959184,  3.14285714,  3.30612245,  3.46938776,\n",
       "        3.63265306,  3.79591837,  3.95918367,  4.12244898,  4.28571429,\n",
       "        4.44897959,  4.6122449 ,  4.7755102 ,  4.93877551,  5.10204082,\n",
       "        5.26530612,  5.42857143,  5.59183673,  5.75510204,  5.91836735,\n",
       "        6.08163265,  6.24489796,  6.40816327,  6.57142857,  6.73469388,\n",
       "        6.89795918,  7.06122449,  7.2244898 ,  7.3877551 ,  7.55102041,\n",
       "        7.71428571,  7.87755102,  8.04081633,  8.20408163,  8.36734694,\n",
       "        8.53061224,  8.69387755,  8.85714286,  9.02040816,  9.18367347,\n",
       "        9.34693878,  9.51020408,  9.67346939,  9.83673469, 10.        ])"
      ]
     },
     "execution_count": 30,
     "metadata": {},
     "output_type": "execute_result"
    }
   ],
   "source": [
    "b = np.linspace(2,10)\n",
    "b"
   ]
  },
  {
   "cell_type": "code",
   "execution_count": 32,
   "id": "0bde308e",
   "metadata": {},
   "outputs": [
    {
     "name": "stdout",
     "output_type": "stream",
     "text": [
      "0.16326530612244916\n",
      "0.16326530612244916\n"
     ]
    }
   ],
   "source": [
    "# checking whether step values are same or not\n",
    "print(b[1] - b[0])\n",
    "print(b[3] - b[2])"
   ]
  },
  {
   "cell_type": "code",
   "execution_count": 35,
   "id": "704004ff",
   "metadata": {},
   "outputs": [
    {
     "data": {
      "text/plain": [
       "array([ 2,  4,  6,  8, 10])"
      ]
     },
     "execution_count": 35,
     "metadata": {},
     "output_type": "execute_result"
    }
   ],
   "source": [
    "b = np.linspace(2,10,5, dtype = int)\n",
    "b"
   ]
  },
  {
   "cell_type": "code",
   "execution_count": 37,
   "id": "98717cbd",
   "metadata": {},
   "outputs": [
    {
     "data": {
      "text/plain": [
       "array([2, 3, 5, 6, 8])"
      ]
     },
     "execution_count": 37,
     "metadata": {},
     "output_type": "execute_result"
    }
   ],
   "source": [
    "# making the 'stop' exclusive by putting endpoint=False\n",
    "b = np.linspace(2,10,5, dtype = int, endpoint = False)\n",
    "b"
   ]
  },
  {
   "cell_type": "markdown",
   "id": "c416c5dd",
   "metadata": {},
   "source": [
    "8. __np.identity(n, dtype=None, *, like=None)__: Return the identity array.\n",
    "9. __np.eye(N, M=None, k=0, dtype=<class 'float'>, order='C', *, like=None)__: Return a 2-D array with ones on the diagonal and zeros elsewhere."
   ]
  },
  {
   "cell_type": "code",
   "execution_count": 38,
   "id": "7550a7a3",
   "metadata": {},
   "outputs": [
    {
     "data": {
      "text/plain": [
       "array([[1., 0., 0.],\n",
       "       [0., 1., 0.],\n",
       "       [0., 0., 1.]])"
      ]
     },
     "execution_count": 38,
     "metadata": {},
     "output_type": "execute_result"
    }
   ],
   "source": [
    "# we can only get square matrix\n",
    "b = np.identity(3)\n",
    "b"
   ]
  },
  {
   "cell_type": "code",
   "execution_count": 41,
   "id": "5cf8042e",
   "metadata": {},
   "outputs": [
    {
     "data": {
      "text/plain": [
       "array([[1., 0., 0., 0.],\n",
       "       [0., 1., 0., 0.],\n",
       "       [0., 0., 1., 0.]])"
      ]
     },
     "execution_count": 41,
     "metadata": {},
     "output_type": "execute_result"
    }
   ],
   "source": [
    "# we can get any number of rows and columns matrix\n",
    "b = np.eye(3, 4)\n",
    "b"
   ]
  },
  {
   "cell_type": "markdown",
   "id": "c77e52cd",
   "metadata": {},
   "source": [
    "10. __np.random.rand(d0, d1, ..., dn)__:Random values in a given shape."
   ]
  },
  {
   "cell_type": "code",
   "execution_count": 55,
   "id": "45abc674",
   "metadata": {},
   "outputs": [
    {
     "data": {
      "text/plain": [
       "0.9995847578136849"
      ]
     },
     "execution_count": 55,
     "metadata": {},
     "output_type": "execute_result"
    }
   ],
   "source": [
    "# One random value\n",
    "np.random.rand()"
   ]
  },
  {
   "cell_type": "code",
   "execution_count": 44,
   "id": "bb37a13d",
   "metadata": {},
   "outputs": [
    {
     "data": {
      "text/plain": [
       "array([0.0740439 , 0.325608  , 0.26274353])"
      ]
     },
     "execution_count": 44,
     "metadata": {},
     "output_type": "execute_result"
    }
   ],
   "source": [
    "# Uniformly distributed over the range 0 and 1\n",
    "b = np.random.rand(3)\n",
    "b"
   ]
  },
  {
   "cell_type": "code",
   "execution_count": 46,
   "id": "aae0645e",
   "metadata": {},
   "outputs": [
    {
     "data": {
      "text/plain": [
       "array([9.13821994, 8.28184292, 4.82334546, 5.15004573, 4.82515454,\n",
       "       8.74153258, 4.70134875, 5.35408131, 9.34730803, 5.97728504])"
      ]
     },
     "execution_count": 46,
     "metadata": {},
     "output_type": "execute_result"
    }
   ],
   "source": [
    "# Random numbers from 0 to 10 and not from 0 to 1\n",
    "b = np.random.rand(10) * 10\n",
    "b"
   ]
  },
  {
   "cell_type": "code",
   "execution_count": 45,
   "id": "14fd7a4f",
   "metadata": {},
   "outputs": [
    {
     "data": {
      "text/plain": [
       "array([[0.85981931, 0.46907042, 0.51978281],\n",
       "       [0.36686125, 0.09903776, 0.86126366]])"
      ]
     },
     "execution_count": 45,
     "metadata": {},
     "output_type": "execute_result"
    }
   ],
   "source": [
    "b = np.random.rand(2, 3)\n",
    "b"
   ]
  },
  {
   "cell_type": "markdown",
   "id": "0ca1109a",
   "metadata": {},
   "source": [
    "11. __np.random.randint(low, high=None, size=None, dtype=int)__: Return random integers from `low` (inclusive) to `high` (exclusive)."
   ]
  },
  {
   "cell_type": "code",
   "execution_count": 56,
   "id": "0c575847",
   "metadata": {},
   "outputs": [
    {
     "ename": "ValueError",
     "evalue": "low >= high",
     "output_type": "error",
     "traceback": [
      "\u001b[1;31m---------------------------------------------------------------------------\u001b[0m",
      "\u001b[1;31mValueError\u001b[0m                                Traceback (most recent call last)",
      "\u001b[1;32m<ipython-input-56-c125108252ac>\u001b[0m in \u001b[0;36m<module>\u001b[1;34m\u001b[0m\n\u001b[1;32m----> 1\u001b[1;33m \u001b[0mnp\u001b[0m\u001b[1;33m.\u001b[0m\u001b[0mrandom\u001b[0m\u001b[1;33m.\u001b[0m\u001b[0mrandint\u001b[0m\u001b[1;33m(\u001b[0m\u001b[1;36m10\u001b[0m\u001b[1;33m,\u001b[0m\u001b[1;36m4\u001b[0m\u001b[1;33m)\u001b[0m\u001b[1;33m\u001b[0m\u001b[1;33m\u001b[0m\u001b[0m\n\u001b[0m",
      "\u001b[1;32mmtrand.pyx\u001b[0m in \u001b[0;36mnumpy.random.mtrand.RandomState.randint\u001b[1;34m()\u001b[0m\n",
      "\u001b[1;32m_bounded_integers.pyx\u001b[0m in \u001b[0;36mnumpy.random._bounded_integers._rand_int32\u001b[1;34m()\u001b[0m\n",
      "\u001b[1;31mValueError\u001b[0m: low >= high"
     ]
    }
   ],
   "source": [
    "np.random.randint(10,4)"
   ]
  },
  {
   "cell_type": "code",
   "execution_count": 47,
   "id": "e78f7f75",
   "metadata": {},
   "outputs": [
    {
     "data": {
      "text/plain": [
       "array([0, 1, 1, 1, 0, 0, 0, 0, 1, 0])"
      ]
     },
     "execution_count": 47,
     "metadata": {},
     "output_type": "execute_result"
    }
   ],
   "source": [
    "b = np.random.randint(2, size=10)\n",
    "b"
   ]
  },
  {
   "cell_type": "code",
   "execution_count": 48,
   "id": "4b0177b1",
   "metadata": {},
   "outputs": [
    {
     "data": {
      "text/plain": [
       "array([0, 0, 0, 0, 0, 0, 0, 0, 0, 0])"
      ]
     },
     "execution_count": 48,
     "metadata": {},
     "output_type": "execute_result"
    }
   ],
   "source": [
    "b = np.random.randint(1, size=10)\n",
    "b"
   ]
  },
  {
   "cell_type": "code",
   "execution_count": 50,
   "id": "fd5499ec",
   "metadata": {},
   "outputs": [
    {
     "data": {
      "text/plain": [
       "array([[0, 2, 1, 3],\n",
       "       [0, 4, 0, 4]])"
      ]
     },
     "execution_count": 50,
     "metadata": {},
     "output_type": "execute_result"
    }
   ],
   "source": [
    "b = np.random.randint(5, size=(2,4))\n",
    "b"
   ]
  },
  {
   "cell_type": "code",
   "execution_count": 52,
   "id": "57561161",
   "metadata": {},
   "outputs": [
    {
     "data": {
      "text/plain": [
       "array([2, 1, 6])"
      ]
     },
     "execution_count": 52,
     "metadata": {},
     "output_type": "execute_result"
    }
   ],
   "source": [
    "b = np.random.randint(1, [3,5,10])\n",
    "b"
   ]
  },
  {
   "cell_type": "markdown",
   "id": "e80c0297",
   "metadata": {},
   "source": [
    "12. __np.shape(a)__: Return the shape of an array."
   ]
  },
  {
   "cell_type": "code",
   "execution_count": 53,
   "id": "9f80d455",
   "metadata": {},
   "outputs": [
    {
     "data": {
      "text/plain": [
       "(4,)"
      ]
     },
     "execution_count": 53,
     "metadata": {},
     "output_type": "execute_result"
    }
   ],
   "source": [
    "b = np.array([0,1,2,3])\n",
    "b.shape"
   ]
  },
  {
   "cell_type": "markdown",
   "id": "b9e7b3ab",
   "metadata": {},
   "source": [
    "## Slicing & Indexing"
   ]
  },
  {
   "cell_type": "code",
   "execution_count": 1,
   "id": "88c73c2b",
   "metadata": {},
   "outputs": [],
   "source": [
    "import numpy as np"
   ]
  },
  {
   "cell_type": "code",
   "execution_count": 2,
   "id": "6c6fbbb3",
   "metadata": {},
   "outputs": [
    {
     "name": "stdout",
     "output_type": "stream",
     "text": [
      "[1, 2, 3, 4, 5]\n",
      "[1 2 3 4 5]\n"
     ]
    }
   ],
   "source": [
    "li = [1, 2, 3, 4, 5]\n",
    "arr = np.array(li)\n",
    "\n",
    "print(li)\n",
    "print(arr)"
   ]
  },
  {
   "cell_type": "markdown",
   "id": "d3811504",
   "metadata": {},
   "source": [
    "__ndarray.strides :__ Tuple of bytes to step in each dimension when traversing an array.\n",
    "\n",
    "The byte offset of element (i[0], i[1], ..., i[n]) in an array a is:\n",
    "\n",
    "__offset = sum(np.array(i) * a.strides)__"
   ]
  },
  {
   "cell_type": "code",
   "execution_count": 3,
   "id": "a2332145",
   "metadata": {},
   "outputs": [
    {
     "name": "stdout",
     "output_type": "stream",
     "text": [
      "<memory at 0x00000170258D8648>\n",
      "(5,)\n",
      "int32\n",
      "(4,)\n"
     ]
    }
   ],
   "source": [
    "print(arr.data)\n",
    "print(arr.shape)\n",
    "print(arr.dtype)\n",
    "print(arr.strides)"
   ]
  },
  {
   "cell_type": "code",
   "execution_count": 10,
   "id": "225e5638",
   "metadata": {},
   "outputs": [
    {
     "name": "stdout",
     "output_type": "stream",
     "text": [
      "4\n",
      "4\n",
      "[2, 3, 4]\n",
      "[2 3 4]\n"
     ]
    }
   ],
   "source": [
    "print(li[3])\n",
    "print(arr[3])\n",
    "print(li[1:4])\n",
    "print(arr[1:4])"
   ]
  },
  {
   "cell_type": "code",
   "execution_count": 7,
   "id": "bc007c86",
   "metadata": {},
   "outputs": [
    {
     "name": "stdout",
     "output_type": "stream",
     "text": [
      "[[1, 2, 3, 4], [5, 6, 7, 8], [9, 10, 11, 12], [13, 14, 15, 16]]\n",
      "[[ 1  2  3  4]\n",
      " [ 5  6  7  8]\n",
      " [ 9 10 11 12]\n",
      " [13 14 15 16]]\n"
     ]
    }
   ],
   "source": [
    "li_2d = [[1,2,3,4], [5,6,7,8], [9,10,11,12], [13,14,15,16]]\n",
    "arr_2d = np.array(li_2d)\n",
    "\n",
    "print(li_2d)\n",
    "print(arr_2d)"
   ]
  },
  {
   "cell_type": "code",
   "execution_count": 8,
   "id": "5f09af8e",
   "metadata": {},
   "outputs": [
    {
     "name": "stdout",
     "output_type": "stream",
     "text": [
      "<memory at 0x0000017027E38AC8>\n",
      "(4, 4)\n",
      "int32\n",
      "(16, 4)\n"
     ]
    }
   ],
   "source": [
    "print(arr_2d.data)\n",
    "print(arr_2d.shape)\n",
    "print(arr_2d.dtype)\n",
    "print(arr_2d.strides)"
   ]
  },
  {
   "cell_type": "code",
   "execution_count": 12,
   "id": "7ae48042",
   "metadata": {},
   "outputs": [
    {
     "name": "stdout",
     "output_type": "stream",
     "text": [
      "10\n",
      "10\n",
      "10\n"
     ]
    }
   ],
   "source": [
    "print(li_2d[2][1])\n",
    "print(arr_2d[2][1])\n",
    "print(arr_2d[2, 1])"
   ]
  },
  {
   "cell_type": "code",
   "execution_count": 14,
   "id": "485cc23b",
   "metadata": {},
   "outputs": [
    {
     "name": "stdout",
     "output_type": "stream",
     "text": [
      "[5, 6, 7]\n",
      "[5 6 7]\n"
     ]
    }
   ],
   "source": [
    "# Row number is fixed\n",
    "print(li_2d[1][0:3])\n",
    "print(arr_2d[1, :3])"
   ]
  },
  {
   "cell_type": "code",
   "execution_count": 18,
   "id": "9487dba6",
   "metadata": {},
   "outputs": [
    {
     "name": "stdout",
     "output_type": "stream",
     "text": [
      "[[1, 2, 3, 4], [5, 6, 7, 8], [9, 10, 11, 12]]\n",
      "[9, 10, 11, 12]\n"
     ]
    }
   ],
   "source": [
    "x = li_2d[0:3]\n",
    "print(x)\n",
    "y = x[2]\n",
    "print(y)"
   ]
  },
  {
   "cell_type": "code",
   "execution_count": 16,
   "id": "10cebe15",
   "metadata": {},
   "outputs": [
    {
     "name": "stdout",
     "output_type": "stream",
     "text": [
      "[9, 10, 11, 12]\n"
     ]
    }
   ],
   "source": [
    "print(li_2d[0:3][2])"
   ]
  },
  {
   "cell_type": "code",
   "execution_count": 20,
   "id": "222038eb",
   "metadata": {},
   "outputs": [
    {
     "ename": "IndexError",
     "evalue": "list index out of range",
     "output_type": "error",
     "traceback": [
      "\u001b[1;31m---------------------------------------------------------------------------\u001b[0m",
      "\u001b[1;31mIndexError\u001b[0m                                Traceback (most recent call last)",
      "\u001b[1;32m<ipython-input-20-6a2a31bf8563>\u001b[0m in \u001b[0;36m<module>\u001b[1;34m\u001b[0m\n\u001b[1;32m----> 1\u001b[1;33m \u001b[0mprint\u001b[0m\u001b[1;33m(\u001b[0m\u001b[0mli_2d\u001b[0m\u001b[1;33m[\u001b[0m\u001b[1;36m0\u001b[0m\u001b[1;33m:\u001b[0m\u001b[1;36m3\u001b[0m\u001b[1;33m]\u001b[0m\u001b[1;33m[\u001b[0m\u001b[1;36m3\u001b[0m\u001b[1;33m]\u001b[0m\u001b[1;33m)\u001b[0m\u001b[1;33m\u001b[0m\u001b[1;33m\u001b[0m\u001b[0m\n\u001b[0m",
      "\u001b[1;31mIndexError\u001b[0m: list index out of range"
     ]
    }
   ],
   "source": [
    "print(li_2d[0:3][3])"
   ]
  },
  {
   "cell_type": "code",
   "execution_count": 19,
   "id": "9c1c0173",
   "metadata": {},
   "outputs": [
    {
     "name": "stdout",
     "output_type": "stream",
     "text": [
      "[ 3  7 11]\n"
     ]
    }
   ],
   "source": [
    "print(arr_2d[0:3, 2])"
   ]
  },
  {
   "cell_type": "code",
   "execution_count": 21,
   "id": "3a157e29",
   "metadata": {},
   "outputs": [
    {
     "name": "stdout",
     "output_type": "stream",
     "text": [
      "[[10 11]\n",
      " [14 15]]\n"
     ]
    }
   ],
   "source": [
    "print(arr_2d[2:4, 1:3])"
   ]
  },
  {
   "cell_type": "code",
   "execution_count": 22,
   "id": "2db5230f",
   "metadata": {},
   "outputs": [
    {
     "name": "stdout",
     "output_type": "stream",
     "text": [
      "[[13, 14, 15, 16]]\n"
     ]
    }
   ],
   "source": [
    "print(li_2d[2:4][1:3])"
   ]
  },
  {
   "cell_type": "markdown",
   "id": "a0a401d2",
   "metadata": {},
   "source": [
    "## Mathematical Operations-1D"
   ]
  },
  {
   "cell_type": "code",
   "execution_count": 23,
   "id": "9556988e",
   "metadata": {},
   "outputs": [],
   "source": [
    "import numpy as np"
   ]
  },
  {
   "cell_type": "code",
   "execution_count": 24,
   "id": "ff7aec19",
   "metadata": {},
   "outputs": [
    {
     "name": "stdout",
     "output_type": "stream",
     "text": [
      "[1, 2, 3, 4, 5]\n",
      "[ 9  3  2 17 15]\n",
      "[13  2  7 17 17]\n"
     ]
    }
   ],
   "source": [
    "li = [1,2,3,4,5]\n",
    "a = np.random.randint(1,20,5)\n",
    "b = np.random.randint(1,20,5)\n",
    "\n",
    "print(li)\n",
    "print(a)\n",
    "print(b)"
   ]
  },
  {
   "cell_type": "code",
   "execution_count": 26,
   "id": "1f6b5dba",
   "metadata": {},
   "outputs": [
    {
     "data": {
      "text/plain": [
       "[3, 4, 5, 6, 7]"
      ]
     },
     "execution_count": 26,
     "metadata": {},
     "output_type": "execute_result"
    }
   ],
   "source": [
    "li = [i+1 for i in li]\n",
    "li"
   ]
  },
  {
   "cell_type": "code",
   "execution_count": 27,
   "id": "b941ce41",
   "metadata": {},
   "outputs": [
    {
     "data": {
      "text/plain": [
       "array([10,  4,  3, 18, 16])"
      ]
     },
     "execution_count": 27,
     "metadata": {},
     "output_type": "execute_result"
    }
   ],
   "source": [
    "# Addition of each element\n",
    "a = a + 1\n",
    "a"
   ]
  },
  {
   "cell_type": "code",
   "execution_count": 28,
   "id": "77d1eecf",
   "metadata": {},
   "outputs": [
    {
     "data": {
      "text/plain": [
       "array([23,  6, 10, 35, 33])"
      ]
     },
     "execution_count": 28,
     "metadata": {},
     "output_type": "execute_result"
    }
   ],
   "source": [
    "# Addition of two numpy arrays\n",
    "c = a + b\n",
    "c"
   ]
  },
  {
   "cell_type": "code",
   "execution_count": 29,
   "id": "1092da7f",
   "metadata": {},
   "outputs": [
    {
     "data": {
      "text/plain": [
       "array([-3,  2, -4,  1, -1])"
      ]
     },
     "execution_count": 29,
     "metadata": {},
     "output_type": "execute_result"
    }
   ],
   "source": [
    "# Subtraction\n",
    "d = a - b\n",
    "d"
   ]
  },
  {
   "cell_type": "code",
   "execution_count": 30,
   "id": "51b4d737",
   "metadata": {},
   "outputs": [
    {
     "data": {
      "text/plain": [
       "array([130,   8,  21, 306, 272])"
      ]
     },
     "execution_count": 30,
     "metadata": {},
     "output_type": "execute_result"
    }
   ],
   "source": [
    "# Multiplication\n",
    "e = a * b\n",
    "e"
   ]
  },
  {
   "cell_type": "code",
   "execution_count": 31,
   "id": "d1325cfa",
   "metadata": {},
   "outputs": [
    {
     "data": {
      "text/plain": [
       "array([0.76923077, 2.        , 0.42857143, 1.05882353, 0.94117647])"
      ]
     },
     "execution_count": 31,
     "metadata": {},
     "output_type": "execute_result"
    }
   ],
   "source": [
    "# Division\n",
    "f = a / b\n",
    "f"
   ]
  },
  {
   "cell_type": "code",
   "execution_count": 32,
   "id": "96f1b670",
   "metadata": {},
   "outputs": [
    {
     "data": {
      "text/plain": [
       "array([0, 2, 0, 1, 0], dtype=int32)"
      ]
     },
     "execution_count": 32,
     "metadata": {},
     "output_type": "execute_result"
    }
   ],
   "source": [
    "# Floor Division\n",
    "g = a // b\n",
    "g"
   ]
  },
  {
   "cell_type": "code",
   "execution_count": 33,
   "id": "f15da8a2",
   "metadata": {},
   "outputs": [
    {
     "data": {
      "text/plain": [
       "array([1316134912,         16,       2187, 1695678464,          0],\n",
       "      dtype=int32)"
      ]
     },
     "execution_count": 33,
     "metadata": {},
     "output_type": "execute_result"
    }
   ],
   "source": [
    "# Exponentiation\n",
    "h = a ** b\n",
    "h"
   ]
  },
  {
   "cell_type": "markdown",
   "id": "f728db20",
   "metadata": {},
   "source": [
    "1. __sum()__\n",
    "2. __mean()__\n",
    "3. __min()__\n",
    "4. __argmin()__: find the index of the minimum element\n",
    "5. __max__()__\n",
    "6. __argmax()__: find index of maximum element"
   ]
  },
  {
   "cell_type": "code",
   "execution_count": 35,
   "id": "dae3511e",
   "metadata": {},
   "outputs": [
    {
     "name": "stdout",
     "output_type": "stream",
     "text": [
      "[10  4  3 18 16]\n",
      "51\n",
      "10.2\n",
      "3\n",
      "2\n",
      "18\n",
      "3\n"
     ]
    }
   ],
   "source": [
    "print(a)\n",
    "print(a.sum())\n",
    "print(a.mean())\n",
    "print(a.min())\n",
    "print(a.argmin())\n",
    "print(a.max())\n",
    "print(a.argmax())"
   ]
  },
  {
   "cell_type": "code",
   "execution_count": 37,
   "id": "aabde06f",
   "metadata": {},
   "outputs": [
    {
     "name": "stdout",
     "output_type": "stream",
     "text": [
      "[10  4  3 18 16]\n",
      "[13  2  7 17 17]\n"
     ]
    }
   ],
   "source": [
    "print(a)\n",
    "print(b)"
   ]
  },
  {
   "cell_type": "code",
   "execution_count": 38,
   "id": "e61bdc04",
   "metadata": {},
   "outputs": [
    {
     "data": {
      "text/plain": [
       "array([False,  True, False,  True, False])"
      ]
     },
     "execution_count": 38,
     "metadata": {},
     "output_type": "execute_result"
    }
   ],
   "source": [
    "a > b"
   ]
  },
  {
   "cell_type": "code",
   "execution_count": 39,
   "id": "e10091c4",
   "metadata": {},
   "outputs": [
    {
     "data": {
      "text/plain": [
       "array([ True, False,  True, False,  True])"
      ]
     },
     "execution_count": 39,
     "metadata": {},
     "output_type": "execute_result"
    }
   ],
   "source": [
    "a < b"
   ]
  },
  {
   "cell_type": "code",
   "execution_count": 40,
   "id": "8e7f6af0",
   "metadata": {},
   "outputs": [
    {
     "data": {
      "text/plain": [
       "array([False, False, False, False, False])"
      ]
     },
     "execution_count": 40,
     "metadata": {},
     "output_type": "execute_result"
    }
   ],
   "source": [
    "a == b"
   ]
  },
  {
   "cell_type": "markdown",
   "id": "a2bc1ac8",
   "metadata": {},
   "source": [
    "1.__logical_or()__<br>\n",
    "2.__logical_and()__<br>\n",
    "3.__logical_not()__<br>"
   ]
  },
  {
   "cell_type": "code",
   "execution_count": 41,
   "id": "c973fe21",
   "metadata": {},
   "outputs": [
    {
     "name": "stdout",
     "output_type": "stream",
     "text": [
      "[ True  True  True  True  True]\n",
      "[ True  True  True  True  True]\n"
     ]
    }
   ],
   "source": [
    "print(np.logical_or(a, b))\n",
    "print(np.logical_and(a, b))"
   ]
  },
  {
   "cell_type": "code",
   "execution_count": 43,
   "id": "a8af6b3f",
   "metadata": {},
   "outputs": [
    {
     "name": "stdout",
     "output_type": "stream",
     "text": [
      "[10  4  0 18 16]\n",
      "[False False  True False False]\n"
     ]
    }
   ],
   "source": [
    "a[2] = 0\n",
    "print(a)\n",
    "print(np.logical_not(a))"
   ]
  },
  {
   "cell_type": "markdown",
   "id": "6dc3470b",
   "metadata": {},
   "source": [
    "## Boolean Indexing"
   ]
  },
  {
   "cell_type": "code",
   "execution_count": 44,
   "id": "bfcc5c62",
   "metadata": {},
   "outputs": [],
   "source": [
    "import numpy as np"
   ]
  },
  {
   "cell_type": "code",
   "execution_count": 45,
   "id": "868130a0",
   "metadata": {},
   "outputs": [
    {
     "name": "stdout",
     "output_type": "stream",
     "text": [
      "['t' 'b' 'r' 'd' 'e' 'f' 'z' 'a']\n",
      "[12  4  1  4  4  3  4  1]\n"
     ]
    }
   ],
   "source": [
    "a = np.array(['t','b','r','d','e','f','z','a'])\n",
    "b = np.random.randint(1, 20, 8)\n",
    "\n",
    "print(a)\n",
    "print(b)"
   ]
  },
  {
   "cell_type": "code",
   "execution_count": 46,
   "id": "04868cd1",
   "metadata": {},
   "outputs": [
    {
     "name": "stdout",
     "output_type": "stream",
     "text": [
      "[ True False False False False False False False]\n"
     ]
    }
   ],
   "source": [
    "print(b > 10)"
   ]
  },
  {
   "cell_type": "code",
   "execution_count": 48,
   "id": "310cd076",
   "metadata": {},
   "outputs": [
    {
     "name": "stdout",
     "output_type": "stream",
     "text": [
      "[ True False False False False False False False]\n",
      "[12]\n"
     ]
    }
   ],
   "source": [
    "bool_arr = b > 10\n",
    "print(bool_arr)\n",
    "new_arr = b[bool_arr] # extracts only those elements which are true\n",
    "print(new_arr)"
   ]
  },
  {
   "cell_type": "code",
   "execution_count": 49,
   "id": "5922e21c",
   "metadata": {},
   "outputs": [
    {
     "data": {
      "text/plain": [
       "array([12])"
      ]
     },
     "execution_count": 49,
     "metadata": {},
     "output_type": "execute_result"
    }
   ],
   "source": [
    "new_arr = b[b > 10]\n",
    "new_arr"
   ]
  },
  {
   "cell_type": "code",
   "execution_count": 50,
   "id": "21c8e7cf",
   "metadata": {},
   "outputs": [
    {
     "data": {
      "text/plain": [
       "array([12])"
      ]
     },
     "execution_count": 50,
     "metadata": {},
     "output_type": "execute_result"
    }
   ],
   "source": [
    "new_arr = b[(b > 10) & (b < 18)]\n",
    "new_arr"
   ]
  },
  {
   "cell_type": "code",
   "execution_count": 52,
   "id": "ea24276a",
   "metadata": {},
   "outputs": [
    {
     "name": "stdout",
     "output_type": "stream",
     "text": [
      "[12  4  1  4  4  3  4  1]\n"
     ]
    },
    {
     "data": {
      "text/plain": [
       "array([12,  4,  1,  4,  4,  3,  4,  1])"
      ]
     },
     "execution_count": 52,
     "metadata": {},
     "output_type": "execute_result"
    }
   ],
   "source": [
    "print(b)\n",
    "c = b\n",
    "c"
   ]
  },
  {
   "cell_type": "code",
   "execution_count": 55,
   "id": "60f7f26a",
   "metadata": {},
   "outputs": [
    {
     "name": "stdout",
     "output_type": "stream",
     "text": [
      "[19 19 19  4  4  3  4  1]\n"
     ]
    },
    {
     "data": {
      "text/plain": [
       "array([100, 100, 100,   4,   4,   3,   4,   1])"
      ]
     },
     "execution_count": 55,
     "metadata": {},
     "output_type": "execute_result"
    }
   ],
   "source": [
    "c[:3] = 19  # updating multiple elements in one go\n",
    "print(c)\n",
    "c[c > 15] = 100\n",
    "c"
   ]
  },
  {
   "cell_type": "markdown",
   "id": "78bb2ba6",
   "metadata": {},
   "source": [
    "__np.where(condition, [x, y])__ :Return elements chosen from `x` or `y` depending on `condition`."
   ]
  },
  {
   "cell_type": "code",
   "execution_count": 56,
   "id": "540e9c58",
   "metadata": {},
   "outputs": [
    {
     "name": "stdout",
     "output_type": "stream",
     "text": [
      "[100 100 100   4   4   3   4   1]\n"
     ]
    }
   ],
   "source": [
    "print(b)"
   ]
  },
  {
   "cell_type": "code",
   "execution_count": 57,
   "id": "ece6b73f",
   "metadata": {},
   "outputs": [
    {
     "name": "stdout",
     "output_type": "stream",
     "text": [
      "[100 100 100]\n"
     ]
    }
   ],
   "source": [
    "print(b[b == 100])"
   ]
  },
  {
   "cell_type": "code",
   "execution_count": 58,
   "id": "2d2fe276",
   "metadata": {},
   "outputs": [
    {
     "data": {
      "text/plain": [
       "(array([0, 1, 2], dtype=int64),)"
      ]
     },
     "execution_count": 58,
     "metadata": {},
     "output_type": "execute_result"
    }
   ],
   "source": [
    "ind = np.where(b == 100)\n",
    "ind"
   ]
  },
  {
   "cell_type": "code",
   "execution_count": 59,
   "id": "d43509f1",
   "metadata": {},
   "outputs": [
    {
     "name": "stdout",
     "output_type": "stream",
     "text": [
      "['t' 'b' 'r' 'd' 'e' 'f' 'z' 'a']\n",
      "[100 100 100   4   4   3   4   1]\n"
     ]
    }
   ],
   "source": [
    "print(a)\n",
    "print(b)"
   ]
  },
  {
   "cell_type": "code",
   "execution_count": 63,
   "id": "e69bea26",
   "metadata": {},
   "outputs": [
    {
     "name": "stdout",
     "output_type": "stream",
     "text": [
      "(array([0, 1, 2], dtype=int64),)\n",
      "['t' 'b' 'r']\n"
     ]
    }
   ],
   "source": [
    "ind = np.where(b == 100)\n",
    "print(ind)\n",
    "print(a[ind])"
   ]
  },
  {
   "cell_type": "markdown",
   "id": "f1128373",
   "metadata": {},
   "source": [
    "## Boolean Indexing-2D"
   ]
  },
  {
   "cell_type": "code",
   "execution_count": 64,
   "id": "1c26cda4",
   "metadata": {},
   "outputs": [],
   "source": [
    "import numpy as np"
   ]
  },
  {
   "cell_type": "code",
   "execution_count": 65,
   "id": "17692e4f",
   "metadata": {},
   "outputs": [
    {
     "name": "stdout",
     "output_type": "stream",
     "text": [
      "[[13 28 13 24  1  7]\n",
      " [21 17  7 15 18 14]\n",
      " [12 22 10 28  3  7]\n",
      " [19  8  5 23  9  2]\n",
      " [21 23  4  2 25  2]]\n"
     ]
    }
   ],
   "source": [
    "a = np.random.randint(1,30, (5,6))\n",
    "print(a)"
   ]
  },
  {
   "cell_type": "code",
   "execution_count": 67,
   "id": "ac0aa9bf",
   "metadata": {},
   "outputs": [
    {
     "name": "stdout",
     "output_type": "stream",
     "text": [
      "[[False  True False  True False False]\n",
      " [ True False False False False False]\n",
      " [False  True False  True False False]\n",
      " [False False False  True False False]\n",
      " [ True  True False False  True False]]\n"
     ]
    }
   ],
   "source": [
    "bool_arr = a > 20\n",
    "print(bool_arr)"
   ]
  },
  {
   "cell_type": "code",
   "execution_count": 68,
   "id": "9273cf02",
   "metadata": {},
   "outputs": [
    {
     "name": "stdout",
     "output_type": "stream",
     "text": [
      "[28 24 21 22 28 23 21 23 25]\n"
     ]
    }
   ],
   "source": [
    "ans = a[bool_arr]\n",
    "print(ans)"
   ]
  },
  {
   "cell_type": "code",
   "execution_count": 69,
   "id": "1eacefc2",
   "metadata": {},
   "outputs": [
    {
     "name": "stdout",
     "output_type": "stream",
     "text": [
      "[[13 28 13 24  1  7]\n",
      " [21 17  7 15 18 14]\n",
      " [12 22 10 28  3  7]\n",
      " [19  8  5 23  9  2]\n",
      " [21 23  4  2 25  2]]\n"
     ]
    }
   ],
   "source": [
    "b = a\n",
    "print(a)"
   ]
  },
  {
   "cell_type": "code",
   "execution_count": 70,
   "id": "917ac457",
   "metadata": {},
   "outputs": [
    {
     "name": "stdout",
     "output_type": "stream",
     "text": [
      "[[ 13 100  13 100   1   7]\n",
      " [100  17   7  15  18  14]\n",
      " [ 12 100  10 100   3   7]\n",
      " [ 19   8   5 100   9   2]\n",
      " [100 100   4   2 100   2]]\n"
     ]
    }
   ],
   "source": [
    "b[bool_arr] = 100\n",
    "print(b)"
   ]
  },
  {
   "cell_type": "code",
   "execution_count": 71,
   "id": "640b79a0",
   "metadata": {},
   "outputs": [
    {
     "name": "stdout",
     "output_type": "stream",
     "text": [
      "[[2 9]\n",
      " [1 3]]\n"
     ]
    }
   ],
   "source": [
    "c = np.random.randint(1,10,(2,2))\n",
    "print(c)"
   ]
  },
  {
   "cell_type": "code",
   "execution_count": 72,
   "id": "7b09607f",
   "metadata": {},
   "outputs": [
    {
     "name": "stdout",
     "output_type": "stream",
     "text": [
      "[[ True False]\n",
      " [False  True]\n",
      " [ True  True]]\n"
     ]
    }
   ],
   "source": [
    "c_bool = np.array([[True, False], [False, True], [True, True]])\n",
    "print(c_bool)"
   ]
  },
  {
   "cell_type": "code",
   "execution_count": 73,
   "id": "f0ff3346",
   "metadata": {},
   "outputs": [
    {
     "ename": "TypeError",
     "evalue": "'numpy.ndarray' object is not callable",
     "output_type": "error",
     "traceback": [
      "\u001b[1;31m---------------------------------------------------------------------------\u001b[0m",
      "\u001b[1;31mTypeError\u001b[0m                                 Traceback (most recent call last)",
      "\u001b[1;32m<ipython-input-73-ef3e30c70c5a>\u001b[0m in \u001b[0;36m<module>\u001b[1;34m\u001b[0m\n\u001b[1;32m----> 1\u001b[1;33m \u001b[0mprint\u001b[0m\u001b[1;33m(\u001b[0m\u001b[0mc\u001b[0m\u001b[1;33m(\u001b[0m\u001b[0mc_bool\u001b[0m\u001b[1;33m)\u001b[0m\u001b[1;33m)\u001b[0m\u001b[1;33m\u001b[0m\u001b[1;33m\u001b[0m\u001b[0m\n\u001b[0m",
      "\u001b[1;31mTypeError\u001b[0m: 'numpy.ndarray' object is not callable"
     ]
    }
   ],
   "source": [
    "print(c(c_bool))"
   ]
  },
  {
   "cell_type": "code",
   "execution_count": 74,
   "id": "d572db16",
   "metadata": {},
   "outputs": [
    {
     "name": "stdout",
     "output_type": "stream",
     "text": [
      "[[ 13 100  13 100   1   7]\n",
      " [100  17   7  15  18  14]\n",
      " [ 12 100  10 100   3   7]\n",
      " [ 19   8   5 100   9   2]\n",
      " [100 100   4   2 100   2]]\n"
     ]
    }
   ],
   "source": [
    "print(b)"
   ]
  },
  {
   "cell_type": "code",
   "execution_count": 75,
   "id": "837a5990",
   "metadata": {},
   "outputs": [
    {
     "name": "stdout",
     "output_type": "stream",
     "text": [
      "[ True False  True  True False]\n"
     ]
    }
   ],
   "source": [
    "bool_arr = b[:, 3] == 100\n",
    "print(bool_arr)"
   ]
  },
  {
   "cell_type": "code",
   "execution_count": 76,
   "id": "085bfe75",
   "metadata": {},
   "outputs": [
    {
     "name": "stdout",
     "output_type": "stream",
     "text": [
      "[[ 13 100  13  99   1   7]\n",
      " [100  17   7  15  18  14]\n",
      " [ 12 100  10  99   3   7]\n",
      " [ 19   8   5  99   9   2]\n",
      " [100 100   4   2 100   2]]\n"
     ]
    }
   ],
   "source": [
    "# To update a specifice column over numpy array\n",
    "# b[row which are true, column]\n",
    "b[bool_arr, 3] = 99\n",
    "print(b)"
   ]
  },
  {
   "cell_type": "markdown",
   "id": "d5f91b84",
   "metadata": {},
   "source": [
    "## Broadcasting"
   ]
  },
  {
   "cell_type": "markdown",
   "id": "2aecae62",
   "metadata": {},
   "source": [
    "Numpy Arrays of unequal sizes"
   ]
  },
  {
   "cell_type": "code",
   "execution_count": 77,
   "id": "ceecc92f",
   "metadata": {},
   "outputs": [],
   "source": [
    "import numpy as np"
   ]
  },
  {
   "cell_type": "markdown",
   "id": "3835092f",
   "metadata": {},
   "source": [
    "Same dimensions: __Type Compatible__"
   ]
  },
  {
   "cell_type": "code",
   "execution_count": 79,
   "id": "3b8b5b5d",
   "metadata": {},
   "outputs": [
    {
     "name": "stdout",
     "output_type": "stream",
     "text": [
      "[[9 8 7]\n",
      " [7 1 1]\n",
      " [2 4 5]]\n",
      "\n",
      "\n",
      "[[3 7 2]\n",
      " [3 9 1]\n",
      " [3 3 6]]\n"
     ]
    }
   ],
   "source": [
    "x = np.random.randint(1, 10, (3,3))\n",
    "y = np.random.randint(1, 10, (3,3))\n",
    "print(x)\n",
    "print('\\n')\n",
    "print(y)"
   ]
  },
  {
   "cell_type": "code",
   "execution_count": 80,
   "id": "c4cef887",
   "metadata": {},
   "outputs": [
    {
     "name": "stdout",
     "output_type": "stream",
     "text": [
      "[[ 6  1  5]\n",
      " [ 4 -8  0]\n",
      " [-1  1 -1]]\n"
     ]
    }
   ],
   "source": [
    "ans = x - y\n",
    "print(ans)"
   ]
  },
  {
   "cell_type": "markdown",
   "id": "89e46495",
   "metadata": {},
   "source": [
    "dimensions with one of them is 1: __Type Compatible__"
   ]
  },
  {
   "cell_type": "code",
   "execution_count": 85,
   "id": "e977dc4c",
   "metadata": {},
   "outputs": [
    {
     "name": "stdout",
     "output_type": "stream",
     "text": [
      "[[1 4 8]\n",
      " [5 5 6]\n",
      " [5 7 1]]\n",
      "\n",
      "\n",
      "[7 8 3]\n"
     ]
    }
   ],
   "source": [
    "x = np.random.randint(1, 10, (3,3))\n",
    "y = np.random.randint(1, 10, (3))\n",
    "print(x)\n",
    "print('\\n')\n",
    "print(y)"
   ]
  },
  {
   "cell_type": "code",
   "execution_count": 87,
   "id": "733e96a9",
   "metadata": {},
   "outputs": [
    {
     "name": "stdout",
     "output_type": "stream",
     "text": [
      "[[-6 -4  5]\n",
      " [-2 -3  3]\n",
      " [-2 -1 -2]]\n"
     ]
    }
   ],
   "source": [
    "# in y matrix the row is repeated 3 times and \n",
    "# then it is subtracted\n",
    "ans = x - y\n",
    "print(ans)"
   ]
  },
  {
   "cell_type": "markdown",
   "id": "d28aa82f",
   "metadata": {},
   "source": [
    "Unequal dimension: __Not Type Compatible__"
   ]
  },
  {
   "cell_type": "code",
   "execution_count": 88,
   "id": "1024ad0e",
   "metadata": {},
   "outputs": [
    {
     "name": "stdout",
     "output_type": "stream",
     "text": [
      "[[6 8]\n",
      " [2 4]\n",
      " [8 3]]\n",
      "\n",
      "\n",
      "[[4 4 9]\n",
      " [9 2 4]]\n"
     ]
    }
   ],
   "source": [
    "x = np.random.randint(1, 10, (3,2))\n",
    "y = np.random.randint(1, 10, (2,3))\n",
    "print(x)\n",
    "print('\\n')\n",
    "print(y)"
   ]
  },
  {
   "cell_type": "code",
   "execution_count": 89,
   "id": "c6751d38",
   "metadata": {},
   "outputs": [
    {
     "ename": "ValueError",
     "evalue": "operands could not be broadcast together with shapes (3,2) (2,3) ",
     "output_type": "error",
     "traceback": [
      "\u001b[1;31m---------------------------------------------------------------------------\u001b[0m",
      "\u001b[1;31mValueError\u001b[0m                                Traceback (most recent call last)",
      "\u001b[1;32m<ipython-input-89-ef111d8bec6b>\u001b[0m in \u001b[0;36m<module>\u001b[1;34m\u001b[0m\n\u001b[1;32m----> 1\u001b[1;33m \u001b[0mans\u001b[0m \u001b[1;33m=\u001b[0m \u001b[0mx\u001b[0m \u001b[1;33m-\u001b[0m \u001b[0my\u001b[0m\u001b[1;33m\u001b[0m\u001b[1;33m\u001b[0m\u001b[0m\n\u001b[0m\u001b[0;32m      2\u001b[0m \u001b[0mprint\u001b[0m\u001b[1;33m(\u001b[0m\u001b[0mans\u001b[0m\u001b[1;33m)\u001b[0m\u001b[1;33m\u001b[0m\u001b[1;33m\u001b[0m\u001b[0m\n",
      "\u001b[1;31mValueError\u001b[0m: operands could not be broadcast together with shapes (3,2) (2,3) "
     ]
    }
   ],
   "source": [
    "ans = x - y\n",
    "print(ans)"
   ]
  },
  {
   "cell_type": "markdown",
   "id": "175e189c",
   "metadata": {},
   "source": [
    "#### Transposing the array"
   ]
  },
  {
   "cell_type": "code",
   "execution_count": 90,
   "id": "ec3597bf",
   "metadata": {},
   "outputs": [
    {
     "name": "stdout",
     "output_type": "stream",
     "text": [
      "[[4 9]\n",
      " [4 2]\n",
      " [9 4]]\n",
      "\n",
      "\n",
      "[[ 2 -1]\n",
      " [-2  2]\n",
      " [-1 -1]]\n"
     ]
    }
   ],
   "source": [
    "y = np.transpose(y)\n",
    "print(y)\n",
    "print('\\n')\n",
    "ans = x - y\n",
    "print(ans)"
   ]
  },
  {
   "cell_type": "code",
   "execution_count": null,
   "id": "585adb95",
   "metadata": {},
   "outputs": [],
   "source": [
    " "
   ]
  }
 ],
 "metadata": {
  "kernelspec": {
   "display_name": "Python 3",
   "language": "python",
   "name": "python3"
  },
  "language_info": {
   "codemirror_mode": {
    "name": "ipython",
    "version": 3
   },
   "file_extension": ".py",
   "mimetype": "text/x-python",
   "name": "python",
   "nbconvert_exporter": "python",
   "pygments_lexer": "ipython3",
   "version": "3.7.10"
  },
  "toc": {
   "base_numbering": 1,
   "nav_menu": {},
   "number_sections": false,
   "sideBar": true,
   "skip_h1_title": false,
   "title_cell": "Table of Contents",
   "title_sidebar": "Contents",
   "toc_cell": false,
   "toc_position": {},
   "toc_section_display": true,
   "toc_window_display": false
  }
 },
 "nbformat": 4,
 "nbformat_minor": 5
}

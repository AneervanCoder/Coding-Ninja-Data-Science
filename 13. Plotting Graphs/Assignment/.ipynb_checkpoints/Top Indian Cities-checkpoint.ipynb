{
 "cells": [
  {
   "cell_type": "markdown",
   "id": "712af562",
   "metadata": {},
   "source": [
    "## Top Indian Cities\n",
    "\n",
    "#### Problem Statement:\n",
    "Find out which cities are generally chosen for starting a startup.<br>\n",
    "Find top 10 Indian cities which have most number of startups?.<br>\n",
    "Plot a pie chart and number of startups in that city also.<br>\n",
    "<br>\n",
    "__Note:__\n",
    "Take city name \"Delhi\" as \"New Delhi\".<br>\n",
    "<br>\n",
    "Check the case-sensitiveness of cities also. That means at some place, instead of \"Bangalore\", \"bangalore\" is given. Take city name as \"Bangalore\"<br>\n",
    "<br>\n",
    "For few startups multiple locations are given, one Indian and one Foreign. Count those startups in Indian startup also. Indian city name is first.<br>\n",
    "<br>\n",
    "Print the city in descending order with respect to the number of startups.<br>\n",
    "\n",
    "#### Output Format:\n",
    "city1 number1<br>\n",
    "city2 number2<br>\n",
    "....<br>\n",
    "....<br>\n",
    "....<br>"
   ]
  },
  {
   "cell_type": "code",
   "execution_count": null,
   "id": "12bf8ce5",
   "metadata": {},
   "outputs": [],
   "source": []
  }
 ],
 "metadata": {
  "kernelspec": {
   "display_name": "Python 3",
   "language": "python",
   "name": "python3"
  },
  "language_info": {
   "codemirror_mode": {
    "name": "ipython",
    "version": 3
   },
   "file_extension": ".py",
   "mimetype": "text/x-python",
   "name": "python",
   "nbconvert_exporter": "python",
   "pygments_lexer": "ipython3",
   "version": "3.7.10"
  },
  "toc": {
   "base_numbering": 1,
   "nav_menu": {},
   "number_sections": false,
   "sideBar": true,
   "skip_h1_title": false,
   "title_cell": "Table of Contents",
   "title_sidebar": "Contents",
   "toc_cell": false,
   "toc_position": {},
   "toc_section_display": true,
   "toc_window_display": false
  }
 },
 "nbformat": 4,
 "nbformat_minor": 5
}

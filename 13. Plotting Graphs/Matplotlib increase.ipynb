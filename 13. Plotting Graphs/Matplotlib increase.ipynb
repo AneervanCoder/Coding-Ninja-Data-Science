{
 "cells": [
  {
   "cell_type": "markdown",
   "id": "1e8405c6",
   "metadata": {},
   "source": [
    "## Matplotlib Increase\n",
    "\n",
    "Create two arrays, x and y.<br>\n",
    "<br>\n",
    "x should hold first 20 even points starting from 0 and y should be an exponentiation array where y[i] = 2^x[i].<br>\n",
    "<br>\n",
    "Plot a line graph, line should be of color blue and it should be a dashed line (like----).<br>\n",
    "<br>\n",
    "Find the value of x from where there is slight increase in value of y as shown in your plot.<br>\n",
    "<br>\n",
    "Plot and print the value of x.<br>\n",
    "<br>\n",
    "__Note:__ Here x must be multiple of 5\n",
    "\n",
    "#### Output Format:\n",
    "x"
   ]
  },
  {
   "cell_type": "code",
   "execution_count": 1,
   "id": "58377c75",
   "metadata": {},
   "outputs": [],
   "source": [
    "# Importing the libraries\n",
    "import numpy as np\n",
    "import matplotlib.pyplot as plt "
   ]
  },
  {
   "cell_type": "code",
   "execution_count": 13,
   "id": "4f80c15f",
   "metadata": {},
   "outputs": [
    {
     "name": "stdout",
     "output_type": "stream",
     "text": [
      "[ 0  1  2  3  4  5  6  7  8  9 10 11 12 13 14 15 16 17 18 19]\n",
      "[     1      2      4      8     16     32     64    128    256    512\n",
      "   1024   2048   4096   8192  16384  32768  65536 131072 262144 524288]\n"
     ]
    }
   ],
   "source": [
    "x = np.arange(0, 20)\n",
    "print(x)\n",
    "y = np.array(2 ** x)\n",
    "print(y)"
   ]
  },
  {
   "cell_type": "code",
   "execution_count": 16,
   "id": "53552b47",
   "metadata": {},
   "outputs": [
    {
     "data": {
      "image/png": "[encoded data removed]",
      "text/plain": [
       "<Figure size 432x288 with 1 Axes>"
      ]
     },
     "metadata": {
      "needs_background": "light"
     },
     "output_type": "display_data"
    }
   ],
   "source": [
    "plt.plot(x, y, 'b-')\n",
    "plt.xlabel('X-values')\n",
    "plt.ylabel('Y-values')\n",
    "plt.show()"
   ]
  },
  {
   "cell_type": "code",
   "execution_count": null,
   "id": "50b0b9fd",
   "metadata": {},
   "outputs": [],
   "source": []
  }
 ],
 "metadata": {
  "kernelspec": {
   "display_name": "Python 3",
   "language": "python",
   "name": "python3"
  },
  "language_info": {
   "codemirror_mode": {
    "name": "ipython",
    "version": 3
   },
   "file_extension": ".py",
   "mimetype": "text/x-python",
   "name": "python",
   "nbconvert_exporter": "python",
   "pygments_lexer": "ipython3",
   "version": "3.7.10"
  },
  "toc": {
   "base_numbering": 1,
   "nav_menu": {},
   "number_sections": false,
   "sideBar": true,
   "skip_h1_title": false,
   "title_cell": "Table of Contents",
   "title_sidebar": "Contents",
   "toc_cell": false,
   "toc_position": {},
   "toc_section_display": true,
   "toc_window_display": false
  }
 },
 "nbformat": 4,
 "nbformat_minor": 5
}

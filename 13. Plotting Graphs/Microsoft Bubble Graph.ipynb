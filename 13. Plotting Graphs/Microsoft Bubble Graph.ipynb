{
 "cells": [
  {
   "cell_type": "markdown",
   "id": "c13059be",
   "metadata": {},
   "source": [
    "## Microsoft Bubble Graph\n",
    "\n",
    "We are given data of Microsoft Corposrations, it contains the gross annual revenue in billion U.S dollar and the number of employees in thousands and year.<br>\n",
    "Plot a bubble graph to visualise how revenue and number of employee channged with year.<br>\n",
    "<br>\n",
    "Find years where there is a drastic increase in gross revenue of Microsoft Corporations(from previous and next year both). Plot the bubble chart between year and revenue and keeping employee inside the bubble.<br>\n",
    "<br>\n",
    "Print the year, revenue and number of the employee where there is drastic increase in revenue(Top 2).<br>\n",
    "<br>\n",
    "__Note:__ For finding the year where there is a drasctic increase in gross revenue check whether the revenue of the year is greater than in previous years and greater than next year. Here years should be printed in ascending order.\n",
    "\n",
    "#### Output Format:\n",
    "year1 revenue1 employee1<br>\n",
    "year2 revenue2 employee2<br>\n",
    "...<br>\n",
    "...<br>\n",
    "...<br>"
   ]
  },
  {
   "cell_type": "code",
   "execution_count": 1,
   "id": "9a8db602",
   "metadata": {},
   "outputs": [],
   "source": [
    "# Importing the libraries\n",
    "import numpy as np\n",
    "import matplotlib.pyplot as plt"
   ]
  },
  {
   "cell_type": "code",
   "execution_count": null,
   "id": "c0310eff",
   "metadata": {},
   "outputs": [],
   "source": [
    "x1"
   ]
  }
 ],
 "metadata": {
  "kernelspec": {
   "display_name": "Python 3",
   "language": "python",
   "name": "python3"
  },
  "language_info": {
   "codemirror_mode": {
    "name": "ipython",
    "version": 3
   },
   "file_extension": ".py",
   "mimetype": "text/x-python",
   "name": "python",
   "nbconvert_exporter": "python",
   "pygments_lexer": "ipython3",
   "version": "3.7.10"
  },
  "toc": {
   "base_numbering": 1,
   "nav_menu": {},
   "number_sections": false,
   "sideBar": true,
   "skip_h1_title": false,
   "title_cell": "Table of Contents",
   "title_sidebar": "Contents",
   "toc_cell": false,
   "toc_position": {},
   "toc_section_display": true,
   "toc_window_display": false
  }
 },
 "nbformat": 4,
 "nbformat_minor": 5
}

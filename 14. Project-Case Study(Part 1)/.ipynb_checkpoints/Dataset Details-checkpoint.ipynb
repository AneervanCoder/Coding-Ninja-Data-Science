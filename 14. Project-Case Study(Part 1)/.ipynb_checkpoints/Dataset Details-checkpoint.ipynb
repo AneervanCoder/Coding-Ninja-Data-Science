{
 "cells": [
  {
   "cell_type": "markdown",
   "id": "c68cd878",
   "metadata": {},
   "source": [
    "## Dataset Details"
   ]
  },
  {
   "cell_type": "markdown",
   "id": "1f8808a8",
   "metadata": {},
   "source": [
    "This dataset has funding information of the Indian startups from January 2015 to August 2017<br>\n",
    "<br>\n",
    "#### Feature Details:\n",
    "__SNo__ - Serial Number<br>\n",
    "__Date__- Date of funding in format DD/MM/YYYY<br>\n",
    "__StartupName__- Name of the startup which got funded<br>\n",
    "__IndustryVertical__- industry to which the startup belongs<br>\n",
    "__SubVertical__ - Sub-category of the industry type<br>\n",
    "__CityLocation__- City which the startup is based out of<br>\n",
    "__InvestorName__ - Name of the investors involved in the funding round<br>\n",
    "__InvestmentType__- Either Private Equity or speed Funding<br>\n",
    "__AmountInUSD__ - Funding Amount in USD<br>\n",
    "__Remarks__ - Other information, if any<br>\n",
    "<br>\n",
    "#### Insights-\n",
    "Find out what type of startups are getting funded in the last few years?<br>\n",
    "Who are the important investors?<br>\n",
    "Whar are the hot fields that get a lot of funding that days?<br>"
   ]
  }
 ],
 "metadata": {
  "kernelspec": {
   "display_name": "Python 3",
   "language": "python",
   "name": "python3"
  },
  "language_info": {
   "codemirror_mode": {
    "name": "ipython",
    "version": 3
   },
   "file_extension": ".py",
   "mimetype": "text/x-python",
   "name": "python",
   "nbconvert_exporter": "python",
   "pygments_lexer": "ipython3",
   "version": "3.7.10"
  },
  "toc": {
   "base_numbering": 1,
   "nav_menu": {},
   "number_sections": false,
   "sideBar": true,
   "skip_h1_title": false,
   "title_cell": "Table of Contents",
   "title_sidebar": "Contents",
   "toc_cell": false,
   "toc_position": {},
   "toc_section_display": true,
   "toc_window_display": false
  }
 },
 "nbformat": 4,
 "nbformat_minor": 5
}

{
 "cells": [
  {
   "cell_type": "markdown",
   "id": "c9247ab7",
   "metadata": {},
   "source": [
    "## Hound Sub-breeds\n",
    "\n",
    "Print all sub-breeds of hound by making a get request to given URL.\n",
    "<br>\n",
    "URL : https://dog.ceo/api/breeds/list/all\n",
    "<br>\n",
    "Print name of sub-breeds in different lines"
   ]
  },
  {
   "cell_type": "code",
   "execution_count": 2,
   "id": "2a367939",
   "metadata": {},
   "outputs": [
    {
     "name": "stdout",
     "output_type": "stream",
     "text": [
      "afghan\n",
      "basset\n",
      "blood\n",
      "english\n",
      "ibizan\n",
      "plott\n",
      "walker\n"
     ]
    }
   ],
   "source": [
    "import requests as rq\n",
    "response = rq.get(\"https://dog.ceo/api/breeds/list/all\")\n",
    "py_data = response.json()\n",
    "\n",
    "for i in py_data['message']['hound']:\n",
    "    print(i)"
   ]
  },
  {
   "cell_type": "code",
   "execution_count": null,
   "id": "f8df43a4",
   "metadata": {},
   "outputs": [],
   "source": []
  }
 ],
 "metadata": {
  "kernelspec": {
   "display_name": "Python 3",
   "language": "python",
   "name": "python3"
  },
  "language_info": {
   "codemirror_mode": {
    "name": "ipython",
    "version": 3
   },
   "file_extension": ".py",
   "mimetype": "text/x-python",
   "name": "python",
   "nbconvert_exporter": "python",
   "pygments_lexer": "ipython3",
   "version": "3.7.10"
  },
  "toc": {
   "base_numbering": 1,
   "nav_menu": {},
   "number_sections": false,
   "sideBar": true,
   "skip_h1_title": false,
   "title_cell": "Table of Contents",
   "title_sidebar": "Contents",
   "toc_cell": false,
   "toc_position": {},
   "toc_section_display": true,
   "toc_window_display": false
  }
 },
 "nbformat": 4,
 "nbformat_minor": 5
}

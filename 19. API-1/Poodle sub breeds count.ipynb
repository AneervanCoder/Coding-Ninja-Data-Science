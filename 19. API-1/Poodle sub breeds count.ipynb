{
 "cells": [
  {
   "cell_type": "markdown",
   "id": "66bc183a",
   "metadata": {},
   "source": [
    "## Poodle Sub breeds count"
   ]
  },
  {
   "cell_type": "markdown",
   "id": "0d669f2e",
   "metadata": {},
   "source": [
    "Print the count of total sub-breeds of poodle from this.<br>\n",
    "URL: https://dog.ceo/api/breeds/list/all"
   ]
  },
  {
   "cell_type": "code",
   "execution_count": 1,
   "id": "beef55e0",
   "metadata": {},
   "outputs": [
    {
     "name": "stdout",
     "output_type": "stream",
     "text": [
      "3\n"
     ]
    }
   ],
   "source": [
    "import requests as rq\n",
    "response = rq.get(\"https://dog.ceo/api/breeds/list/all\")\n",
    "py_data = response.json()\n",
    "print(len(py_data['message']['poodle']))"
   ]
  }
 ],
 "metadata": {
  "kernelspec": {
   "display_name": "Python 3",
   "language": "python",
   "name": "python3"
  },
  "language_info": {
   "codemirror_mode": {
    "name": "ipython",
    "version": 3
   },
   "file_extension": ".py",
   "mimetype": "text/x-python",
   "name": "python",
   "nbconvert_exporter": "python",
   "pygments_lexer": "ipython3",
   "version": "3.7.10"
  },
  "toc": {
   "base_numbering": 1,
   "nav_menu": {},
   "number_sections": false,
   "sideBar": true,
   "skip_h1_title": false,
   "title_cell": "Table of Contents",
   "title_sidebar": "Contents",
   "toc_cell": false,
   "toc_position": {
    "height": "calc(100% - 180px)",
    "left": "10px",
    "top": "150px",
    "width": "136.188px"
   },
   "toc_section_display": true,
   "toc_window_display": false
  }
 },
 "nbformat": 4,
 "nbformat_minor": 5
}

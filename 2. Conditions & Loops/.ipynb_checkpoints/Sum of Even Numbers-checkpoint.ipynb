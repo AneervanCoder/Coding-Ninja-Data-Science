{
 "cells": [
  {
   "cell_type": "markdown",
   "metadata": {},
   "source": [
    "### Sum of Even Numbers\n",
    "\n",
    "Given a number N, print sum of all even numbers from 1 to N\n",
    "\n",
    "#### Input Format:\n",
    "Integer N\n",
    "#### Output Format:\n",
    "Required Sum\n",
    "#### Sample Input 1:\n",
    "6\n",
    "#### Sample Output 1:\n",
    "12"
   ]
  },
  {
   "cell_type": "code",
   "execution_count": 1,
   "metadata": {},
   "outputs": [
    {
     "name": "stdout",
     "output_type": "stream",
     "text": [
      "6\n",
      "12\n"
     ]
    }
   ],
   "source": [
    "n = int(input())\n",
    "s = 0\n",
    "while(n > 0):\n",
    "    if(n % 2 == 0):\n",
    "        s = s + n\n",
    "    n = n - 1\n",
    "print(s)"
   ]
  }
 ],
 "metadata": {
  "kernelspec": {
   "display_name": "Python 3",
   "language": "python",
   "name": "python3"
  },
  "language_info": {
   "codemirror_mode": {
    "name": "ipython",
    "version": 3
   },
   "file_extension": ".py",
   "mimetype": "text/x-python",
   "name": "python",
   "nbconvert_exporter": "python",
   "pygments_lexer": "ipython3",
   "version": "3.7.7"
  }
 },
 "nbformat": 4,
 "nbformat_minor": 4
}

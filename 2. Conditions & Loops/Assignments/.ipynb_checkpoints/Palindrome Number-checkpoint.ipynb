{
 "cells": [
  {
   "cell_type": "markdown",
   "metadata": {},
   "source": [
    "### Palindrome Number\n",
    "\n",
    "Write a program to determine if given number is a palindrome or not. Print true it is palindrome, false otherwise.\n",
    "\n",
    "__Palindrome are the numbers for which reverse is exactly same as the original one. For eg. 121__\n",
    "\n",
    "#### Sample Input 1:\n",
    "121\n",
    "#### Sample Output 1:\n",
    "true\n",
    "#### Sample Input 2:\n",
    "1032\n",
    "#### Sample Output 2:\n",
    "false"
   ]
  },
  {
   "cell_type": "code",
   "execution_count": 5,
   "metadata": {},
   "outputs": [
    {
     "name": "stdout",
     "output_type": "stream",
     "text": [
      "121\n",
      "true\n"
     ]
    }
   ],
   "source": [
    "n = int(input())\n",
    "temp = n\n",
    "rev = 0\n",
    "while(temp > 0):\n",
    "    r = temp % 10\n",
    "    rev = (rev * 10) + r;\n",
    "    temp = temp // 10\n",
    "    \n",
    "if (rev == n):\n",
    "    print(\"true\")\n",
    "else:\n",
    "    print(\"false\")"
   ]
  }
 ],
 "metadata": {
  "kernelspec": {
   "display_name": "Python 3",
   "language": "python",
   "name": "python3"
  },
  "language_info": {
   "codemirror_mode": {
    "name": "ipython",
    "version": 3
   },
   "file_extension": ".py",
   "mimetype": "text/x-python",
   "name": "python",
   "nbconvert_exporter": "python",
   "pygments_lexer": "ipython3",
   "version": "3.7.7"
  }
 },
 "nbformat": 4,
 "nbformat_minor": 4
}

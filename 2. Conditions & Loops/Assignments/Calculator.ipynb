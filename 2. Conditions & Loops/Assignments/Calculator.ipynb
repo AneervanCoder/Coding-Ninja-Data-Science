{
 "cells": [
  {
   "cell_type": "markdown",
   "metadata": {},
   "source": [
    "### Calculator\n",
    "\n",
    "Write a program that performs the tasks of a simple calculator. The program should first take an integer as input and then based on that integer perform the task as given below.\n",
    "1. If the input is 1, then 2 integers are taken from the user and their sum is printed.\n",
    "2. If the input is 2, then 2 integers are taken from the user and their difference(1st number - 2nd number) is printed.\n",
    "3. If the input is 3, then 2 integers are taken from the user and their product is printed.\n",
    "4. If the input is 4, then 2 integers are taken from the user and the quotient obtained (on dividing 1st number by 2nd number) is printed.\n",
    "5. If the input is 5, then 2 integers are taken from the user and their remainder(1st number mod 2nd number) is printed.\n",
    "6. If the input is 6, then the program exits.\n",
    "7. For any other input, then print \"Invalid Operation\".\n",
    "Note: Each answer in next line.\n",
    "#### Input format:\n",
    "Take integers as input, in accordance to the description of the question. \n",
    "#### Constraints:\n",
    "Time Limit: 1 second\n",
    "#### Output format:\n",
    "The output lines must be as prescribed in the description of the question.\n",
    "#### Sample Input:\n",
    "3<br>\n",
    "1<br>\n",
    "2<br>\n",
    "4<br>\n",
    "4<br>\n",
    "2<br>\n",
    "1<br>\n",
    "3<br>\n",
    "2<br>\n",
    "7<br>\n",
    "6<br>\n",
    "#### Sample Output:\n",
    "2<br>\n",
    "2<br>\n",
    "5<br>\n",
    "Invalid Operation\n",
    "##### Explanation of the sample input\n",
    "The first number given is 3, so that means two more numbers will be given and we'll have to multiply them and show the result. The two numbers are 1 and 2. Their product is 2, so 2 is displayed first in the output. Similarly, all the numbers are processed in groups of three. The first number tells the operation and the next two numbers tell on which numbers the operation is done. This applies to numbers from 1 to 5. If the input is 6 (like it is at the end), two more numbers will NOT be provided, you simply have to exit the program. Also, if the input is any number except 1 to 6 (like 7 which is at the second last), then you simply have to print \"Invalid Operation\""
   ]
  },
  {
   "cell_type": "code",
   "execution_count": 3,
   "metadata": {},
   "outputs": [
    {
     "name": "stdout",
     "output_type": "stream",
     "text": [
      "3\n",
      "3\n",
      "1\n",
      "2\n",
      "2\n",
      "4\n",
      "4\n",
      "3\n",
      "1.3333333333333333\n",
      "1\n",
      "3\n",
      "2\n",
      "5\n",
      "7\n",
      "Invalid Operation\n",
      "6\n",
      "3\n",
      "\n"
     ]
    },
    {
     "ename": "ValueError",
     "evalue": "invalid literal for int() with base 10: ''",
     "output_type": "error",
     "traceback": [
      "\u001b[1;31m---------------------------------------------------------------------------\u001b[0m",
      "\u001b[1;31mValueError\u001b[0m                                Traceback (most recent call last)",
      "\u001b[1;32m<ipython-input-3-6f6e547db37f>\u001b[0m in \u001b[0;36m<module>\u001b[1;34m\u001b[0m\n\u001b[0;32m     14\u001b[0m         \u001b[0mprint\u001b[0m\u001b[1;33m(\u001b[0m\u001b[0mdiff\u001b[0m\u001b[1;33m)\u001b[0m\u001b[1;33m\u001b[0m\u001b[1;33m\u001b[0m\u001b[0m\n\u001b[0;32m     15\u001b[0m     \u001b[1;32melif\u001b[0m\u001b[1;33m(\u001b[0m\u001b[0ma\u001b[0m \u001b[1;33m==\u001b[0m \u001b[1;36m3\u001b[0m\u001b[1;33m)\u001b[0m\u001b[1;33m:\u001b[0m\u001b[1;33m\u001b[0m\u001b[1;33m\u001b[0m\u001b[0m\n\u001b[1;32m---> 16\u001b[1;33m         \u001b[0ma1\u001b[0m \u001b[1;33m=\u001b[0m \u001b[0mint\u001b[0m\u001b[1;33m(\u001b[0m\u001b[0minput\u001b[0m\u001b[1;33m(\u001b[0m\u001b[1;33m)\u001b[0m\u001b[1;33m)\u001b[0m\u001b[1;33m\u001b[0m\u001b[1;33m\u001b[0m\u001b[0m\n\u001b[0m\u001b[0;32m     17\u001b[0m         \u001b[0ma2\u001b[0m \u001b[1;33m=\u001b[0m \u001b[0mint\u001b[0m\u001b[1;33m(\u001b[0m\u001b[0minput\u001b[0m\u001b[1;33m(\u001b[0m\u001b[1;33m)\u001b[0m\u001b[1;33m)\u001b[0m\u001b[1;33m\u001b[0m\u001b[1;33m\u001b[0m\u001b[0m\n\u001b[0;32m     18\u001b[0m         \u001b[0mprod\u001b[0m \u001b[1;33m=\u001b[0m \u001b[0ma1\u001b[0m \u001b[1;33m*\u001b[0m \u001b[0ma2\u001b[0m\u001b[1;33m\u001b[0m\u001b[1;33m\u001b[0m\u001b[0m\n",
      "\u001b[1;31mValueError\u001b[0m: invalid literal for int() with base 10: ''"
     ]
    }
   ],
   "source": [
    "n = int(input())\n",
    "while(n > 0):\n",
    "    a = int(input())\n",
    "\n",
    "    if(a == 1):\n",
    "        a1 = int(input())\n",
    "        a2 = int(input())\n",
    "        s = a1 + a2\n",
    "        print(s)\n",
    "    elif(a == 2):\n",
    "        a1 = int(input())\n",
    "        a2 = int(input())\n",
    "        diff = a1 - a2\n",
    "        print(diff)\n",
    "    elif(a == 3):\n",
    "        a1 = int(input())\n",
    "        a2 = int(input())\n",
    "        prod = a1 * a2\n",
    "        print(prod)\n",
    "    elif(a == 4):\n",
    "        a1 = int(input())\n",
    "        a2 = int(input())\n",
    "        div = a1 / a2\n",
    "        print(div)\n",
    "    elif(a == 5):\n",
    "        a1 = int(input())\n",
    "        a2 = int(input())\n",
    "        rem = a1 % a2\n",
    "        print(rem)\n",
    "    elif(a == 6):\n",
    "        exit()\n",
    "    else:\n",
    "        print(\"Invalid Operation\")"
   ]
  },
  {
   "cell_type": "code",
   "execution_count": null,
   "metadata": {},
   "outputs": [],
   "source": []
  }
 ],
 "metadata": {
  "kernelspec": {
   "display_name": "Python 3",
   "language": "python",
   "name": "python3"
  },
  "language_info": {
   "codemirror_mode": {
    "name": "ipython",
    "version": 3
   },
   "file_extension": ".py",
   "mimetype": "text/x-python",
   "name": "python",
   "nbconvert_exporter": "python",
   "pygments_lexer": "ipython3",
   "version": "3.7.7"
  }
 },
 "nbformat": 4,
 "nbformat_minor": 4
}

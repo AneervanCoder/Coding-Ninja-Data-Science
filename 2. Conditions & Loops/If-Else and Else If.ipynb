{
 "cells": [
  {
   "cell_type": "markdown",
   "metadata": {},
   "source": [
    "### IF ELSE"
   ]
  },
  {
   "cell_type": "code",
   "execution_count": 3,
   "metadata": {},
   "outputs": [
    {
     "name": "stdout",
     "output_type": "stream",
     "text": [
      "I am inside if\n",
      "I am inside if2\n"
     ]
    }
   ],
   "source": [
    "a = True\n",
    "if a:\n",
    "    print(\"I am inside if\")\n",
    "    print(\"I am inside if2\")\n",
    "else:\n",
    "    print(\"I am in else\")"
   ]
  },
  {
   "cell_type": "code",
   "execution_count": 4,
   "metadata": {},
   "outputs": [
    {
     "name": "stdout",
     "output_type": "stream",
     "text": [
      "10\n",
      "n is even\n"
     ]
    }
   ],
   "source": [
    "# check number to be odd or even\n",
    "n = int(input())\n",
    "\n",
    "if (n % 2 == 0):\n",
    "    print(\"n is even\")\n",
    "else:\n",
    "    print(\"n is odd\")"
   ]
  },
  {
   "cell_type": "markdown",
   "metadata": {},
   "source": [
    "### Using operators in if else"
   ]
  },
  {
   "cell_type": "code",
   "execution_count": 6,
   "metadata": {},
   "outputs": [
    {
     "name": "stdout",
     "output_type": "stream",
     "text": [
      "11\n",
      "20\n",
      "Both > 10\n"
     ]
    }
   ],
   "source": [
    "a = int(input())\n",
    "b = int(input())\n",
    "\n",
    "if a > 10 and b > 10:\n",
    "    print(\"Both > 10\")\n",
    "else:\n",
    "    print(\"No they are not\")"
   ]
  },
  {
   "cell_type": "code",
   "execution_count": 7,
   "metadata": {},
   "outputs": [
    {
     "name": "stdout",
     "output_type": "stream",
     "text": [
      "4\n",
      "no it is not 7\n"
     ]
    }
   ],
   "source": [
    "a = int(input())\n",
    "if a == 7:\n",
    "    print(\"It is 7\")\n",
    "else:\n",
    "    print(\"no it is not 7\")"
   ]
  },
  {
   "cell_type": "markdown",
   "metadata": {},
   "source": [
    "### ELIF"
   ]
  },
  {
   "cell_type": "code",
   "execution_count": 12,
   "metadata": {},
   "outputs": [
    {
     "name": "stdout",
     "output_type": "stream",
     "text": [
      "3\n",
      "3\n",
      "1\n",
      "3\n"
     ]
    }
   ],
   "source": [
    "# finding largest\n",
    "a = int(input())\n",
    "b = int(input())\n",
    "c = int(input())\n",
    "\n",
    "if a >= b and a >= c:\n",
    "    print(a)\n",
    "elif b >= a and b >= c:\n",
    "    print(b)\n",
    "else:\n",
    "    print(c)"
   ]
  },
  {
   "cell_type": "code",
   "execution_count": 16,
   "metadata": {},
   "outputs": [
    {
     "name": "stdout",
     "output_type": "stream",
     "text": [
      "3\n",
      "Yellow\n"
     ]
    }
   ],
   "source": [
    "n = int(input())\n",
    "if n > 10:\n",
    "    print(\"red\")\n",
    "elif n >= 5:\n",
    "    print(\"green\")\n",
    "elif n > 0:\n",
    "    print(\"Yellow\")"
   ]
  },
  {
   "cell_type": "code",
   "execution_count": 17,
   "metadata": {},
   "outputs": [
    {
     "name": "stdout",
     "output_type": "stream",
     "text": [
      "20\n",
      "green\n"
     ]
    }
   ],
   "source": [
    "n = int(input())\n",
    "if n >= 5:\n",
    "    print(\"green\")\n",
    "elif n > 10:\n",
    "    print(\"red\")\n",
    "elif n > 0:\n",
    "    print(\"Yellow\")"
   ]
  },
  {
   "cell_type": "markdown",
   "metadata": {},
   "source": [
    "### Nested IF Else"
   ]
  },
  {
   "cell_type": "code",
   "execution_count": 18,
   "metadata": {},
   "outputs": [
    {
     "name": "stdout",
     "output_type": "stream",
     "text": [
      "0\n",
      "n is even\n",
      "n is zero\n"
     ]
    }
   ],
   "source": [
    "n = int(input())\n",
    "\n",
    "if (n % 2 == 0):\n",
    "    print(\"n is even\")\n",
    "    if n == 0:\n",
    "        print (\"n is zero\")\n",
    "else:\n",
    "    print(\"n is odd\")"
   ]
  },
  {
   "cell_type": "code",
   "execution_count": 19,
   "metadata": {},
   "outputs": [
    {
     "name": "stdout",
     "output_type": "stream",
     "text": [
      "2\n",
      "1\n",
      "2\n"
     ]
    }
   ],
   "source": [
    "n = int(input())\n",
    "m = int(input())\n",
    "\n",
    "if n % 2 == 0:\n",
    "    if m % 2 == 0:\n",
    "        print(1)\n",
    "    else:\n",
    "        print(2)\n",
    "else:\n",
    "    print(3)"
   ]
  },
  {
   "cell_type": "code",
   "execution_count": null,
   "metadata": {},
   "outputs": [],
   "source": []
  }
 ],
 "metadata": {
  "kernelspec": {
   "display_name": "Python 3",
   "language": "python",
   "name": "python3"
  },
  "language_info": {
   "codemirror_mode": {
    "name": "ipython",
    "version": 3
   },
   "file_extension": ".py",
   "mimetype": "text/x-python",
   "name": "python",
   "nbconvert_exporter": "python",
   "pygments_lexer": "ipython3",
   "version": "3.7.7"
  }
 },
 "nbformat": 4,
 "nbformat_minor": 4
}

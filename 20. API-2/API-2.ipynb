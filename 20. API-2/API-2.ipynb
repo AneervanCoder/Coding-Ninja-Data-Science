{
 "cells": [
  {
   "cell_type": "markdown",
   "id": "4f92fa73",
   "metadata": {},
   "source": [
    "## Basic Authentication"
   ]
  },
  {
   "cell_type": "code",
   "execution_count": 4,
   "id": "2b7f321f",
   "metadata": {},
   "outputs": [
    {
     "name": "stdout",
     "output_type": "stream",
     "text": [
      "401\n"
     ]
    }
   ],
   "source": [
    "# https://api.github.com/user\n",
    "import requests\n",
    "from requests.auth import HTTPBasicAuth\n",
    "a = requests.get('https://api.github.com/user', auth = HTTPBasicAuth('AneervanCoder', 'Github@1618'))\n",
    "print(a.status_code)"
   ]
  },
  {
   "cell_type": "markdown",
   "id": "7f9fe124",
   "metadata": {},
   "source": [
    "### Reddit API"
   ]
  },
  {
   "cell_type": "markdown",
   "id": "dc5ddaaf",
   "metadata": {},
   "source": [
    "#### oAuth: Open Authorization"
   ]
  },
  {
   "cell_type": "code",
   "execution_count": 5,
   "id": "39619515",
   "metadata": {},
   "outputs": [],
   "source": [
    "## Client ID : TcutNQRANULjq49H-n-GNQ\n",
    "## Client Secret: bUOnC1bc5QrXTiusGkXEwLD5gmVMhA"
   ]
  },
  {
   "cell_type": "code",
   "execution_count": 6,
   "id": "e945754f",
   "metadata": {},
   "outputs": [],
   "source": [
    "import requests\n",
    "import json"
   ]
  },
  {
   "cell_type": "code",
   "execution_count": 8,
   "id": "3883b4f4",
   "metadata": {},
   "outputs": [
    {
     "name": "stdout",
     "output_type": "stream",
     "text": [
      "https://www.reddit.com/api/v1/authorize?client_id=TcutNQRANULjq49H-n-GNQ&response_type=code&state=random_123&redirect_uri=https%3A%2F%2Fwww.google.com%2F&scope=read\n"
     ]
    }
   ],
   "source": [
    "data = {'client_id' : 'TcutNQRANULjq49H-n-GNQ', 'response_type' : 'code', 'state' : 'random_123', \n",
    "        'redirect_uri' : 'https://www.google.com/', 'scope' : 'read'}\n",
    "response = requests.get('https://www.reddit.com/api/v1/authorize', params=data)\n",
    "print(response.url)"
   ]
  },
  {
   "cell_type": "code",
   "execution_count": 9,
   "id": "86e34a32",
   "metadata": {},
   "outputs": [],
   "source": [
    "## code=vDf-UByBqcsE2tGYjDDIvf7AlcaRmA#_"
   ]
  },
  {
   "cell_type": "code",
   "execution_count": 14,
   "id": "68b55b1b",
   "metadata": {},
   "outputs": [
    {
     "name": "stdout",
     "output_type": "stream",
     "text": [
      "{\"error\": \"invalid_grant\"}\n"
     ]
    }
   ],
   "source": [
    "data = {'grant_type': 'authorization_code', 'code' : 'vDf-UByBqcsE2tGYjDDIvf7AlcaRmA#_',\n",
    "       'redirect_uri' : 'https://www.google.com/'}\n",
    "r = requests.post('https://www.reddit.com/api/v1/access_token', data=data,\n",
    "                 auth = ('TcutNQRANULjq49H-n-GNQ', 'bUOnC1bc5QrXTiusGkXEwLD5gmVMhA'),\n",
    "                 headers = {'User-Agent' : 'AneervanRay'})\n",
    "print(r.text)"
   ]
  },
  {
   "cell_type": "markdown",
   "id": "523fdcbb",
   "metadata": {},
   "source": [
    "#### oAuth: Open Authorization"
   ]
  },
  {
   "cell_type": "code",
   "execution_count": 16,
   "id": "69da0dd3",
   "metadata": {},
   "outputs": [],
   "source": [
    "## Client ID : Apz-x05W33L1PSbQUoRJlA\n",
    "## Client Secret: mufaGPuriYSn1l812OJw0tDdKtWy3w"
   ]
  },
  {
   "cell_type": "code",
   "execution_count": 17,
   "id": "e2131711",
   "metadata": {},
   "outputs": [],
   "source": [
    "import requests\n",
    "import json"
   ]
  },
  {
   "cell_type": "code",
   "execution_count": 18,
   "id": "7f17a13c",
   "metadata": {},
   "outputs": [
    {
     "name": "stdout",
     "output_type": "stream",
     "text": [
      "https://www.reddit.com/api/v1/authorize?client_id=Apz-x05W33L1PSbQUoRJlA&response_type=code&state=random_1234&redirect_uri=https%3A%2F%2Fwww.google.com%2F&scope=read\n"
     ]
    }
   ],
   "source": [
    "data = {'client_id' : 'Apz-x05W33L1PSbQUoRJlA', 'response_type' : 'code', 'state' : 'random_1234', \n",
    "        'redirect_uri' : 'https://www.google.com/', 'scope' : 'read'}\n",
    "response = requests.get('https://www.reddit.com/api/v1/authorize', params=data)\n",
    "print(response.url)"
   ]
  },
  {
   "cell_type": "code",
   "execution_count": 19,
   "id": "ce6ccd40",
   "metadata": {},
   "outputs": [],
   "source": [
    "## code=jezmG8OqjzFp6s3D6XkIplMKdSBJZw#_"
   ]
  },
  {
   "cell_type": "code",
   "execution_count": 24,
   "id": "51aab173",
   "metadata": {},
   "outputs": [
    {
     "name": "stdout",
     "output_type": "stream",
     "text": [
      "{\"error\": \"invalid_grant\"}\n"
     ]
    }
   ],
   "source": [
    "data = {'grant_type': 'authorization_code', 'code' : '2c8b5toO74zxEDJjCB23JasRcOGOvQ#_',\n",
    "       'redirect_uri' : 'https://www.google.com/'}\n",
    "r = requests.post('https://www.reddit.com/api/v1/access_token', data=data,\n",
    "                 auth = ('Apz-x05W33L1PSbQUoRJlA', 'mufaGPuriYSn1l812OJw0tDdKtWy3w'),\n",
    "                 headers = {'User-Agent' : 'AneervanRay'})\n",
    "print(r.text)"
   ]
  },
  {
   "cell_type": "code",
   "execution_count": null,
   "id": "9d192468",
   "metadata": {},
   "outputs": [],
   "source": []
  }
 ],
 "metadata": {
  "kernelspec": {
   "display_name": "Python 3",
   "language": "python",
   "name": "python3"
  },
  "language_info": {
   "codemirror_mode": {
    "name": "ipython",
    "version": 3
   },
   "file_extension": ".py",
   "mimetype": "text/x-python",
   "name": "python",
   "nbconvert_exporter": "python",
   "pygments_lexer": "ipython3",
   "version": "3.7.10"
  },
  "toc": {
   "base_numbering": 1,
   "nav_menu": {},
   "number_sections": false,
   "sideBar": false,
   "skip_h1_title": false,
   "title_cell": "Table of Contents",
   "title_sidebar": "Contents",
   "toc_cell": false,
   "toc_position": {},
   "toc_section_display": false,
   "toc_window_display": false
  }
 },
 "nbformat": 4,
 "nbformat_minor": 5
}

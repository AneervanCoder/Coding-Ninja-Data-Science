{
 "cells": [
  {
   "cell_type": "markdown",
   "id": "03f7f017",
   "metadata": {},
   "source": [
    "## Diabetes Dataset"
   ]
  },
  {
   "cell_type": "markdown",
   "id": "2d4f2b6e",
   "metadata": {},
   "source": [
    "Diabetes dataset is one of the datasets available in sklearn. The diabetes dataset consists of 10 physiological variables (age, sex, weight, blood pressure) measure on 442 patients, and an indication of disease progression after one year.\n",
    "You are given a Training dataset csv file with X train and Y train data. As studied in lecture, your task is to come up with Linear Regression training algorithm and thus predictions for the test dataset given.<br>\n",
    "Read Instructions carefully -<br>"
   ]
  },
  {
   "cell_type": "markdown",
   "id": "ef61c885",
   "metadata": {},
   "source": [
    "1. Use Linear Regression(in scikit learn) as a training algorithm and submit results predicted by that.\n",
    "2. Files are in csv format, use genfromtxt function in numpy to load data from csv file. Similarly you can use savetxt function to save data into a file.\n",
    "3. Submit a csv file with only predictions for X test data. File should not have any headers and should only have one column i.e. predictions.  Also prediction values in file should be upto **5** decimal places.\n",
    "4. Upon submission of predictions, the score you will get is based on coefficient of determination."
   ]
  },
  {
   "cell_type": "code",
   "execution_count": 14,
   "id": "320096c4",
   "metadata": {},
   "outputs": [],
   "source": [
    "# importing the libraries\n",
    "# from sklearn import datasets\n",
    "import numpy as np"
   ]
  },
  {
   "cell_type": "code",
   "execution_count": 29,
   "id": "6ac79ff4",
   "metadata": {},
   "outputs": [],
   "source": [
    "# training data\n",
    "train_data = np.genfromtxt('train.csv', delimiter=\",\")\n",
    "X_train = train_data[:, :10]\n",
    "Y_train = train_data[:, 10]\n",
    "\n",
    "# replace nan with zero and inf with finite numbers\n",
    "np.nan_to_num(X_train, copy=False)\n",
    "np.nan_to_num(Y_train, copy=False)\n",
    "\n",
    "# testing data\n",
    "test_data = np.genfromtxt('test.csv', delimiter=\",\")\n",
    "X_test = test_data[:, :10]"
   ]
  },
  {
   "cell_type": "code",
   "execution_count": 28,
   "id": "cd674b86",
   "metadata": {},
   "outputs": [
    {
     "data": {
      "text/plain": [
       "False"
      ]
     },
     "execution_count": 28,
     "metadata": {},
     "output_type": "execute_result"
    }
   ],
   "source": [
    "np.isnan(X_train.sum())"
   ]
  },
  {
   "cell_type": "code",
   "execution_count": 31,
   "id": "2d534038",
   "metadata": {},
   "outputs": [
    {
     "data": {
      "text/plain": [
       "array([105.11179523, 105.34308768, 178.09400193,  78.94774372,\n",
       "        52.52435668,  98.41981121, 150.2207099 ,  34.43244504,\n",
       "       112.6980919 , 161.02311209, 135.39216084,  94.28397124,\n",
       "       138.01493865, 140.91457977, 158.34333612, 171.20893423,\n",
       "       105.99262814, 103.45634004,  94.91687857, 166.94578431,\n",
       "       166.077047  , 101.07510216, 251.98324384, 146.56789177,\n",
       "       214.26367536, 160.7836993 , 210.12490214,  71.35486683,\n",
       "       189.13918581, 206.16517779, 219.54375227, 168.31190965,\n",
       "       116.38627732, 178.22639602,  76.61559502,  59.11250593,\n",
       "       111.12103426, 156.47856326, 154.15338988, 198.46560604,\n",
       "       115.09110577, 152.99689762,  84.53236941, 113.26191574,\n",
       "       141.72416132, 146.83238467,  82.34730261,  77.47984988,\n",
       "       128.53797983, 261.13275173, 212.86960557, 243.52453723,\n",
       "       167.18105399, 183.18844601, 166.30438678, 201.67141662,\n",
       "       219.94375517, 171.9337859 , 176.13956423, 108.57062782,\n",
       "       275.86474455,  90.53164036, 288.91719474, 119.09918944,\n",
       "        75.00085351, 180.35922202, 146.17301783, 155.95493651,\n",
       "        40.65754565, 247.42890186, 207.51505004,  89.63912937,\n",
       "       221.74837974, 189.39430427, 181.77650128, 163.92132414,\n",
       "       189.80808202, 105.01179283, 199.39051965, 245.35265023,\n",
       "       122.77405172, 118.94971123, 145.42019102, 205.74523009,\n",
       "       150.43269298, 141.75941392, 154.13686599, 114.82928238,\n",
       "       133.66002351, 117.99511057, 203.12658065, 170.20043077,\n",
       "       126.92702913,  56.7123225 , 231.48076762, 184.73548756,\n",
       "       186.91679488,  83.1333714 , 184.94406338, 216.87612679,\n",
       "       108.43331525,  80.49057164, 126.6044536 , 241.53982112,\n",
       "       155.48696156, 125.21872286, 245.96622842, 234.47955953,\n",
       "       191.02414045, 167.85078411, 162.61012565])"
      ]
     },
     "execution_count": 31,
     "metadata": {},
     "output_type": "execute_result"
    }
   ],
   "source": [
    "# Linear Regression model\n",
    "from sklearn.linear_model import LinearRegression\n",
    "model = LinearRegression()\n",
    "\n",
    "# training the model with the training data\n",
    "model.fit(X_train, Y_train)\n",
    "\n",
    "# predicting the data with the test data\n",
    "pred = model.predict(X_test)\n",
    "pred"
   ]
  },
  {
   "cell_type": "code",
   "execution_count": 33,
   "id": "94d37af1",
   "metadata": {},
   "outputs": [],
   "source": [
    "# Converting the predicted value into 5 decimal places\n",
    "for i in range(len(pred)):\n",
    "    pred[i]=format(pred[i],'.5f')\n",
    "    \n",
    "# saving the data into the file\n",
    "np.savetxt('ans2.csv',pred,fmt='%.5f')"
   ]
  },
  {
   "cell_type": "code",
   "execution_count": 34,
   "id": "bebcf883",
   "metadata": {},
   "outputs": [],
   "source": [
    "score_test = model.score(X_test, pred)"
   ]
  },
  {
   "cell_type": "code",
   "execution_count": 35,
   "id": "1ca5a177",
   "metadata": {},
   "outputs": [
    {
     "data": {
      "text/plain": [
       "0.9999999999999971"
      ]
     },
     "execution_count": 35,
     "metadata": {},
     "output_type": "execute_result"
    }
   ],
   "source": [
    "score_test"
   ]
  }
 ],
 "metadata": {
  "kernelspec": {
   "display_name": "Python 3",
   "language": "python",
   "name": "python3"
  },
  "language_info": {
   "codemirror_mode": {
    "name": "ipython",
    "version": 3
   },
   "file_extension": ".py",
   "mimetype": "text/x-python",
   "name": "python",
   "nbconvert_exporter": "python",
   "pygments_lexer": "ipython3",
   "version": "3.7.10"
  },
  "toc": {
   "base_numbering": 1,
   "nav_menu": {},
   "number_sections": false,
   "sideBar": false,
   "skip_h1_title": false,
   "title_cell": "Table of Contents",
   "title_sidebar": "Contents",
   "toc_cell": false,
   "toc_position": {},
   "toc_section_display": false,
   "toc_window_display": false
  }
 },
 "nbformat": 4,
 "nbformat_minor": 5
}

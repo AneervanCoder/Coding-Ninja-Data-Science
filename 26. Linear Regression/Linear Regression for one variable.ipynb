{
 "cells": [
  {
   "cell_type": "code",
   "execution_count": 1,
   "id": "1eb59146",
   "metadata": {},
   "outputs": [],
   "source": [
    "import numpy as np"
   ]
  },
  {
   "cell_type": "code",
   "execution_count": 2,
   "id": "337a3d5d",
   "metadata": {},
   "outputs": [],
   "source": [
    "data = np.loadtxt('data.csv', delimiter=\",\")"
   ]
  },
  {
   "cell_type": "code",
   "execution_count": 25,
   "id": "bd170bbf",
   "metadata": {},
   "outputs": [],
   "source": [
    "x = data[:, 0]\n",
    "y = data[:, 1]"
   ]
  },
  {
   "cell_type": "code",
   "execution_count": 26,
   "id": "4f9cfb93",
   "metadata": {},
   "outputs": [
    {
     "data": {
      "text/plain": [
       "(100,)"
      ]
     },
     "execution_count": 26,
     "metadata": {},
     "output_type": "execute_result"
    }
   ],
   "source": [
    "x.shape"
   ]
  },
  {
   "cell_type": "code",
   "execution_count": 27,
   "id": "696860d9",
   "metadata": {},
   "outputs": [
    {
     "data": {
      "text/plain": [
       "(70,)"
      ]
     },
     "execution_count": 27,
     "metadata": {},
     "output_type": "execute_result"
    }
   ],
   "source": [
    "from sklearn.model_selection import train_test_split\n",
    "X_train, X_test, Y_train, Y_test = train_test_split(x, y, test_size=0.3)\n",
    "X_train.shape"
   ]
  },
  {
   "cell_type": "code",
   "execution_count": 28,
   "id": "eaaf0f3d",
   "metadata": {},
   "outputs": [],
   "source": [
    "# function to fit the data\n",
    "def fit(x_train, y_train):\n",
    "    num = (x_train * y_train).mean() - (x_train.mean() * y_train.mean())\n",
    "    den = (x_train**2).mean() - (x_train.mean()**2)\n",
    "    m = num / den\n",
    "    c = y_train.mean() - m * x_train.mean()\n",
    "    return m, c"
   ]
  },
  {
   "cell_type": "code",
   "execution_count": 29,
   "id": "4c52db86",
   "metadata": {},
   "outputs": [],
   "source": [
    "# function to predict the values\n",
    "def predict(x, m, c):\n",
    "    return m * x + c"
   ]
  },
  {
   "cell_type": "code",
   "execution_count": 30,
   "id": "6e4a8865",
   "metadata": {},
   "outputs": [],
   "source": [
    "# function for Coefficient of determination i.e Score\n",
    "def score(y_truth, y_pred):\n",
    "    u = ((y_truth - y_pred)**2).sum()\n",
    "    v = ((y_truth - y_truth.mean())**2).sum()\n",
    "    return 1 - u/v   "
   ]
  },
  {
   "cell_type": "code",
   "execution_count": 31,
   "id": "b9277eeb",
   "metadata": {},
   "outputs": [],
   "source": [
    "# function for cost function\n",
    "def cost(x, y, m, c):\n",
    "    return ((y - (m * x + c))**2).mean()"
   ]
  },
  {
   "cell_type": "code",
   "execution_count": 32,
   "id": "daab330a",
   "metadata": {},
   "outputs": [
    {
     "name": "stdout",
     "output_type": "stream",
     "text": [
      "Test Score:  0.6658998367168005\n",
      "Train Score:  0.5598065651647937\n",
      "M, C 1.2681374737987232 10.192365627566296\n",
      "Cost on training data  114.20597221296224\n"
     ]
    }
   ],
   "source": [
    "m, c = fit(X_train, Y_train)\n",
    "\n",
    "# test data\n",
    "y_pred = predict(X_test, m, c)\n",
    "print(\"Test Score: \", score(Y_test, y_pred))\n",
    "\n",
    "# train data\n",
    "y_train_pred = predict(X_train, m, c)\n",
    "print(\"Train Score: \", score(Y_train, y_train_pred))\n",
    "print(\"M, C\", m, c)\n",
    "print(\"Cost on training data \", cost(X_train, Y_train, m, c))"
   ]
  },
  {
   "cell_type": "code",
   "execution_count": null,
   "id": "ed0af85f",
   "metadata": {},
   "outputs": [],
   "source": []
  }
 ],
 "metadata": {
  "kernelspec": {
   "display_name": "Python 3",
   "language": "python",
   "name": "python3"
  },
  "language_info": {
   "codemirror_mode": {
    "name": "ipython",
    "version": 3
   },
   "file_extension": ".py",
   "mimetype": "text/x-python",
   "name": "python",
   "nbconvert_exporter": "python",
   "pygments_lexer": "ipython3",
   "version": "3.7.10"
  },
  "toc": {
   "base_numbering": 1,
   "nav_menu": {},
   "number_sections": true,
   "sideBar": true,
   "skip_h1_title": false,
   "title_cell": "Table of Contents",
   "title_sidebar": "Contents",
   "toc_cell": false,
   "toc_position": {},
   "toc_section_display": true,
   "toc_window_display": false
  }
 },
 "nbformat": 4,
 "nbformat_minor": 5
}

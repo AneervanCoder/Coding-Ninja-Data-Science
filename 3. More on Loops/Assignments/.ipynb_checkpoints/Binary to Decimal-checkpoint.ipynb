{
 "cells": [
  {
   "cell_type": "markdown",
   "metadata": {},
   "source": [
    "### Binary to decimal\n",
    "\n",
    "Given a binary number as an integer N, convert it into decimal and print.<br>\n",
    "__Input format :__<br>\n",
    "An integer N in the Binary Format\n",
    "__Output format :__<br>\n",
    "Corresponding Decimal number (as integer)<br>\n",
    "__Constraints :__<br>\n",
    "0 <= N <= 10^9<br>\n",
    "__Sample Input 1 :__<br>\n",
    "1100<br>\n",
    "__Sample Output 1 :__<br>\n",
    "12<br>\n",
    "__Sample Input 2 :__<br>\n",
    "111<br>\n",
    "__Sample Output 2 :__<br>\n",
    "7<br>"
   ]
  },
  {
   "cell_type": "code",
   "execution_count": 2,
   "metadata": {},
   "outputs": [
    {
     "name": "stdout",
     "output_type": "stream",
     "text": [
      "1100\n",
      "12\n"
     ]
    }
   ],
   "source": [
    "n = int(input())\n",
    "decimal = 0\n",
    "placeValue = 1\n",
    "while(n > 0):\n",
    "    lastDigit = n % 10\n",
    "    decimal = decimal + (lastDigit * placeValue)\n",
    "    n = n // 10\n",
    "    placeValue = placeValue * 2\n",
    "print(decimal)"
   ]
  },
  {
   "cell_type": "code",
   "execution_count": 4,
   "metadata": {},
   "outputs": [
    {
     "name": "stdout",
     "output_type": "stream",
     "text": [
      "1100\n",
      "12\n"
     ]
    }
   ],
   "source": [
    "n = input()\n",
    "decimal = int(n, 2)\n",
    "print(decimal)"
   ]
  }
 ],
 "metadata": {
  "kernelspec": {
   "display_name": "Python 3",
   "language": "python",
   "name": "python3"
  },
  "language_info": {
   "codemirror_mode": {
    "name": "ipython",
    "version": 3
   },
   "file_extension": ".py",
   "mimetype": "text/x-python",
   "name": "python",
   "nbconvert_exporter": "python",
   "pygments_lexer": "ipython3",
   "version": "3.7.7"
  }
 },
 "nbformat": 4,
 "nbformat_minor": 4
}

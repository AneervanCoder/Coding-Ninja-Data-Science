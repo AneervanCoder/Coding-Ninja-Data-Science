{
 "cells": [
  {
   "cell_type": "markdown",
   "metadata": {},
   "source": [
    "### Decimal to Binary\n",
    "\n",
    "Given a decimal number (integer N), convert it into binary and print.<br>\n",
    "The binary number should be in the form of an integer.<br>\n",
    "Note : The given input number could be large, so the corresponding binary number can exceed the integer range. So you may want to take the answer as long for CPP and Java.\n",
    "\n",
    "__Input format__ :<br>\n",
    "Integer N<br>\n",
    "__Output format__ :<br>\n",
    "Corresponding Binary number (long)<br>\n",
    "__Constraints__ :<br>\n",
    "0 <= N <= 10^5<br>\n",
    "__Sample Input 1__ :<br>\n",
    "12<br>\n",
    "__Sample Output 1__ :<br>\n",
    "1100<br>\n",
    "__Sample Input 2__ :<br>\n",
    "7<br>\n",
    "__Sample Output 2__ :\n",
    "111<br>\n"
   ]
  },
  {
   "cell_type": "code",
   "execution_count": 6,
   "metadata": {},
   "outputs": [
    {
     "name": "stdout",
     "output_type": "stream",
     "text": [
      "12\n",
      "1100\n"
     ]
    }
   ],
   "source": [
    "n = int(input())\n",
    "binary = 0\n",
    "placeValue = 1\n",
    "while(n > 0):\n",
    "    lastDigit = n % 2\n",
    "    binary = binary + (lastDigit * placeValue)\n",
    "    n = n // 2\n",
    "    placeValue = placeValue * 10\n",
    "print(binary)"
   ]
  },
  {
   "cell_type": "code",
   "execution_count": 4,
   "metadata": {},
   "outputs": [
    {
     "name": "stdout",
     "output_type": "stream",
     "text": [
      "12\n",
      "1100\n"
     ]
    }
   ],
   "source": [
    "n = int(input())\n",
    "binary = bin(n)\n",
    "print(binary[2:])"
   ]
  }
 ],
 "metadata": {
  "kernelspec": {
   "display_name": "Python 3",
   "language": "python",
   "name": "python3"
  },
  "language_info": {
   "codemirror_mode": {
    "name": "ipython",
    "version": 3
   },
   "file_extension": ".py",
   "mimetype": "text/x-python",
   "name": "python",
   "nbconvert_exporter": "python",
   "pygments_lexer": "ipython3",
   "version": "3.7.7"
  }
 },
 "nbformat": 4,
 "nbformat_minor": 4
}

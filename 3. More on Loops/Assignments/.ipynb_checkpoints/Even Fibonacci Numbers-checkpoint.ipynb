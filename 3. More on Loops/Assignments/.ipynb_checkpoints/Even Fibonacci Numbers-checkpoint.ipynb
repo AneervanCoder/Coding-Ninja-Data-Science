{
 "cells": [
  {
   "cell_type": "markdown",
   "metadata": {},
   "source": [
    "### Even Fibonacci Numbers\n",
    "\n",
    "Given a number N find the sum of all the even valued terms in the fibonacci sequence less than or equal to N. Try generating only even fibonacci numbers instead of iterating over all Fibonacci numbers.<br>\n",
    "__Input Format__<br>\n",
    "Line 1 : An integer N<br>\n",
    "__Output Format__<br>\n",
    "Total Sum<br>\n",
    "__Input Constraints__<br>\n",
    "1 <= N <= 10^6<br>\n",
    "__Sample Input 1:__<br>\n",
    "8<br>\n",
    "__Sample Output 1 :__<br>\n",
    "10<br>\n",
    "__Sample Input 2:__<br>\n",
    "400<br>\n",
    "__Sample Output 2:__\n",
    "188<br>\n"
   ]
  },
  {
   "cell_type": "code",
   "execution_count": 13,
   "metadata": {},
   "outputs": [
    {
     "name": "stdout",
     "output_type": "stream",
     "text": [
      "400\n",
      "188\n"
     ]
    }
   ],
   "source": [
    "def evenFibSum(limit) :\n",
    "    if (limit < 2) :\n",
    "        return 0\n",
    " \n",
    "    # Initialize first two even prime numbers\n",
    "    # and their sum\n",
    "    ef1 = 0\n",
    "    ef2 = 2\n",
    "    sm= ef1 + ef2\n",
    "     \n",
    "    # calculating sum of even Fibonacci value\n",
    "    while (ef2 <= limit) :\n",
    " \n",
    "        # get next even value of Fibonacci\n",
    "        # sequence\n",
    "        ef3 = 4 * ef2 + ef1\n",
    " \n",
    "        # If we go beyond limit, we break loop\n",
    "        if (ef3 > limit) :\n",
    "            break\n",
    " \n",
    "        # Move to next even number and update\n",
    "        # sum\n",
    "        ef1 = ef2\n",
    "        ef2 = ef3\n",
    "        sm = sm + ef2\n",
    "     \n",
    "    return sm\n",
    " \n",
    "# Driver code\n",
    "limit = int(input())\n",
    "print(evenFibSum(limit))"
   ]
  },
  {
   "cell_type": "code",
   "execution_count": null,
   "metadata": {},
   "outputs": [],
   "source": []
  }
 ],
 "metadata": {
  "kernelspec": {
   "display_name": "Python 3",
   "language": "python",
   "name": "python3"
  },
  "language_info": {
   "codemirror_mode": {
    "name": "ipython",
    "version": 3
   },
   "file_extension": ".py",
   "mimetype": "text/x-python",
   "name": "python",
   "nbconvert_exporter": "python",
   "pygments_lexer": "ipython3",
   "version": "3.7.7"
  }
 },
 "nbformat": 4,
 "nbformat_minor": 4
}

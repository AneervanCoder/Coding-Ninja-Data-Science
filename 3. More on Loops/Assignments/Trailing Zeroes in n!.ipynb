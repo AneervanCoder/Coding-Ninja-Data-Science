{
 "cells": [
  {
   "cell_type": "markdown",
   "metadata": {},
   "source": [
    "### Trailing Zeroes in n!\n",
    "\n",
    "Find and return number of trailing 0s in n factorial without calculating n factorial.<br>\n",
    "\n",
    "__Sample Input__<br>\n",
    "50 <br>\n",
    "__Sample Output__<br>\n",
    "12<br>"
   ]
  },
  {
   "cell_type": "markdown",
   "metadata": {},
   "source": [
    "##### Concept\n",
    "\n",
    "1. A simple method is to first calculate factorial of n, then count trailing 0s in the result (We can count trailing 0s by repeatedly dividing the factorial by 10 till the remainder is 0).\n",
    "     \n",
    "2. The above method can cause overflow for slightly bigger numbers as the factorial of a number is a big number (See factorial of 20 given in above examples). The idea is to consider prime factors of a factorial n. A trailing zero is always produced by prime factors 2 and 5. If we can count the number of 5s and 2s, our task is done. Consider the following examples.<br>\n",
    "    n = 5: There is one 5 and 3 2s in prime factors of 5! (2 * 2 * 2 * 3 * 5). So a count of trailing 0s is 1.<br>\n",
    "    n = 11: There are two 5s and eight 2s in prime factors of 11! (2 8 * 34 * 52 * 7). So the count of trailing 0 is 2.<br>\n",
    "     \n",
    "3. We can easily observe that the number of 2s in prime factors is always more than or equal to the number of 5s. So if we count 5s in prime factors, we are done. How to count the total number of 5s in prime factors of n!? A simple way is to calculate floor(n/5). For example, 7! has one 5, 10! has two 5s. It is not done yet, there is one more thing to consider. Numbers like 25, 125, etc have more than one 5. For example, if we consider 28! we get one extra 5 and the number of 0s becomes 6. Handling this is simple, first, divide n by 5 and remove all single 5s, then divide by 25 to remove extra 5s, and so on. Following is the summarized formula for counting trailing 0s."
   ]
  },
  {
   "cell_type": "markdown",
   "metadata": {},
   "source": [
    "Trailing 0s in n! = Count of 5s in prime factors of n!\n",
    "                  = floor(n/5) + floor(n/25) + floor(n/125) + ...."
   ]
  },
  {
   "cell_type": "code",
   "execution_count": 1,
   "metadata": {},
   "outputs": [
    {
     "name": "stdout",
     "output_type": "stream",
     "text": [
      "50\n",
      "12\n"
     ]
    }
   ],
   "source": [
    "def findTrailingZeros(n):\n",
    "    # Negative Number Edge Case\n",
    "    if(n < 0):\n",
    "        return -1\n",
    " \n",
    "    # Initialize result\n",
    "    count = 0\n",
    " \n",
    "    # Keep dividing n by\n",
    "    # 5 & update Count\n",
    "    while(n >= 5):\n",
    "        n //= 5\n",
    "        count += n\n",
    " \n",
    "    return count\n",
    " \n",
    " \n",
    "# Driver program\n",
    "n = int(input())\n",
    "print(findTrailingZeros(n))"
   ]
  },
  {
   "cell_type": "code",
   "execution_count": null,
   "metadata": {},
   "outputs": [],
   "source": []
  }
 ],
 "metadata": {
  "kernelspec": {
   "display_name": "Python 3",
   "language": "python",
   "name": "python3"
  },
  "language_info": {
   "codemirror_mode": {
    "name": "ipython",
    "version": 3
   },
   "file_extension": ".py",
   "mimetype": "text/x-python",
   "name": "python",
   "nbconvert_exporter": "python",
   "pygments_lexer": "ipython3",
   "version": "3.7.7"
  }
 },
 "nbformat": 4,
 "nbformat_minor": 4
}

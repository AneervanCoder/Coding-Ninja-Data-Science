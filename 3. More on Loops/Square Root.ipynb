{
 "cells": [
  {
   "cell_type": "markdown",
   "metadata": {},
   "source": [
    "### Square Root (Integral)\n",
    "\n",
    "Given a number N, find its square root. You need to find and print only the integral part of square root of N.\n",
    "For eg. if number given is 18, answer is 4.\n",
    "#### Input format :\n",
    "Integer N\n",
    "#### Output Format :\n",
    "Square root of N (integer part only)\n",
    "#### Constraints :\n",
    "0 <= N <= 10^8\n",
    "#### Sample Input 1 :\n",
    "10\n",
    "#### Sample Output 1 :\n",
    "3\n",
    "#### Sample Input 2 :\n",
    "4\n",
    "#### Sample Output 2 :\n",
    "2\n"
   ]
  },
  {
   "cell_type": "code",
   "execution_count": 3,
   "metadata": {},
   "outputs": [
    {
     "name": "stdout",
     "output_type": "stream",
     "text": [
      "10\n",
      "3\n"
     ]
    }
   ],
   "source": [
    "import math\n",
    "n = int(input())\n",
    "a = math.sqrt(n)\n",
    "res = int(a)\n",
    "print(res)"
   ]
  },
  {
   "cell_type": "code",
   "execution_count": null,
   "metadata": {},
   "outputs": [],
   "source": []
  }
 ],
 "metadata": {
  "kernelspec": {
   "display_name": "Python 3",
   "language": "python",
   "name": "python3"
  },
  "language_info": {
   "codemirror_mode": {
    "name": "ipython",
    "version": 3
   },
   "file_extension": ".py",
   "mimetype": "text/x-python",
   "name": "python",
   "nbconvert_exporter": "python",
   "pygments_lexer": "ipython3",
   "version": "3.7.7"
  }
 },
 "nbformat": 4,
 "nbformat_minor": 4
}

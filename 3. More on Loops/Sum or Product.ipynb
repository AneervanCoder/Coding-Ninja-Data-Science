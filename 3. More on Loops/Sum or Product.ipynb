{
 "cells": [
  {
   "cell_type": "markdown",
   "metadata": {},
   "source": [
    "### Sum or product\n",
    "\n",
    "Write a program that asks the user for a number N and a choice C. And then give them the possibility to choose between computing the sum and computing the product of all integers in the range 1 to N (both inclusive).\n",
    "If C is equal to -\n",
    " 1, then print the sum\n",
    " 2, then print the product\n",
    " Any other number, then print '-1' (without the quotes)\n",
    "##### Input format :\n",
    "Line 1 : Integer N\n",
    "Line 2 : Choice C\n",
    "##### Output Format :\n",
    " Sum or product according to user's choice\n",
    "##### Constraints :\n",
    "1 <= N <= 12\n",
    "#####  Sample Input 1 :\n",
    "10\n",
    "1\n",
    "##### Sample Output 1 :\n",
    "55\n",
    "##### Sample Input 2 :\n",
    "10\n",
    "2\n",
    "##### Sample Output 2 :\n",
    " 3628800\n",
    "##### Sample Input 3 :\n",
    "10\n",
    "4\n",
    "##### Sample Output 3 :\n",
    "-1\n"
   ]
  },
  {
   "cell_type": "code",
   "execution_count": 4,
   "metadata": {},
   "outputs": [
    {
     "name": "stdout",
     "output_type": "stream",
     "text": [
      "10\n",
      "2\n",
      "3628800\n"
     ]
    }
   ],
   "source": [
    "n = int(input())\n",
    "c = int(input())\n",
    "\n",
    "if(c == 1):\n",
    "    s = 0\n",
    "    for i in range(1, n + 1):\n",
    "        s += i\n",
    "    print(s)\n",
    "elif(c == 2):\n",
    "    p = 1\n",
    "    for i in range(1, n + 1):\n",
    "        p *= i\n",
    "    print(p)\n",
    "else:\n",
    "    print('-1')"
   ]
  },
  {
   "cell_type": "code",
   "execution_count": null,
   "metadata": {},
   "outputs": [],
   "source": []
  }
 ],
 "metadata": {
  "kernelspec": {
   "display_name": "Python 3",
   "language": "python",
   "name": "python3"
  },
  "language_info": {
   "codemirror_mode": {
    "name": "ipython",
    "version": 3
   },
   "file_extension": ".py",
   "mimetype": "text/x-python",
   "name": "python",
   "nbconvert_exporter": "python",
   "pygments_lexer": "ipython3",
   "version": "3.7.7"
  }
 },
 "nbformat": 4,
 "nbformat_minor": 4
}

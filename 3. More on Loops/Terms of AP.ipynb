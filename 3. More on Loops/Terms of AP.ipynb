{
 "cells": [
  {
   "cell_type": "markdown",
   "metadata": {},
   "source": [
    "#### Terms of AP\n",
    "\n",
    "Write a program to print first x terms of the series 3N + 2 which are not multiples of 4.\n",
    "##### Input format :\n",
    "Integer x\n",
    "##### Output format :\n",
    "Terms of series (separated by space)\n",
    "##### Constraints :\n",
    "1 <= x <= 1,000\n",
    "##### Sample Input 1 :\n",
    "10\n",
    "##### Sample Output 1 :\n",
    "5 11 14 17 23 26 29 35 38 41\n",
    "##### Sample Input 2 :\n",
    "4\n",
    "##### Sample Output 2 :\n",
    "5 11 14 17\n"
   ]
  },
  {
   "cell_type": "code",
   "execution_count": 2,
   "metadata": {},
   "outputs": [
    {
     "name": "stdout",
     "output_type": "stream",
     "text": [
      "10\n",
      "5 11 14 17 23 26 29 35 38 41 "
     ]
    }
   ],
   "source": [
    "x = int(input())\n",
    "\n",
    "n = 1\n",
    "c = 1\n",
    "while(c <= x):\n",
    "    term = (3 * n) + 2\n",
    "    if(term % 4 != 0):\n",
    "        print(term, end=' ')\n",
    "        c += 1\n",
    "    n += 1"
   ]
  },
  {
   "cell_type": "code",
   "execution_count": null,
   "metadata": {},
   "outputs": [],
   "source": []
  }
 ],
 "metadata": {
  "kernelspec": {
   "display_name": "Python 3",
   "language": "python",
   "name": "python3"
  },
  "language_info": {
   "codemirror_mode": {
    "name": "ipython",
    "version": 3
   },
   "file_extension": ".py",
   "mimetype": "text/x-python",
   "name": "python",
   "nbconvert_exporter": "python",
   "pygments_lexer": "ipython3",
   "version": "3.7.7"
  }
 },
 "nbformat": 4,
 "nbformat_minor": 4
}

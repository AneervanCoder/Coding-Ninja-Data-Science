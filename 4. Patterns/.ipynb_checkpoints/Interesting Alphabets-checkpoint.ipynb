{
 "cells": [
  {
   "cell_type": "markdown",
   "metadata": {},
   "source": [
    "### Interesting Alphabets\n",
    "\n",
    "Print the following pattern for the given number of rows.\n",
    "__Pattern for N = 5__<br>\n",
    "__E__<br>\n",
    "__DE__<br>\n",
    "__CDE__<br>\n",
    "__BCDE__<br>\n",
    "__ABCDE__<br>\n",
    "#### Input format :\n",
    "N (Total no. of rows)\n",
    "#### Output format :\n",
    "Pattern in N lines\n",
    "#### Constraints\n",
    "0 <= N <= 26\n",
    "#### Sample Input 1:\n",
    "8\n",
    "#### Sample Output 1:\n",
    "__H__<br>\n",
    "__GH__<br>\n",
    "__FGH__<br>\n",
    "__EFGH__<br>\n",
    "__DEFGH__<br>\n",
    "__CDEFGH__<br>\n",
    "__BCDEFGH__<br>\n",
    "__ABCDEFGH__<br>\n",
    "#### Sample Input 2:\n",
    "7\n",
    "#### Sample Output 2:\n",
    "__G__<br>\n",
    "__FG__<br>\n",
    "__EFG__<br>\n",
    "__DEFG__<br>\n",
    "__CDEFG__<br>\n",
    "__BCDEFG__<br>\n",
    "__ABCDEFG__<br>\n"
   ]
  },
  {
   "cell_type": "code",
   "execution_count": 3,
   "metadata": {},
   "outputs": [
    {
     "data": {
      "text/plain": [
       "'F'"
      ]
     },
     "execution_count": 3,
     "metadata": {},
     "output_type": "execute_result"
    }
   ],
   "source": [
    "k = 6\n",
    "startP = chr(ord('A') + k - 1)\n",
    "startP"
   ]
  },
  {
   "cell_type": "code",
   "execution_count": 1,
   "metadata": {},
   "outputs": [
    {
     "name": "stdout",
     "output_type": "stream",
     "text": [
      "7\n",
      "\n",
      "\n",
      "\n",
      "\n",
      "\n",
      "\n",
      "G\n"
     ]
    }
   ],
   "source": [
    "n = int(input())\n",
    "i = 1\n",
    "k = n\n",
    "while(i <= n):\n",
    "    j = 1\n",
    "    startP = chr(ord('A') + k - 1)\n",
    "    while(j <= i):\n",
    "        charP = chr(ord('A') + j - 1)\n",
    "        print(charP, end='')\n",
    "        j = j + 1\n",
    "    print()\n",
    "    i = i + 1"
   ]
  },
  {
   "cell_type": "code",
   "execution_count": null,
   "metadata": {},
   "outputs": [],
   "source": []
  }
 ],
 "metadata": {
  "kernelspec": {
   "display_name": "Python 3",
   "language": "python",
   "name": "python3"
  },
  "language_info": {
   "codemirror_mode": {
    "name": "ipython",
    "version": 3
   },
   "file_extension": ".py",
   "mimetype": "text/x-python",
   "name": "python",
   "nbconvert_exporter": "python",
   "pygments_lexer": "ipython3",
   "version": "3.7.7"
  }
 },
 "nbformat": 4,
 "nbformat_minor": 4
}

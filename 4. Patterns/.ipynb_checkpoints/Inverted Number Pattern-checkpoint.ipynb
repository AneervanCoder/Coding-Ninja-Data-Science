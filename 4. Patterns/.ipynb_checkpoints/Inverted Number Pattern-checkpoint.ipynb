{
 "cells": [
  {
   "cell_type": "markdown",
   "metadata": {},
   "source": [
    "### Inverted Number Pattern\n",
    "\n",
    "Print the following pattern for the given N number of rows.<br>\n",
    "__Pattern for N = 4__<br>\n",
    "__4444__<br>\n",
    "__333__<br>\n",
    "__22__<br>\n",
    "__1__<br>\n",
    "__Input format :__<br>\n",
    "Integer N (Total no. of rows)<br>\n",
    "__Output format :__<br>\n",
    "Pattern in N lines<br>\n",
    "__Constraints :__<br>\n",
    "0 <= N <= 50<br>\n",
    "__Sample Input 1:__<br>\n",
    "5<br>\n",
    "__Sample Output 1:__<br>\n",
    "__55555__<br> \n",
    "__4444__<br>\n",
    "__333__<br>\n",
    "__22__<br>\n",
    "__1__<br>\n",
    "__Sample Input 2:__<br>\n",
    "6<br>\n",
    "__Sample Output 2:__<br>\n",
    "__666666__<br>\n",
    "__55555__<br> \n",
    "__4444__<br>\n",
    "__333__<br>\n",
    "__22__<br>\n",
    "__1__<br>\n"
   ]
  },
  {
   "cell_type": "code",
   "execution_count": 2,
   "metadata": {},
   "outputs": [
    {
     "name": "stdout",
     "output_type": "stream",
     "text": [
      "6\n",
      "666666\n",
      "55555\n",
      "4444\n",
      "333\n",
      "22\n",
      "1\n"
     ]
    }
   ],
   "source": [
    "n = int(input())\n",
    "i = 1\n",
    "k = n\n",
    "while(i <= n):\n",
    "    j = 1\n",
    "    while(j <= (n - i + 1)):\n",
    "        print(k, end='')\n",
    "        j = j + 1\n",
    "    print()\n",
    "    k =k - 1\n",
    "    i = i + 1"
   ]
  }
 ],
 "metadata": {
  "kernelspec": {
   "display_name": "Python 3",
   "language": "python",
   "name": "python3"
  },
  "language_info": {
   "codemirror_mode": {
    "name": "ipython",
    "version": 3
   },
   "file_extension": ".py",
   "mimetype": "text/x-python",
   "name": "python",
   "nbconvert_exporter": "python",
   "pygments_lexer": "ipython3",
   "version": "3.7.7"
  }
 },
 "nbformat": 4,
 "nbformat_minor": 4
}

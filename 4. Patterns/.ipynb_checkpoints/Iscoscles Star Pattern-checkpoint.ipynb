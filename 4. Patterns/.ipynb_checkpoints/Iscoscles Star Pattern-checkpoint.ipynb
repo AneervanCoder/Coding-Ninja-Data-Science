{
 "cells": [
  {
   "cell_type": "markdown",
   "metadata": {},
   "source": [
    "### Star Pattern\n",
    "\n",
    "Print the following pattern"
   ]
  },
  {
   "cell_type": "markdown",
   "metadata": {},
   "source": [
    "__Pattern for N = 4__"
   ]
  },
  {
   "cell_type": "raw",
   "metadata": {},
   "source": [
    "   *\n",
    "  ***\n",
    " *****\n",
    "*******"
   ]
  },
  {
   "cell_type": "markdown",
   "metadata": {},
   "source": [
    "__Input Format :__<br>\n",
    "N (Total no. of rows)<br>\n",
    "__Output Format :__<br>\n",
    "Pattern in N lines<br>\n",
    "__Constraints :__<br>\n",
    "0 <= N <= 50"
   ]
  },
  {
   "cell_type": "markdown",
   "metadata": {},
   "source": [
    "__Sample Input 1 :__<br>\n",
    "3<br>\n",
    "__Sample Output 1 :__<br>"
   ]
  },
  {
   "cell_type": "raw",
   "metadata": {},
   "source": [
    "  *\n",
    " ***\n",
    "*****"
   ]
  },
  {
   "cell_type": "code",
   "execution_count": 1,
   "metadata": {},
   "outputs": [
    {
     "name": "stdout",
     "output_type": "stream",
     "text": [
      "4\n",
      "   *\n",
      "  ***\n",
      " *****\n",
      "*******\n"
     ]
    }
   ],
   "source": [
    "n = int(input())\n",
    "i = 1\n",
    "while(i <= n):\n",
    "    spaces = 1\n",
    "    # spaces\n",
    "    while(spaces <= (n - i)):\n",
    "        print(' ', end='')\n",
    "        spaces = spaces + 1\n",
    "    j = 1\n",
    "    p = 1\n",
    "    # increasing sequence\n",
    "    while(j <= i):\n",
    "        print('*', end='')\n",
    "        j = j + 1\n",
    "        p = p + 1\n",
    "    # decreasing sequence\n",
    "    p = i - 1\n",
    "    while(p >= 1):\n",
    "        print('*', end='')\n",
    "        p = p - 1\n",
    "    print()\n",
    "    i = i + 1"
   ]
  }
 ],
 "metadata": {
  "kernelspec": {
   "display_name": "Python 3",
   "language": "python",
   "name": "python3"
  },
  "language_info": {
   "codemirror_mode": {
    "name": "ipython",
    "version": 3
   },
   "file_extension": ".py",
   "mimetype": "text/x-python",
   "name": "python",
   "nbconvert_exporter": "python",
   "pygments_lexer": "ipython3",
   "version": "3.7.7"
  }
 },
 "nbformat": 4,
 "nbformat_minor": 4
}

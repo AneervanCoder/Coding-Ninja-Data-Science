{
 "cells": [
  {
   "cell_type": "markdown",
   "metadata": {},
   "source": [
    "#### Mirror Number Pattern\n",
    "\n",
    "Print the following pattern for the given N number of rows.<br>\n",
    "__Pattern for N = 4__<br>\n",
    "....1<br>\n",
    "...12<br>\n",
    "..123<br> \n",
    "1234<br>\n",
    "The dot represents spaces\n",
    "\n",
    "__Input format :__<br>\n",
    "Integer N (Total no. of rows)<br>\n",
    "__Output format :__<br>\n",
    "Pattern in N lines<br>\n",
    "__Constraints__<br>\n",
    "0 <= N <= 50<br>\n",
    "__Sample Input 1:__<br>\n",
    "3<br>\n",
    "__Sample Output 1:__<br>\n",
    "..1<br> \n",
    ".12<br>\n",
    "123<br>\n",
    "__Sample Input 2:__<br>\n",
    "4<br>\n",
    "__Sample Output 2:__<br>\n",
    "...1<br> \n",
    "..12<br>\n",
    ".123<br>\n",
    "1234<br>\n"
   ]
  },
  {
   "cell_type": "code",
   "execution_count": 2,
   "metadata": {},
   "outputs": [
    {
     "name": "stdout",
     "output_type": "stream",
     "text": [
      "4\n",
      "   1\n",
      "  12\n",
      " 123\n",
      "1234\n"
     ]
    }
   ],
   "source": [
    "n = int(input())\n",
    "i = 1\n",
    "while(i <= n):\n",
    "    spaces = 1\n",
    "    while(spaces <= (n - i)):\n",
    "        print(' ', end='')\n",
    "        spaces = spaces + 1\n",
    "    j = 1\n",
    "    while(j <= i):\n",
    "        print(j, end='')\n",
    "        j = j + 1\n",
    "    print()\n",
    "    i = i + 1"
   ]
  }
 ],
 "metadata": {
  "kernelspec": {
   "display_name": "Python 3",
   "language": "python",
   "name": "python3"
  },
  "language_info": {
   "codemirror_mode": {
    "name": "ipython",
    "version": 3
   },
   "file_extension": ".py",
   "mimetype": "text/x-python",
   "name": "python",
   "nbconvert_exporter": "python",
   "pygments_lexer": "ipython3",
   "version": "3.7.7"
  }
 },
 "nbformat": 4,
 "nbformat_minor": 4
}

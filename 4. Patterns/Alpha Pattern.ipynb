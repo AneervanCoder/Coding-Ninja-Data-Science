{
 "cells": [
  {
   "cell_type": "markdown",
   "metadata": {},
   "source": [
    "### Alpha Pattern\n",
    "\n",
    "Print the following pattern for the given N number of rows.\n",
    "__Pattern for N = 3__<br>\n",
    "__A__<br>\n",
    "__BB__<br>\n",
    "__CCC__<br>\n",
    "#### Input format :\n",
    "Integer N (Total no. of rows)\n",
    "#### Output format :\n",
    "Pattern in N lines\n",
    "#### Constraints\n",
    "0 <= N <= 26\n",
    "#### Sample Input 1:\n",
    "7\n",
    "#### Sample Output 1:\n",
    "__A__<br>\n",
    "__BB__<br>\n",
    "__CCC__<br>\n",
    "__DDDD__<br>\n",
    "__EEEEE__<br>\n",
    "__FFFFFF__<br>\n",
    "__GGGGGGG__<br>\n",
    "#### Sample Input 2:\n",
    "6\n",
    "#### Sample Output 2:\n",
    "__A__<br>\n",
    "__BB__<br>\n",
    "__CCC__<br>\n",
    "__DDDD__<br>\n",
    "__EEEEE__<br>\n",
    "__FFFFFF__<br>\n"
   ]
  },
  {
   "cell_type": "code",
   "execution_count": 2,
   "metadata": {},
   "outputs": [
    {
     "name": "stdout",
     "output_type": "stream",
     "text": [
      "6\n",
      "A\n",
      "BB\n",
      "CCC\n",
      "DDDD\n",
      "EEEEE\n",
      "FFFFFF\n"
     ]
    }
   ],
   "source": [
    "n = int(input())\n",
    "i = 1\n",
    "while(i <= n):\n",
    "    j = 1\n",
    "    start_char = chr(ord('A') + i - 1)\n",
    "    while(j <= i):\n",
    "        # print jth column\n",
    "        print(start_char, end='')\n",
    "        j = j + 1\n",
    "    print()\n",
    "    i = i + 1"
   ]
  },
  {
   "cell_type": "code",
   "execution_count": null,
   "metadata": {},
   "outputs": [],
   "source": []
  }
 ],
 "metadata": {
  "kernelspec": {
   "display_name": "Python 3",
   "language": "python",
   "name": "python3"
  },
  "language_info": {
   "codemirror_mode": {
    "name": "ipython",
    "version": 3
   },
   "file_extension": ".py",
   "mimetype": "text/x-python",
   "name": "python",
   "nbconvert_exporter": "python",
   "pygments_lexer": "ipython3",
   "version": "3.7.7"
  }
 },
 "nbformat": 4,
 "nbformat_minor": 4
}

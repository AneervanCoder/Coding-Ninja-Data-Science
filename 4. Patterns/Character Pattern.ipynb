{
 "cells": [
  {
   "cell_type": "markdown",
   "metadata": {},
   "source": [
    "### Character Pattern\n",
    "\n",
    "Print the following pattern for the given N number of rows.\n",
    "__Pattern for N = 4__<br>\n",
    "__A__<br>\n",
    "__BC__<br>\n",
    "__CDE__<br>\n",
    "__DEFG__<br>\n",
    "#### Input format :\n",
    "Integer N (Total no. of rows)\n",
    "#### Output format :\n",
    "Pattern in N lines\n",
    "#### Constraints\n",
    "0 <= N <= 13\n",
    "#### Sample Input 1:\n",
    "5\n",
    "#### Sample Output 1:\n",
    "__A__<br>\n",
    "__BC__<br>\n",
    "__CDE__<br>\n",
    "__DEFG__<br>\n",
    "__EFGHI__<br>\n",
    "#### Sample Input 2:\n",
    "6\n",
    "#### Sample Output 2:\n",
    "__A__<br>\n",
    "__BC__<br>\n",
    "__CDE__<br>\n",
    "__DEFG__<br>\n",
    "__EFGHI__<br>\n",
    "__FGHIJK__<br>\n"
   ]
  },
  {
   "cell_type": "code",
   "execution_count": 1,
   "metadata": {},
   "outputs": [
    {
     "name": "stdout",
     "output_type": "stream",
     "text": [
      "6\n",
      "A\n",
      "BC\n",
      "CDE\n",
      "DEFG\n",
      "EFGHI\n",
      "FGHIJK\n"
     ]
    }
   ],
   "source": [
    "n = int(input())\n",
    "i = 1;\n",
    "while(i <= n):\n",
    "    j = 1\n",
    "    start_char = chr(ord('A') + i - 1)\n",
    "    while(j <= i):\n",
    "        # print jth column\n",
    "        charP = chr(ord(start_char) + j - 1)\n",
    "        print(charP, end='')\n",
    "        j = j + 1\n",
    "    print()\n",
    "    i = i + 1"
   ]
  }
 ],
 "metadata": {
  "kernelspec": {
   "display_name": "Python 3",
   "language": "python",
   "name": "python3"
  },
  "language_info": {
   "codemirror_mode": {
    "name": "ipython",
    "version": 3
   },
   "file_extension": ".py",
   "mimetype": "text/x-python",
   "name": "python",
   "nbconvert_exporter": "python",
   "pygments_lexer": "ipython3",
   "version": "3.7.7"
  }
 },
 "nbformat": 4,
 "nbformat_minor": 4
}

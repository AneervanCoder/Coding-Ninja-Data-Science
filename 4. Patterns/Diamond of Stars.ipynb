{
 "cells": [
  {
   "cell_type": "markdown",
   "metadata": {},
   "source": [
    "### Diamond of Stars\n",
    "\n",
    "Print the following pattern for the given number of rows.\n",
    "__Note: N is always odd.__"
   ]
  },
  {
   "cell_type": "markdown",
   "metadata": {},
   "source": [
    "__Pattern for N = 5__"
   ]
  },
  {
   "cell_type": "raw",
   "metadata": {},
   "source": [
    "  *\n",
    " ***\n",
    "*****\n",
    " ***\n",
    "  *"
   ]
  },
  {
   "cell_type": "markdown",
   "metadata": {},
   "source": [
    "#### Input format :\n",
    "N (Total no. of rows and can only be odd)\n",
    "#### Output format :\n",
    "Pattern in N lines\n",
    "#### Constraints :\n",
    "1 <= N <= 49\n",
    "##### Sample Input 1:\n",
    "5\n",
    "##### Sample Output 1:"
   ]
  },
  {
   "cell_type": "raw",
   "metadata": {},
   "source": [
    "  *\n",
    " ***\n",
    "*****\n",
    " ***\n",
    "  *"
   ]
  },
  {
   "cell_type": "markdown",
   "metadata": {},
   "source": [
    "##### Sample Input 2:\n",
    "3\n",
    "##### Sample Output 2:"
   ]
  },
  {
   "cell_type": "raw",
   "metadata": {},
   "source": [
    " *\n",
    "***\n",
    " *"
   ]
  },
  {
   "cell_type": "code",
   "execution_count": null,
   "metadata": {},
   "outputs": [],
   "source": [
    "n = int(input())\n",
    "rows = int(input())\n",
    " \n",
    "#top half\n",
    "k = 0\n",
    "for i in range(1, rows + 1): \n",
    "    # print spaces \n",
    "    for j in range (1, (rows - i) + 1): \n",
    "        print(end = \" \") \n",
    "        \n",
    "    # let's print stars \n",
    "    while k != (2 * i - 1):\n",
    "        print(\"*\", end = \"\")\n",
    "        k = k + 1\n",
    "    k = 0\n",
    "  \n",
    "    # add a line break \n",
    "    print()  \n",
    " \n",
    "k = 2\n",
    "m = 1\n",
    "for i in range(1, rows): \n",
    "    # print spaces \n",
    "    for j in range (1, k):\n",
    "        print(end = \" \") \n",
    "    k = k + 1\n",
    "\t  \n",
    "    # print star \n",
    "    while m <= (2 * (rows - i) - 1): \n",
    "        print(\"*\", end = \"\") \n",
    "        m = m + 1\n",
    "    m = 1\n",
    "\t\n",
    "    #add a line break\n",
    "    print() "
   ]
  },
  {
   "cell_type": "code",
   "execution_count": null,
   "metadata": {},
   "outputs": [],
   "source": []
  }
 ],
 "metadata": {
  "kernelspec": {
   "display_name": "Python 3",
   "language": "python",
   "name": "python3"
  },
  "language_info": {
   "codemirror_mode": {
    "name": "ipython",
    "version": 3
   },
   "file_extension": ".py",
   "mimetype": "text/x-python",
   "name": "python",
   "nbconvert_exporter": "python",
   "pygments_lexer": "ipython3",
   "version": "3.7.7"
  }
 },
 "nbformat": 4,
 "nbformat_minor": 4
}

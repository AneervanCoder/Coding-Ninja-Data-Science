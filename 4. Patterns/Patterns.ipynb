{
 "cells": [
  {
   "cell_type": "markdown",
   "metadata": {},
   "source": [
    "### Square Pattern 1:\n",
    "\n",
    "__For N = 5__<br>\n",
    "\n",
    "__*****__<br>\n",
    "__*****__<br>\n",
    "__*****__<br>\n",
    "__*****__<br>\n",
    "__*****__<br>"
   ]
  },
  {
   "cell_type": "code",
   "execution_count": 2,
   "metadata": {},
   "outputs": [
    {
     "name": "stdout",
     "output_type": "stream",
     "text": [
      "5\n",
      "*****\n",
      "*****\n",
      "*****\n",
      "*****\n",
      "*****\n"
     ]
    }
   ],
   "source": [
    "n = int(input())\n",
    "i = 1;\n",
    "while(i <= n):\n",
    "    j = 1\n",
    "    while(j <= n):\n",
    "        # print jth column\n",
    "        print('*', end='')\n",
    "        j = j + 1\n",
    "    print()\n",
    "    i = i + 1"
   ]
  },
  {
   "cell_type": "markdown",
   "metadata": {},
   "source": [
    "### Triangular Pattern 1:\n",
    "\n",
    "__For N = 5__<br>\n",
    "__1__<br>\n",
    "__12__<br>\n",
    "__123__<br>\n",
    "__1234__<br>\n",
    "__12345__<br>"
   ]
  },
  {
   "cell_type": "code",
   "execution_count": 3,
   "metadata": {},
   "outputs": [
    {
     "name": "stdout",
     "output_type": "stream",
     "text": [
      "5\n",
      "1\n",
      "12\n",
      "123\n",
      "1234\n",
      "12345\n"
     ]
    }
   ],
   "source": [
    "n = int(input())\n",
    "i = 1;\n",
    "while(i <= n):\n",
    "    j = 1\n",
    "    while(j <= i):\n",
    "        # print jth column\n",
    "        print(j, end='')\n",
    "        j = j + 1\n",
    "    print()\n",
    "    i = i + 1"
   ]
  },
  {
   "cell_type": "markdown",
   "metadata": {},
   "source": [
    "### Triangular Pattern 2:\n",
    "\n",
    "__For N = 5__<br>\n",
    "__1__<br>\n",
    "__23__<br>\n",
    "__345__<br>\n",
    "__4567__<br>\n",
    "__56789__<br>"
   ]
  },
  {
   "cell_type": "code",
   "execution_count": 5,
   "metadata": {},
   "outputs": [
    {
     "name": "stdout",
     "output_type": "stream",
     "text": [
      "5\n",
      "1\n",
      "23\n",
      "345\n",
      "4567\n",
      "56789\n"
     ]
    }
   ],
   "source": [
    "n= int(input())\n",
    "i = 1\n",
    "while(i <= n):\n",
    "    j = 1\n",
    "    p = i;\n",
    "    while(j <= i):\n",
    "        print(p, end='')\n",
    "        j = j + 1\n",
    "        p = p + 1\n",
    "    print()\n",
    "    i = i + 1"
   ]
  },
  {
   "cell_type": "markdown",
   "metadata": {},
   "source": [
    "### Triangular Pattern 3:\n",
    "\n",
    "__For N = 5__<br>\n",
    "__1__<br>\n",
    "__23__<br>\n",
    "__456__<br>\n",
    "__78910__<br>\n",
    "__11121314__<br>"
   ]
  },
  {
   "cell_type": "code",
   "execution_count": 6,
   "metadata": {},
   "outputs": [
    {
     "name": "stdout",
     "output_type": "stream",
     "text": [
      "5\n",
      "1\n",
      "23\n",
      "456\n",
      "78910\n",
      "1112131415\n"
     ]
    }
   ],
   "source": [
    "n= int(input())\n",
    "i = 1\n",
    "p = 1\n",
    "while(i <= n):\n",
    "    j = 1\n",
    "    while(j <= i):\n",
    "        print(p, end='')\n",
    "        j = j + 1\n",
    "        p = p + 1\n",
    "    print()\n",
    "    i = i + 1"
   ]
  },
  {
   "cell_type": "markdown",
   "metadata": {},
   "source": [
    "### Character Pattern:"
   ]
  },
  {
   "cell_type": "code",
   "execution_count": 2,
   "metadata": {},
   "outputs": [
    {
     "name": "stdout",
     "output_type": "stream",
     "text": [
      "6\n"
     ]
    },
    {
     "data": {
      "text/plain": [
       "'F'"
      ]
     },
     "execution_count": 2,
     "metadata": {},
     "output_type": "execute_result"
    }
   ],
   "source": [
    "# print kth alpahabet\n",
    "k = int(input())\n",
    "# 'A' + k - 1\n",
    "x = ord('A')\n",
    "asciiTarget = x + k - 1\n",
    "targetChar = chr(asciiTarget)\n",
    "targetChar"
   ]
  },
  {
   "cell_type": "markdown",
   "metadata": {},
   "source": [
    "__For N = 4:__<br>\n",
    "__ABCD__<br>\n",
    "__ABCD__<br>\n",
    "__ABCD__<br>\n",
    "__ABCD__<br>\n",
    "__ABCD__<br>"
   ]
  },
  {
   "cell_type": "code",
   "execution_count": 18,
   "metadata": {},
   "outputs": [
    {
     "name": "stdout",
     "output_type": "stream",
     "text": [
      "5\n",
      "ABCDE\n",
      "ABCDE\n",
      "ABCDE\n",
      "ABCDE\n",
      "ABCDE\n"
     ]
    }
   ],
   "source": [
    "n = int(input())\n",
    "i = 1;\n",
    "while(i <= n):\n",
    "    j = 1\n",
    "    while(j <= n):\n",
    "        # print jth column\n",
    "        charP = chr(ord('A') + j - 1)\n",
    "        print(charP, end='')\n",
    "        j = j + 1\n",
    "    print()\n",
    "    i = i + 1"
   ]
  },
  {
   "cell_type": "markdown",
   "metadata": {},
   "source": [
    "__For N = 4:__<br>\n",
    "__ABCD__<br>\n",
    "__BCDE__<br>\n",
    "__CDEF__<br>\n",
    "__DEFG__<br>"
   ]
  },
  {
   "cell_type": "code",
   "execution_count": 19,
   "metadata": {},
   "outputs": [
    {
     "name": "stdout",
     "output_type": "stream",
     "text": [
      "4\n",
      "ABCD\n",
      "BCDE\n",
      "CDEF\n",
      "DEFG\n"
     ]
    }
   ],
   "source": [
    "n = int(input())\n",
    "i = 1;\n",
    "while(i <= n):\n",
    "    j = 1\n",
    "    start_char = chr(ord('A') + i - 1)\n",
    "    while(j <= n):\n",
    "        # print jth column\n",
    "        charP = chr(ord(start_char) + j - 1)\n",
    "        print(charP, end='')\n",
    "        j = j + 1\n",
    "    print()\n",
    "    i = i + 1"
   ]
  },
  {
   "cell_type": "markdown",
   "metadata": {},
   "source": [
    "### Inverted Pattern 1:"
   ]
  },
  {
   "cell_type": "raw",
   "metadata": {},
   "source": [
    "****\n",
    "***\n",
    "**\n",
    "*"
   ]
  },
  {
   "cell_type": "code",
   "execution_count": 1,
   "metadata": {},
   "outputs": [
    {
     "name": "stdout",
     "output_type": "stream",
     "text": [
      "4\n",
      "****\n",
      "***\n",
      "**\n",
      "*\n"
     ]
    }
   ],
   "source": [
    "n = int(input())\n",
    "i = 1\n",
    "while(i <= n):\n",
    "    j = 1;\n",
    "    while (j <= (n - i + 1)):\n",
    "        print('*', end='')\n",
    "        j = j + 1\n",
    "    print()\n",
    "    i = i + 1"
   ]
  },
  {
   "cell_type": "markdown",
   "metadata": {},
   "source": [
    "### Rversed Pattern"
   ]
  },
  {
   "cell_type": "raw",
   "metadata": {},
   "source": [
    "   *\n",
    "  **\n",
    " ***\n",
    "****"
   ]
  },
  {
   "cell_type": "code",
   "execution_count": 4,
   "metadata": {},
   "outputs": [
    {
     "name": "stdout",
     "output_type": "stream",
     "text": [
      "5\n",
      "    *\n",
      "   **\n",
      "  ***\n",
      " ****\n",
      "*****\n"
     ]
    }
   ],
   "source": [
    "n = int(input())\n",
    "i = 1\n",
    "while(i <= n):\n",
    "    spaces = 1\n",
    "    while(spaces <= (n - i)):\n",
    "        print(' ', end='')\n",
    "        spaces = spaces + 1\n",
    "    stars = 1\n",
    "    while(stars <= i):\n",
    "        print('*', end='')\n",
    "        stars = stars + 1\n",
    "    print()\n",
    "    i = i + 1"
   ]
  },
  {
   "cell_type": "markdown",
   "metadata": {},
   "source": [
    "### Isosceles Pattern"
   ]
  },
  {
   "cell_type": "raw",
   "metadata": {},
   "source": [
    "   1   \n",
    "  121\n",
    " 12321\n",
    "1234321"
   ]
  },
  {
   "cell_type": "code",
   "execution_count": 7,
   "metadata": {},
   "outputs": [
    {
     "name": "stdout",
     "output_type": "stream",
     "text": [
      "4\n",
      "   1\n",
      "  121\n",
      " 12321\n",
      "1234321\n"
     ]
    }
   ],
   "source": [
    "n = int(input())\n",
    "i = 1\n",
    "while(i <= n):\n",
    "    spaces = 1\n",
    "    # spaces\n",
    "    while(spaces <= (n - i)):\n",
    "        print(' ', end='')\n",
    "        spaces = spaces + 1\n",
    "    j = 1\n",
    "    p = 1\n",
    "    # increasing sequence\n",
    "    while(j <= i):\n",
    "        print(p, end='')\n",
    "        j = j + 1\n",
    "        p = p + 1\n",
    "    # decreasing sequence\n",
    "    p = i - 1\n",
    "    while(p >= 1):\n",
    "        print(p, end='')\n",
    "        p = p - 1\n",
    "    print()\n",
    "    i = i + 1"
   ]
  }
 ],
 "metadata": {
  "kernelspec": {
   "display_name": "Python 3",
   "language": "python",
   "name": "python3"
  },
  "language_info": {
   "codemirror_mode": {
    "name": "ipython",
    "version": 3
   },
   "file_extension": ".py",
   "mimetype": "text/x-python",
   "name": "python",
   "nbconvert_exporter": "python",
   "pygments_lexer": "ipython3",
   "version": "3.7.7"
  }
 },
 "nbformat": 4,
 "nbformat_minor": 4
}

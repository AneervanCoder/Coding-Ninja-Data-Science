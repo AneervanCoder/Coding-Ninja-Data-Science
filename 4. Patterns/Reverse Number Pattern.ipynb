{
 "cells": [
  {
   "cell_type": "markdown",
   "metadata": {},
   "source": [
    "### Reverse Number Pattern\n",
    "\n",
    "Print the following pattern for the given N number of rows.\n",
    "__Pattern for N = 4__<br>\n",
    "__1__<br>\n",
    "__21__<br>\n",
    "__321__<br>\n",
    "__4321__<br>\n",
    "#### Input format :\n",
    "Integer N (Total no. of rows)\n",
    "#### Output format :\n",
    "Pattern in N lines\n",
    "#### Constraints\n",
    "0 <= N <= 50\n",
    "#### Sample Input 1:\n",
    "5\n",
    "#### Sample Output 1:\n",
    "__1__<br>\n",
    "__21__<br>\n",
    "__321__<br>\n",
    "__4321__<br>\n",
    "__54321__<br>\n",
    "#### Sample Input 2:\n",
    "6\n",
    "#### Sample Output 2:\n",
    "__1__<br>\n",
    "__21__<br>\n",
    "__321__<br>\n",
    "__4321__<br>\n",
    "__54321__<br>\n",
    "__654321__<br>\n"
   ]
  },
  {
   "cell_type": "code",
   "execution_count": 1,
   "metadata": {},
   "outputs": [
    {
     "name": "stdout",
     "output_type": "stream",
     "text": [
      "6\n",
      "1\n",
      "21\n",
      "321\n",
      "4321\n",
      "54321\n",
      "654321\n"
     ]
    }
   ],
   "source": [
    "n = int(input())\n",
    "i = 1\n",
    "while(i <= n):\n",
    "    j = 1\n",
    "    k = i\n",
    "    while(j <= i):\n",
    "        print(k, end='')\n",
    "        k = k - 1;\n",
    "        j = j + 1\n",
    "    print()\n",
    "    i = i + 1"
   ]
  }
 ],
 "metadata": {
  "kernelspec": {
   "display_name": "Python 3",
   "language": "python",
   "name": "python3"
  },
  "language_info": {
   "codemirror_mode": {
    "name": "ipython",
    "version": 3
   },
   "file_extension": ".py",
   "mimetype": "text/x-python",
   "name": "python",
   "nbconvert_exporter": "python",
   "pygments_lexer": "ipython3",
   "version": "3.7.7"
  }
 },
 "nbformat": 4,
 "nbformat_minor": 4
}

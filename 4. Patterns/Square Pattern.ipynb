{
 "cells": [
  {
   "cell_type": "markdown",
   "metadata": {},
   "source": [
    "### Square Pattern\n",
    "\n",
    "Print the following pattern for the given N number of rows.<br>\n",
    "__Pattern for N = 4__<br>\n",
    "__4444__<br>\n",
    "__4444__<br>\n",
    "__4444__<br>\n",
    "__4444__<br>\n",
    "#### Input format:\n",
    "Integer N (Total no. of rows)\n",
    "#### Output format :\n",
    "Pattern in N lines\n",
    "#### Constraints\n",
    "0 <= N <= 50\n",
    "#### Sample Input 1:\n",
    "7\n",
    "#### Sample Output 1:\n",
    "__7777777__<br>\n",
    "__7777777__<br>\n",
    "__7777777__<br>\n",
    "__7777777__<br>\n",
    "__7777777__<br>\n",
    "__7777777__<br>\n",
    "__7777777__<br>\n",
    "#### Sample Input 1:\n",
    "6\n",
    "#### Sample Output 1:\n",
    "__666666__<br>\n",
    "__666666__<br>\n",
    "__666666__<br>\n",
    "__666666__<br>\n",
    "__666666__<br>\n",
    "__666666__<br>"
   ]
  },
  {
   "cell_type": "code",
   "execution_count": 1,
   "metadata": {},
   "outputs": [
    {
     "name": "stdout",
     "output_type": "stream",
     "text": [
      "7\n",
      "7777777\n",
      "7777777\n",
      "7777777\n",
      "7777777\n",
      "7777777\n",
      "7777777\n",
      "7777777\n"
     ]
    }
   ],
   "source": [
    "n = int(input())\n",
    "i = 1\n",
    "while(i <= n):\n",
    "    j = 1\n",
    "    while(j <= n):\n",
    "        # Print thr jth column\n",
    "        print(n, end='')\n",
    "        j = j + 1\n",
    "    print()\n",
    "    i = i + 1"
   ]
  }
 ],
 "metadata": {
  "kernelspec": {
   "display_name": "Python 3",
   "language": "python",
   "name": "python3"
  },
  "language_info": {
   "codemirror_mode": {
    "name": "ipython",
    "version": 3
   },
   "file_extension": ".py",
   "mimetype": "text/x-python",
   "name": "python",
   "nbconvert_exporter": "python",
   "pygments_lexer": "ipython3",
   "version": "3.7.7"
  }
 },
 "nbformat": 4,
 "nbformat_minor": 4
}

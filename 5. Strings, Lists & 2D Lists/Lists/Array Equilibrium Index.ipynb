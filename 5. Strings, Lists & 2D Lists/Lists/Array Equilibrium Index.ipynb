{
 "cells": [
  {
   "cell_type": "markdown",
   "id": "2bfa09cc",
   "metadata": {},
   "source": [
    "# Array Equilibrium Index"
   ]
  },
  {
   "cell_type": "markdown",
   "id": "b47b3db4",
   "metadata": {},
   "source": [
    "For a given array/list(ARR) of size 'N,' find and return the 'Equilibrium Index' of the array/list.<br>\n",
    "Equilibrium Index of an array/list is an index 'i' such that the sum of elements at indices [0 to (i - 1)] is equal to the sum of elements at indices [(i + 1) to (N-1)]. One thing to note here is, the item at the index 'i' is not included in either part.<br>\n",
    "If more than one equilibrium indices are present, then the index appearing first in left to right fashion should be returned. Negative one(-1) if no such index is present.<br>\n",
    "__Example:__<br>\n",
    "Let's consider an array/list Arr = [2, 3, 10, -10, 4, 2, 9]  of size, N = 7.<br>\n",
    "\n",
    "There exist two equilibrium indices, one at 2 and another at 3.<br>\n",
    "\n",
    "At index 2, the sum of all the elements to the left, [2 + 3] is 5, and the elements to its right, [-10 + 4 + 2 + 9] is also 5. Hence index 2 is an equilibrium index according to the condition we want to achieve. Mind it that we haven't included the item at index 2, which is 10, to either of the parts.<br>\n",
    "\n",
    "Similarly, we can see at index 3, the elements to its left sum up to 15 and to the right, sum up to 15 either.<br> \n",
    "\n",
    "Since index 2 comes early in the order, left to right, the answer would be 2.<br>\n",
    "__Input Format :__<br>\n",
    "The first line contains an Integer 't' which denotes the number of test cases or queries to be run. Then the test cases follow.<br>\n",
    "\n",
    "The first line of each test case or query contains an integer 'N' representing the size of the first array/list.<br>\n",
    "\n",
    "The second line contains 'N' single space separated integers representing the elements of the array/list<br>\n",
    "__Output Format :__<br>\n",
    "For each test case, print the 'Equilibrium Index'.<br>\n",
    "\n",
    "Output for every test case will be printed in a separate line.<br>\n",
    "__Constraints :__<br>\n",
    "1 <= t <= 10^2<br>\n",
    "0 <= N <= 10^6<br>\n",
    "\n",
    "Time Limit: 1 sec<br>\n",
    "__Sample Input 1 :__<br>\n",
    "1<br>\n",
    "5<br>\n",
    "1 4 9 3 2<br>\n",
    "__Sample Output 1 :__<br>\n",
    "2<br>\n",
    "__Sample Input 2 :__<br>\n",
    "2<br>\n",
    "3<br>\n",
    "1 4 6<br>\n",
    "3<br>\n",
    "1 -1 4<br>.\n",
    "__Sample Output 2 :__<br>\n",
    "-1<br>\n",
    "2<br>"
   ]
  },
  {
   "cell_type": "code",
   "execution_count": 15,
   "id": "5910fff9",
   "metadata": {},
   "outputs": [],
   "source": [
    "def equilibriumIndex(a):\n",
    "    N = len(a)\n",
    "    pos = -1;\n",
    "    for i in range(1,N):\n",
    "        l1 = a[0:i]\n",
    "        sum1 = sum(l1)\n",
    "        l2 = a[(i+1):N]\n",
    "        sum2 = sum(l2)\n",
    "        if(sum1 == sum2):\n",
    "            pos = i\n",
    "            break;\n",
    "    print(pos)"
   ]
  },
  {
   "cell_type": "code",
   "execution_count": 16,
   "id": "3def0177",
   "metadata": {},
   "outputs": [
    {
     "name": "stdout",
     "output_type": "stream",
     "text": [
      "2\n",
      "3\n",
      "1 4 6\n",
      "-1\n",
      "3\n",
      "1 -1 4\n",
      "2\n"
     ]
    }
   ],
   "source": [
    "t = int(input())\n",
    "for i in range(t):\n",
    "    n = int(input())\n",
    "    a = [int(s) for s in input().split()]\n",
    "    equilibriumIndex(a)"
   ]
  }
 ],
 "metadata": {
  "kernelspec": {
   "display_name": "Python 3",
   "language": "python",
   "name": "python3"
  },
  "language_info": {
   "codemirror_mode": {
    "name": "ipython",
    "version": 3
   },
   "file_extension": ".py",
   "mimetype": "text/x-python",
   "name": "python",
   "nbconvert_exporter": "python",
   "pygments_lexer": "ipython3",
   "version": "3.7.10"
  },
  "toc": {
   "base_numbering": 1,
   "nav_menu": {},
   "number_sections": false,
   "sideBar": true,
   "skip_h1_title": false,
   "title_cell": "Table of Contents",
   "title_sidebar": "Contents",
   "toc_cell": false,
   "toc_position": {},
   "toc_section_display": true,
   "toc_window_display": false
  }
 },
 "nbformat": 4,
 "nbformat_minor": 5
}

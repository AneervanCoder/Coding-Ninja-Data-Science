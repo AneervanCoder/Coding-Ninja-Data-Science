{
 "cells": [
  {
   "cell_type": "markdown",
   "id": "d516a907",
   "metadata": {},
   "source": [
    "# Row Wise Sum"
   ]
  },
  {
   "cell_type": "markdown",
   "id": "d7b93e86",
   "metadata": {},
   "source": [
    "For a given two-dimensional integer array/list of size (N x M), find and print the sum of each of the row elements in a single line, separated by a single space.<br>\n",
    "__Input Format :__<br>\n",
    "The first line contains an Integer 't' which denotes the number of test cases or queries to be run. Then the test cases follow.<br>\n",
    "\n",
    "First line of each test case or query contains two integer values, 'N' and 'M', separated by a single space. They represent the 'rows' and 'columns' respectively, for the two-dimensional array/list.<br>\n",
    "\n",
    "Second line onwards, the next 'N' lines or rows represent the ith row values.<br>\n",
    "\n",
    "Each of the ith row constitutes 'M' column values separated by a single space.<br>\n",
    "__Output Format :__<br>\n",
    "For each test case, print the sum of every ith row elements in a single line separated by a single space.<br>\n",
    "\n",
    "Output for every test case will be printed in a seperate line.<br>\n",
    "__Constraints :__<br>\n",
    "1 <= t <= 10^2<br>\n",
    "0 <= N <= 10^3<br>\n",
    "0 <= M <= 10^3<br>\n",
    "Time Limit: 1sec<br>\n",
    "__Sample Input 1:__<br>\n",
    "1<br>\n",
    "4 2 <br> \n",
    "1 2 <br>\n",
    "3 4 <br>\n",
    "5 6 <br>\n",
    "7 8<br>\n",
    "__Sample Output 1:__<br>\n",
    "3 7 11 15 <br>\n",
    "__Sample Input 2:__<br>\n",
    "2<br>\n",
    "2 5 <br>\n",
    "4 5 3 2 6<br> \n",
    "7 5 3 8 9<br>\n",
    "4 4<br>\n",
    "1 2 3 4<br>\n",
    "9 8 7 6<br>\n",
    "3 4 5 6<br>\n",
    "-1 1 -10 5<br>\n",
    "__Sample Output 2:__<br>\n",
    "20 32 <br>\n",
    "10 30 18 -5<br> \n"
   ]
  },
  {
   "cell_type": "code",
   "execution_count": 1,
   "id": "1ba32dd4",
   "metadata": {},
   "outputs": [
    {
     "name": "stdout",
     "output_type": "stream",
     "text": [
      "4 4\n"
     ]
    },
    {
     "data": {
      "text/plain": [
       "4"
      ]
     },
     "execution_count": 1,
     "metadata": {},
     "output_type": "execute_result"
    }
   ],
   "source": [
    "s = input().split()\n",
    "n = int(s[0]) # rows\n",
    "n\n",
    "m = int(s[1]) # columns\n",
    "m"
   ]
  },
  {
   "cell_type": "code",
   "execution_count": 1,
   "id": "c9fe2f78",
   "metadata": {},
   "outputs": [],
   "source": [
    "def row_wise_sum(a):\n",
    "    size = len(a)\n",
    "    sum = 0\n",
    "    if size == 0:\n",
    "        return\n",
    "    for i in range(m):\n",
    "        for j in range(n):\n",
    "           sum += a[i][j]\n",
    "        print(sum, end=' ')\n",
    "        sum = 0\n",
    "    print('\\n')"
   ]
  },
  {
   "cell_type": "code",
   "execution_count": 5,
   "id": "d18d3dac",
   "metadata": {},
   "outputs": [
    {
     "name": "stdout",
     "output_type": "stream",
     "text": [
      "2\n",
      "2 5\n",
      "4 5 3 2 6\n",
      "7 5 3 8 9\n",
      "20 32 \n",
      "\n",
      "4 4 \n",
      "1 2 3 4\n",
      "9 8 7 6\n",
      "3 4 5 6\n",
      "-1 1 -10 5\n",
      "10 30 18 -5 \n",
      "\n"
     ]
    }
   ],
   "source": [
    "t = int(input())\n",
    "for i in range(t):\n",
    "    sizes = input().split()\n",
    "    m = int(sizes[0]) # rows\n",
    "    n = int(sizes[1]) # columns\n",
    "    l = []\n",
    "    for i in range(m):\n",
    "        next_row = [int(i) for i in input().split()]\n",
    "        l.append(next_row)\n",
    "    row_wise_sum(l)"
   ]
  },
  {
   "cell_type": "code",
   "execution_count": null,
   "id": "60d0b6a7",
   "metadata": {},
   "outputs": [],
   "source": []
  }
 ],
 "metadata": {
  "kernelspec": {
   "display_name": "Python 3",
   "language": "python",
   "name": "python3"
  },
  "language_info": {
   "codemirror_mode": {
    "name": "ipython",
    "version": 3
   },
   "file_extension": ".py",
   "mimetype": "text/x-python",
   "name": "python",
   "nbconvert_exporter": "python",
   "pygments_lexer": "ipython3",
   "version": "3.7.10"
  },
  "toc": {
   "base_numbering": 1,
   "nav_menu": {},
   "number_sections": false,
   "sideBar": true,
   "skip_h1_title": false,
   "title_cell": "Table of Contents",
   "title_sidebar": "Contents",
   "toc_cell": false,
   "toc_position": {},
   "toc_section_display": true,
   "toc_window_display": false
  }
 },
 "nbformat": 4,
 "nbformat_minor": 5
}

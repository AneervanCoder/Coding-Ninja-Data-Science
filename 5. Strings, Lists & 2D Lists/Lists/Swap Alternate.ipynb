{
 "cells": [
  {
   "cell_type": "markdown",
   "metadata": {},
   "source": [
    "# Swap Alternate\n",
    "\n",
    "You have been given an array/list(ARR) of size N. You need to swap every pair of alternate elements in the array/list.<br>\n",
    "You don't need to print or return anything, just change in the input array itself.<br>\n",
    "__Input Format :__<br>\n",
    "The first line contains an Integer 't' which denotes the number of test cases or queries to be run. Then the test cases follow.<br>\n",
    "\n",
    "First line of each test case or query contains an integer 'N' representing the size of the array/list.<br>\n",
    "\n",
    "Second line contains 'N' single space separated integers representing the elements in the array/list.<br>\n",
    "__Output Format :__<br>\n",
    "For each test case, print the elements of the resulting array in a single row separated by a single space.<br>\n",
    "\n",
    "Output for every test case will be printed in a separate line.<br>\n",
    "__Constraints :__<br>\n",
    "1 <= t <= 10^2<br>\n",
    "0 <= N <= 10^5<br>\n",
    "Time Limit: 1sec<br>\n",
    "__Sample Input 1:__<br>\n",
    "1<br>\n",
    "6<br>\n",
    "9 3 6 12 4 32<br>\n",
    "__Sample Output 1 :__<br>\n",
    "3 9 12 6 32 4<br>\n",
    "__Sample Input 2:__<br>\n",
    "2<br>\n",
    "9<br>\n",
    "9 3 6 12 4 32 5 11 19<br>\n",
    "4<br>\n",
    "1 2 3 4<br>\n",
    "__Sample Output 2 :__<br>\n",
    "3 9 12 6 32 4 11 5 19<br> \n",
    "2 1 4 3<br>"
   ]
  },
  {
   "cell_type": "code",
   "execution_count": 5,
   "metadata": {},
   "outputs": [
    {
     "name": "stdout",
     "output_type": "stream",
     "text": [
      "2\n",
      "9\n",
      "9 3 6 12 4 32 5 11 19\n",
      "[3, 9, 12, 6, 32, 4, 11, 5, 19]\n",
      "4\n",
      "1 2 3 4\n",
      "[2, 1, 4, 3]\n"
     ]
    }
   ],
   "source": [
    "t = int(input())\n",
    "\n",
    "for i in range(t):\n",
    "    n = int(input())\n",
    "    l = [int(s) for s in input().split()]\n",
    "    \n",
    "    j = 0\n",
    "    while j < len(l)-1:\n",
    "        #t = l[j]\n",
    "        #l[j] = l[j+1]\n",
    "        #l[j+1] = t\n",
    "        l[j], l[j+1] = l[j+1], l[j]\n",
    "        j += 2\n",
    "    print(l)"
   ]
  }
 ],
 "metadata": {
  "kernelspec": {
   "display_name": "Python 3",
   "language": "python",
   "name": "python3"
  },
  "language_info": {
   "codemirror_mode": {
    "name": "ipython",
    "version": 3
   },
   "file_extension": ".py",
   "mimetype": "text/x-python",
   "name": "python",
   "nbconvert_exporter": "python",
   "pygments_lexer": "ipython3",
   "version": "3.7.7"
  }
 },
 "nbformat": 4,
 "nbformat_minor": 4
}

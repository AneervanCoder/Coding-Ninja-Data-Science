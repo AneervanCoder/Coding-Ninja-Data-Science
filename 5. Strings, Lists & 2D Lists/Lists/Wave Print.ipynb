{
 "cells": [
  {
   "cell_type": "markdown",
   "id": "eb4b39f6",
   "metadata": {},
   "source": [
    "# Wave Print"
   ]
  },
  {
   "cell_type": "markdown",
   "id": "f364908b",
   "metadata": {},
   "source": [
    "For a given two-dimensional integer array/list of size (N x M), print the array/list in a sine wave order, i.e, print the first column top to bottom, next column bottom to top and so on.<br>\n",
    "__Input format :__<br>\n",
    "The first line contains an Integer 't' which denotes the number of test cases or queries to be run. Then the test cases follow.<br>\n",
    "\n",
    "First line of each test case or query contains two integer values, 'N' and 'M', separated by a single space. They represent the 'rows' and 'columns' respectively, for the two-dimensional array/list.<br>\n",
    "\n",
    "Second line onwards, the next 'N' lines or rows represent the ith row values.<br>\n",
    "\n",
    "Each of the ith row constitutes 'M' column values separated by a single space.<br>\n",
    "__Output format :__<br>\n",
    "For each test case, print the elements of the two-dimensional array/list in the sine wave order in a single line, separated by a single space.<br>\n",
    "\n",
    "Output for every test case will be printed in a seperate line.<br>\n",
    "__Constraints :__<br>\n",
    "1 <= t <= 10^2<br>\n",
    "0 <= N <= 10^3<br>\n",
    "0 <= M <= 10^3<br>\n",
    "Time Limit: 1sec<br>\n",
    "__Sample Input 1:__<br>\n",
    "1<br>\n",
    "3 4<br> \n",
    "1  2  3  4<br> \n",
    "5  6  7  8 <br>\n",
    "9 10 11 12<br>\n",
    "__Sample Output 1:__\n",
    "1 5 9 10 6 2 3 7 11 12 8 4<br>\n",
    "__Sample Input 2:__<br>\n",
    "2<br>\n",
    "5 3 <br>\n",
    "1 2 3 <br>\n",
    "4 5 6 <br>\n",
    "7 8 9 <br>\n",
    "10 11 12 <br>\n",
    "13 14 15<br>\n",
    "3 3<br>\n",
    "10 20 30<br> \n",
    "40 50 60<br>\n",
    "70 80 90<br>\n",
    "__Sample Output 2:__<br>\n",
    "1 4 7 10 13 14 11 8 5 2 3 6 9 12 15<br> \n",
    "10 40 70 80 50 20 30 60 90 <br>\n"
   ]
  },
  {
   "cell_type": "code",
   "execution_count": 8,
   "id": "fffd2cec",
   "metadata": {},
   "outputs": [
    {
     "data": {
      "text/plain": [
       "[[1, 2, 3, 4], [5, 6, 7, 8, 10], [9, 10, 11, 12]]"
      ]
     },
     "execution_count": 8,
     "metadata": {},
     "output_type": "execute_result"
    }
   ],
   "source": [
    "mat = [[1,2,3,4], [5,6,7,8,10], [9,10,11,12]]\n",
    "mat"
   ]
  },
  {
   "cell_type": "code",
   "execution_count": 10,
   "id": "8b77a102",
   "metadata": {},
   "outputs": [
    {
     "data": {
      "text/plain": [
       "4"
      ]
     },
     "execution_count": 10,
     "metadata": {},
     "output_type": "execute_result"
    }
   ],
   "source": [
    "a = len(l[0])\n",
    "a"
   ]
  },
  {
   "cell_type": "code",
   "execution_count": 15,
   "id": "c02d4ddd",
   "metadata": {},
   "outputs": [
    {
     "name": "stdout",
     "output_type": "stream",
     "text": [
      "1\n",
      "3 4\n",
      "1 2 3 4\n",
      "5 6 7 8\n",
      "9 10 11 12\n",
      "1 5 9 10 6 2 3 7 11 12 8 4 "
     ]
    }
   ],
   "source": [
    "t = int(input())\n",
    "for i in range(t):\n",
    "    sizes = input().split()\n",
    "    m = int(sizes[0]) # rows\n",
    "    n = int(sizes[1]) # columns\n",
    "    l = []\n",
    "    for i in range(m):\n",
    "        next_row = [int(i) for i in input().split()]\n",
    "        l.append(next_row)\n",
    "    wavePrint(l)"
   ]
  },
  {
   "cell_type": "code",
   "execution_count": 14,
   "id": "6dd3f6bb",
   "metadata": {},
   "outputs": [
    {
     "name": "stdout",
     "output_type": "stream",
     "text": [
      "\n",
      "\n"
     ]
    }
   ],
   "source": [
    "def wavePrint(l):\n",
    "    numOfRows = len(l) # number of rows\n",
    "    numOfCols = len(l[0]) # number of columns\n",
    "    for col in range(numOfCols):\n",
    "        if(col % 2 == 0):\n",
    "            for row in range(numOfRows):\n",
    "                print(l[row][col], end=' ')\n",
    "        else:\n",
    "            for row in range(numOfRows-1,-1,-1):\n",
    "                print(l[row][col], end=' ')\n",
    "print('\\n')"
   ]
  },
  {
   "cell_type": "code",
   "execution_count": null,
   "id": "e79844fe",
   "metadata": {},
   "outputs": [],
   "source": []
  }
 ],
 "metadata": {
  "kernelspec": {
   "display_name": "Python 3",
   "language": "python",
   "name": "python3"
  },
  "language_info": {
   "codemirror_mode": {
    "name": "ipython",
    "version": 3
   },
   "file_extension": ".py",
   "mimetype": "text/x-python",
   "name": "python",
   "nbconvert_exporter": "python",
   "pygments_lexer": "ipython3",
   "version": "3.7.10"
  },
  "toc": {
   "base_numbering": 1,
   "nav_menu": {},
   "number_sections": false,
   "sideBar": true,
   "skip_h1_title": false,
   "title_cell": "Table of Contents",
   "title_sidebar": "Contents",
   "toc_cell": false,
   "toc_position": {},
   "toc_section_display": true,
   "toc_window_display": false
  }
 },
 "nbformat": 4,
 "nbformat_minor": 5
}

{
 "cells": [
  {
   "cell_type": "markdown",
   "metadata": {},
   "source": [
    "### Check Palindrome\n",
    "\n",
    "Given a string, determine if it is a palindrome, considering only alphanumeric characters.<br>\n",
    "__Palindrome__<br>\n",
    "A palindrome is a word, number, phrase, or other sequences of characters which read the same backwards and forwards.<br>\n",
    "__Example:__<br>\n",
    "If the input string happens to be, \"malayalam\" then as we see that this word can be read the same as forward and backwards, it is said to be a valid palindrome.<br>\n",
    "\n",
    "The expected output for this example will print, 'true'.<br>\n",
    "From that being said, you are required to return a boolean value from the function that has been asked to implement.<br>\n",
    "__Input Format:__<br>\n",
    "The first and only line of input contains a string without any leading and trailing spaces. All the characters in the string would be in lower case.<br>\n",
    "__Output Format:__<br>\n",
    "The only line of output prints either 'true' or 'false'.<br>\n",
    "__Note:__<br>\n",
    "You are not required to print anything. It has already been taken care of.<br>\n",
    "__Constraints:__<br>\n",
    "0 <= N <= 10^6<br>\n",
    "Where N is the length of the input string.<br>\n",
    "\n",
    "Time Limit: 1 second<br>\n",
    "__Sample Input 1 :__<br>\n",
    "abcdcba<br>\n",
    "__Sample Output 1 :__<br>\n",
    "true<br> \n",
    "__Sample Input 2:__<br>\n",
    "coding<br>\n",
    "__Sample Output 2:__<br>\n",
    "false\n"
   ]
  },
  {
   "cell_type": "code",
   "execution_count": 1,
   "metadata": {},
   "outputs": [],
   "source": [
    "def isPalindrome(str):\n",
    "    i = 0\n",
    "    j = len(str) - 1\n",
    "    while(i <= j):\n",
    "        if(str[i] != str[j]):\n",
    "            return False\n",
    "        else:\n",
    "            i = i + 1\n",
    "            j = j - 1\n",
    "    return True"
   ]
  },
  {
   "cell_type": "code",
   "execution_count": 4,
   "metadata": {},
   "outputs": [
    {
     "name": "stdout",
     "output_type": "stream",
     "text": [
      "coding\n",
      "false\n"
     ]
    }
   ],
   "source": [
    "str = input()\n",
    "checkPalindrome = isPalindrome(str)\n",
    "if(checkPalindrome):\n",
    "    print(\"true\")\n",
    "else:\n",
    "    print(\"false\")"
   ]
  },
  {
   "cell_type": "code",
   "execution_count": null,
   "metadata": {},
   "outputs": [],
   "source": []
  }
 ],
 "metadata": {
  "kernelspec": {
   "display_name": "Python 3",
   "language": "python",
   "name": "python3"
  },
  "language_info": {
   "codemirror_mode": {
    "name": "ipython",
    "version": 3
   },
   "file_extension": ".py",
   "mimetype": "text/x-python",
   "name": "python",
   "nbconvert_exporter": "python",
   "pygments_lexer": "ipython3",
   "version": "3.7.7"
  }
 },
 "nbformat": 4,
 "nbformat_minor": 4
}

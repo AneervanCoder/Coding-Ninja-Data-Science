{
 "cells": [
  {
   "cell_type": "markdown",
   "metadata": {},
   "source": [
    "## Print all substrings\n",
    "\n",
    "For a given input string(str), write a function to print all the possible substrings.<br>\n",
    "__Substring__<br>\n",
    "A substring is a contiguous sequence of characters within a string.<br> \n",
    "Example: \"cod\" is a substring of \"coding\". Whereas, \"cdng\" is not as the characters taken are not contiguous<br>\n",
    "__Input Format:__<br>\n",
    "The first and only line of input contains a string without any leading and trailing spaces. All the characters in the string would be in lower case.<br>\n",
    "__Output Format:__<br>\n",
    "Print the total number of substrings possible, where every substring is printed on a single line and hence the total number of output lines will be equal to the total number of substrings.<br>\n",
    "__Note:__<br>\n",
    "The order in which the substrings are printed, does not matter.<br>\n",
    "__Constraints:__<br>\n",
    "0 <= N <= 10^6<br>\n",
    "Where N is the length of the input string.<br>\n",
    "\n",
    "Time Limit: 1 second<br>\n",
    "__Sample Input 1:__<br>\n",
    "abc<br>\n",
    "__Sample Output 1:__<br>\n",
    "a<br> \n",
    "ab<br> \n",
    "abc<br> \n",
    "b<br> \n",
    "bc<br> \n",
    "c<br> \n",
    "__Sample Input 2:__<br>\n",
    "co<br>\n",
    "__Sample Output 2:__\n",
    "c<br> \n",
    "co<br> \n",
    "o<br>\n"
   ]
  },
  {
   "cell_type": "code",
   "execution_count": 4,
   "metadata": {},
   "outputs": [
    {
     "name": "stdout",
     "output_type": "stream",
     "text": [
      "abc\n",
      "a\n",
      "ab\n",
      "abc\n",
      "b\n",
      "bc\n",
      "c\n"
     ]
    }
   ],
   "source": [
    "str = input()\n",
    "i = 0\n",
    "n = len(str)\n",
    "for i in range(n):\n",
    "    for j in range(i+1, n+1):\n",
    "        sub = str[i:j]\n",
    "        print(sub)"
   ]
  }
 ],
 "metadata": {
  "kernelspec": {
   "display_name": "Python 3",
   "language": "python",
   "name": "python3"
  },
  "language_info": {
   "codemirror_mode": {
    "name": "ipython",
    "version": 3
   },
   "file_extension": ".py",
   "mimetype": "text/x-python",
   "name": "python",
   "nbconvert_exporter": "python",
   "pygments_lexer": "ipython3",
   "version": "3.7.7"
  }
 },
 "nbformat": 4,
 "nbformat_minor": 4
}
